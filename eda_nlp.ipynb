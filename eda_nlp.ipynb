{
 "cells": [
  {
   "cell_type": "code",
   "execution_count": 82,
   "metadata": {},
   "outputs": [],
   "source": [
    "import pandas as pd\n",
    "import pandas as pd\n",
    "import numpy as np\n",
    "import re\n",
    "import seaborn as sns\n",
    "import matplotlib.pyplot as plt\n",
    "import collections\n",
    "from collections import Counter\n",
    "import datetime as dt"
   ]
  },
  {
   "cell_type": "code",
   "execution_count": 13,
   "metadata": {},
   "outputs": [
    {
     "name": "stdout",
     "output_type": "stream",
     "text": [
      "Collecting spacy\n",
      "  Downloading spacy-3.7.4-cp39-cp39-macosx_10_9_x86_64.whl (6.9 MB)\n",
      "\u001b[K     |████████████████████████████████| 6.9 MB 3.5 MB/s eta 0:00:01\n",
      "\u001b[?25hCollecting wasabi<1.2.0,>=0.9.1\n",
      "  Using cached wasabi-1.1.2-py3-none-any.whl (27 kB)\n",
      "Collecting cymem<2.1.0,>=2.0.2\n",
      "  Downloading cymem-2.0.8-cp39-cp39-macosx_10_9_x86_64.whl (42 kB)\n",
      "\u001b[K     |████████████████████████████████| 42 kB 2.4 MB/s  eta 0:00:01\n",
      "\u001b[?25hCollecting langcodes<4.0.0,>=3.2.0\n",
      "  Using cached langcodes-3.3.0-py3-none-any.whl (181 kB)\n",
      "Collecting srsly<3.0.0,>=2.4.3\n",
      "  Downloading srsly-2.4.8-cp39-cp39-macosx_10_9_x86_64.whl (493 kB)\n",
      "\u001b[K     |████████████████████████████████| 493 kB 36.5 MB/s eta 0:00:01\n",
      "\u001b[?25hCollecting thinc<8.3.0,>=8.2.2\n",
      "  Downloading thinc-8.2.3-cp39-cp39-macosx_10_9_x86_64.whl (880 kB)\n",
      "\u001b[K     |████████████████████████████████| 880 kB 70.9 MB/s eta 0:00:01\n",
      "\u001b[?25hCollecting catalogue<2.1.0,>=2.0.6\n",
      "  Downloading catalogue-2.0.10-py3-none-any.whl (17 kB)\n",
      "Collecting spacy-loggers<2.0.0,>=1.0.0\n",
      "  Downloading spacy_loggers-1.0.5-py3-none-any.whl (22 kB)\n",
      "Collecting spacy-legacy<3.1.0,>=3.0.11\n",
      "  Using cached spacy_legacy-3.0.12-py2.py3-none-any.whl (29 kB)\n",
      "Requirement already satisfied: jinja2 in /Users/rachelpawlik/opt/anaconda3/lib/python3.9/site-packages (from spacy) (2.11.3)\n",
      "Collecting pydantic!=1.8,!=1.8.1,<3.0.0,>=1.7.4\n",
      "  Downloading pydantic-2.6.3-py3-none-any.whl (395 kB)\n",
      "\u001b[K     |████████████████████████████████| 395 kB 35.5 MB/s eta 0:00:01\n",
      "\u001b[?25hRequirement already satisfied: tqdm<5.0.0,>=4.38.0 in /Users/rachelpawlik/opt/anaconda3/lib/python3.9/site-packages (from spacy) (4.62.3)\n",
      "Requirement already satisfied: numpy>=1.19.0 in /Users/rachelpawlik/opt/anaconda3/lib/python3.9/site-packages (from spacy) (1.20.3)\n",
      "Requirement already satisfied: packaging>=20.0 in /Users/rachelpawlik/opt/anaconda3/lib/python3.9/site-packages (from spacy) (21.0)\n",
      "Collecting smart-open<7.0.0,>=5.2.1\n",
      "  Downloading smart_open-6.4.0-py3-none-any.whl (57 kB)\n",
      "\u001b[K     |████████████████████████████████| 57 kB 14.7 MB/s eta 0:00:01\n",
      "\u001b[?25hCollecting typer<0.10.0,>=0.3.0\n",
      "  Using cached typer-0.9.0-py3-none-any.whl (45 kB)\n",
      "Collecting preshed<3.1.0,>=3.0.2\n",
      "  Downloading preshed-3.0.9-cp39-cp39-macosx_10_9_x86_64.whl (133 kB)\n",
      "\u001b[K     |████████████████████████████████| 133 kB 67.0 MB/s eta 0:00:01\n",
      "\u001b[?25hRequirement already satisfied: setuptools in /Users/rachelpawlik/opt/anaconda3/lib/python3.9/site-packages (from spacy) (58.0.4)\n",
      "Requirement already satisfied: requests<3.0.0,>=2.13.0 in /Users/rachelpawlik/opt/anaconda3/lib/python3.9/site-packages (from spacy) (2.27.1)\n",
      "Collecting weasel<0.4.0,>=0.1.0\n",
      "  Downloading weasel-0.3.4-py3-none-any.whl (50 kB)\n",
      "\u001b[K     |████████████████████████████████| 50 kB 18.5 MB/s eta 0:00:01\n",
      "\u001b[?25hCollecting murmurhash<1.1.0,>=0.28.0\n",
      "  Downloading murmurhash-1.0.10-cp39-cp39-macosx_10_9_x86_64.whl (26 kB)\n",
      "Requirement already satisfied: pyparsing>=2.0.2 in /Users/rachelpawlik/opt/anaconda3/lib/python3.9/site-packages (from packaging>=20.0->spacy) (3.0.4)\n",
      "Collecting annotated-types>=0.4.0\n",
      "  Downloading annotated_types-0.6.0-py3-none-any.whl (12 kB)\n",
      "Collecting pydantic-core==2.16.3\n",
      "  Downloading pydantic_core-2.16.3-cp39-cp39-macosx_10_12_x86_64.whl (1.9 MB)\n",
      "\u001b[K     |████████████████████████████████| 1.9 MB 77.9 MB/s eta 0:00:01\n",
      "\u001b[?25hCollecting typing-extensions>=4.6.1\n",
      "  Downloading typing_extensions-4.10.0-py3-none-any.whl (33 kB)\n",
      "Requirement already satisfied: urllib3<1.27,>=1.21.1 in /Users/rachelpawlik/opt/anaconda3/lib/python3.9/site-packages (from requests<3.0.0,>=2.13.0->spacy) (1.26.7)\n",
      "Requirement already satisfied: certifi>=2017.4.17 in /Users/rachelpawlik/opt/anaconda3/lib/python3.9/site-packages (from requests<3.0.0,>=2.13.0->spacy) (2021.10.8)\n",
      "Requirement already satisfied: idna<4,>=2.5 in /Users/rachelpawlik/opt/anaconda3/lib/python3.9/site-packages (from requests<3.0.0,>=2.13.0->spacy) (3.2)\n",
      "Requirement already satisfied: charset-normalizer~=2.0.0 in /Users/rachelpawlik/opt/anaconda3/lib/python3.9/site-packages (from requests<3.0.0,>=2.13.0->spacy) (2.0.4)\n",
      "Collecting confection<1.0.0,>=0.0.1\n",
      "  Downloading confection-0.1.4-py3-none-any.whl (35 kB)\n",
      "Collecting blis<0.8.0,>=0.7.8\n",
      "  Downloading blis-0.7.11-cp39-cp39-macosx_10_9_x86_64.whl (6.1 MB)\n",
      "\u001b[K     |████████████████████████████████| 6.1 MB 58.6 MB/s eta 0:00:01\n",
      "\u001b[?25hRequirement already satisfied: click<9.0.0,>=7.1.1 in /Users/rachelpawlik/opt/anaconda3/lib/python3.9/site-packages (from typer<0.10.0,>=0.3.0->spacy) (8.0.3)\n",
      "Collecting cloudpathlib<0.17.0,>=0.7.0\n",
      "  Downloading cloudpathlib-0.16.0-py3-none-any.whl (45 kB)\n",
      "\u001b[K     |████████████████████████████████| 45 kB 7.5 MB/s  eta 0:00:01\n",
      "\u001b[?25hRequirement already satisfied: MarkupSafe>=0.23 in /Users/rachelpawlik/opt/anaconda3/lib/python3.9/site-packages (from jinja2->spacy) (1.1.1)\n",
      "Installing collected packages: typing-extensions, pydantic-core, catalogue, annotated-types, srsly, pydantic, murmurhash, cymem, wasabi, typer, smart-open, preshed, confection, cloudpathlib, blis, weasel, thinc, spacy-loggers, spacy-legacy, langcodes, spacy\n",
      "  Attempting uninstall: typing-extensions\n",
      "    Found existing installation: typing-extensions 3.10.0.2\n",
      "    Uninstalling typing-extensions-3.10.0.2:\n",
      "      Successfully uninstalled typing-extensions-3.10.0.2\n",
      "Successfully installed annotated-types-0.6.0 blis-0.7.11 catalogue-2.0.10 cloudpathlib-0.16.0 confection-0.1.4 cymem-2.0.8 langcodes-3.3.0 murmurhash-1.0.10 preshed-3.0.9 pydantic-2.6.3 pydantic-core-2.16.3 smart-open-6.4.0 spacy-3.7.4 spacy-legacy-3.0.12 spacy-loggers-1.0.5 srsly-2.4.8 thinc-8.2.3 typer-0.9.0 typing-extensions-4.10.0 wasabi-1.1.2 weasel-0.3.4\n"
     ]
    }
   ],
   "source": [
    "!pip install -U spacy"
   ]
  },
  {
   "cell_type": "code",
   "execution_count": 16,
   "metadata": {},
   "outputs": [
    {
     "name": "stdout",
     "output_type": "stream",
     "text": [
      "Collecting en-core-web-sm==3.7.1\n",
      "  Downloading https://github.com/explosion/spacy-models/releases/download/en_core_web_sm-3.7.1/en_core_web_sm-3.7.1-py3-none-any.whl (12.8 MB)\n",
      "\u001b[K     |████████████████████████████████| 12.8 MB 3.3 MB/s eta 0:00:01\n",
      "\u001b[?25hRequirement already satisfied: spacy<3.8.0,>=3.7.2 in /Users/rachelpawlik/opt/anaconda3/lib/python3.9/site-packages (from en-core-web-sm==3.7.1) (3.7.4)\n",
      "Requirement already satisfied: spacy-legacy<3.1.0,>=3.0.11 in /Users/rachelpawlik/opt/anaconda3/lib/python3.9/site-packages (from spacy<3.8.0,>=3.7.2->en-core-web-sm==3.7.1) (3.0.12)\n",
      "Requirement already satisfied: numpy>=1.19.0 in /Users/rachelpawlik/opt/anaconda3/lib/python3.9/site-packages (from spacy<3.8.0,>=3.7.2->en-core-web-sm==3.7.1) (1.20.3)\n",
      "Requirement already satisfied: packaging>=20.0 in /Users/rachelpawlik/opt/anaconda3/lib/python3.9/site-packages (from spacy<3.8.0,>=3.7.2->en-core-web-sm==3.7.1) (21.0)\n",
      "Requirement already satisfied: setuptools in /Users/rachelpawlik/opt/anaconda3/lib/python3.9/site-packages (from spacy<3.8.0,>=3.7.2->en-core-web-sm==3.7.1) (58.0.4)\n",
      "Requirement already satisfied: weasel<0.4.0,>=0.1.0 in /Users/rachelpawlik/opt/anaconda3/lib/python3.9/site-packages (from spacy<3.8.0,>=3.7.2->en-core-web-sm==3.7.1) (0.3.4)\n",
      "Requirement already satisfied: jinja2 in /Users/rachelpawlik/opt/anaconda3/lib/python3.9/site-packages (from spacy<3.8.0,>=3.7.2->en-core-web-sm==3.7.1) (2.11.3)\n",
      "Requirement already satisfied: smart-open<7.0.0,>=5.2.1 in /Users/rachelpawlik/opt/anaconda3/lib/python3.9/site-packages (from spacy<3.8.0,>=3.7.2->en-core-web-sm==3.7.1) (6.4.0)\n",
      "Requirement already satisfied: spacy-loggers<2.0.0,>=1.0.0 in /Users/rachelpawlik/opt/anaconda3/lib/python3.9/site-packages (from spacy<3.8.0,>=3.7.2->en-core-web-sm==3.7.1) (1.0.5)\n",
      "Requirement already satisfied: requests<3.0.0,>=2.13.0 in /Users/rachelpawlik/opt/anaconda3/lib/python3.9/site-packages (from spacy<3.8.0,>=3.7.2->en-core-web-sm==3.7.1) (2.27.1)\n",
      "Requirement already satisfied: preshed<3.1.0,>=3.0.2 in /Users/rachelpawlik/opt/anaconda3/lib/python3.9/site-packages (from spacy<3.8.0,>=3.7.2->en-core-web-sm==3.7.1) (3.0.9)\n",
      "Requirement already satisfied: murmurhash<1.1.0,>=0.28.0 in /Users/rachelpawlik/opt/anaconda3/lib/python3.9/site-packages (from spacy<3.8.0,>=3.7.2->en-core-web-sm==3.7.1) (1.0.10)\n",
      "Requirement already satisfied: thinc<8.3.0,>=8.2.2 in /Users/rachelpawlik/opt/anaconda3/lib/python3.9/site-packages (from spacy<3.8.0,>=3.7.2->en-core-web-sm==3.7.1) (8.2.3)\n",
      "Requirement already satisfied: langcodes<4.0.0,>=3.2.0 in /Users/rachelpawlik/opt/anaconda3/lib/python3.9/site-packages (from spacy<3.8.0,>=3.7.2->en-core-web-sm==3.7.1) (3.3.0)\n",
      "Requirement already satisfied: typer<0.10.0,>=0.3.0 in /Users/rachelpawlik/opt/anaconda3/lib/python3.9/site-packages (from spacy<3.8.0,>=3.7.2->en-core-web-sm==3.7.1) (0.9.0)\n",
      "Requirement already satisfied: pydantic!=1.8,!=1.8.1,<3.0.0,>=1.7.4 in /Users/rachelpawlik/opt/anaconda3/lib/python3.9/site-packages (from spacy<3.8.0,>=3.7.2->en-core-web-sm==3.7.1) (2.6.3)\n",
      "Requirement already satisfied: cymem<2.1.0,>=2.0.2 in /Users/rachelpawlik/opt/anaconda3/lib/python3.9/site-packages (from spacy<3.8.0,>=3.7.2->en-core-web-sm==3.7.1) (2.0.8)\n",
      "Requirement already satisfied: wasabi<1.2.0,>=0.9.1 in /Users/rachelpawlik/opt/anaconda3/lib/python3.9/site-packages (from spacy<3.8.0,>=3.7.2->en-core-web-sm==3.7.1) (1.1.2)\n",
      "Requirement already satisfied: catalogue<2.1.0,>=2.0.6 in /Users/rachelpawlik/opt/anaconda3/lib/python3.9/site-packages (from spacy<3.8.0,>=3.7.2->en-core-web-sm==3.7.1) (2.0.10)\n",
      "Requirement already satisfied: srsly<3.0.0,>=2.4.3 in /Users/rachelpawlik/opt/anaconda3/lib/python3.9/site-packages (from spacy<3.8.0,>=3.7.2->en-core-web-sm==3.7.1) (2.4.8)\n",
      "Requirement already satisfied: tqdm<5.0.0,>=4.38.0 in /Users/rachelpawlik/opt/anaconda3/lib/python3.9/site-packages (from spacy<3.8.0,>=3.7.2->en-core-web-sm==3.7.1) (4.62.3)\n",
      "Requirement already satisfied: pyparsing>=2.0.2 in /Users/rachelpawlik/opt/anaconda3/lib/python3.9/site-packages (from packaging>=20.0->spacy<3.8.0,>=3.7.2->en-core-web-sm==3.7.1) (3.0.4)\n",
      "Requirement already satisfied: typing-extensions>=4.6.1 in /Users/rachelpawlik/opt/anaconda3/lib/python3.9/site-packages (from pydantic!=1.8,!=1.8.1,<3.0.0,>=1.7.4->spacy<3.8.0,>=3.7.2->en-core-web-sm==3.7.1) (4.10.0)\n",
      "Requirement already satisfied: pydantic-core==2.16.3 in /Users/rachelpawlik/opt/anaconda3/lib/python3.9/site-packages (from pydantic!=1.8,!=1.8.1,<3.0.0,>=1.7.4->spacy<3.8.0,>=3.7.2->en-core-web-sm==3.7.1) (2.16.3)\n",
      "Requirement already satisfied: annotated-types>=0.4.0 in /Users/rachelpawlik/opt/anaconda3/lib/python3.9/site-packages (from pydantic!=1.8,!=1.8.1,<3.0.0,>=1.7.4->spacy<3.8.0,>=3.7.2->en-core-web-sm==3.7.1) (0.6.0)\n",
      "Requirement already satisfied: idna<4,>=2.5 in /Users/rachelpawlik/opt/anaconda3/lib/python3.9/site-packages (from requests<3.0.0,>=2.13.0->spacy<3.8.0,>=3.7.2->en-core-web-sm==3.7.1) (3.2)\n",
      "Requirement already satisfied: certifi>=2017.4.17 in /Users/rachelpawlik/opt/anaconda3/lib/python3.9/site-packages (from requests<3.0.0,>=2.13.0->spacy<3.8.0,>=3.7.2->en-core-web-sm==3.7.1) (2021.10.8)\n",
      "Requirement already satisfied: urllib3<1.27,>=1.21.1 in /Users/rachelpawlik/opt/anaconda3/lib/python3.9/site-packages (from requests<3.0.0,>=2.13.0->spacy<3.8.0,>=3.7.2->en-core-web-sm==3.7.1) (1.26.7)\n",
      "Requirement already satisfied: charset-normalizer~=2.0.0 in /Users/rachelpawlik/opt/anaconda3/lib/python3.9/site-packages (from requests<3.0.0,>=2.13.0->spacy<3.8.0,>=3.7.2->en-core-web-sm==3.7.1) (2.0.4)\n",
      "Requirement already satisfied: confection<1.0.0,>=0.0.1 in /Users/rachelpawlik/opt/anaconda3/lib/python3.9/site-packages (from thinc<8.3.0,>=8.2.2->spacy<3.8.0,>=3.7.2->en-core-web-sm==3.7.1) (0.1.4)\n",
      "Requirement already satisfied: blis<0.8.0,>=0.7.8 in /Users/rachelpawlik/opt/anaconda3/lib/python3.9/site-packages (from thinc<8.3.0,>=8.2.2->spacy<3.8.0,>=3.7.2->en-core-web-sm==3.7.1) (0.7.11)\n",
      "Requirement already satisfied: click<9.0.0,>=7.1.1 in /Users/rachelpawlik/opt/anaconda3/lib/python3.9/site-packages (from typer<0.10.0,>=0.3.0->spacy<3.8.0,>=3.7.2->en-core-web-sm==3.7.1) (8.0.3)\n",
      "Requirement already satisfied: cloudpathlib<0.17.0,>=0.7.0 in /Users/rachelpawlik/opt/anaconda3/lib/python3.9/site-packages (from weasel<0.4.0,>=0.1.0->spacy<3.8.0,>=3.7.2->en-core-web-sm==3.7.1) (0.16.0)\n",
      "Requirement already satisfied: MarkupSafe>=0.23 in /Users/rachelpawlik/opt/anaconda3/lib/python3.9/site-packages (from jinja2->spacy<3.8.0,>=3.7.2->en-core-web-sm==3.7.1) (1.1.1)\n",
      "Installing collected packages: en-core-web-sm\n",
      "Successfully installed en-core-web-sm-3.7.1\n",
      "\u001b[38;5;2m✔ Download and installation successful\u001b[0m\n",
      "You can now load the package via spacy.load('en_core_web_sm')\n"
     ]
    }
   ],
   "source": [
    "!python -m spacy download en_core_web_sm"
   ]
  },
  {
   "cell_type": "code",
   "execution_count": 14,
   "metadata": {},
   "outputs": [],
   "source": [
    "import spacy"
   ]
  },
  {
   "cell_type": "code",
   "execution_count": 87,
   "metadata": {},
   "outputs": [],
   "source": [
    "curr_news_df = pd.read_csv('../si485/all_sources_resDf.csv')"
   ]
  },
  {
   "cell_type": "code",
   "execution_count": 88,
   "metadata": {},
   "outputs": [],
   "source": [
    "curr_news_df = curr_news_df.dropna(subset=['text'])\n",
    "curr_news_df = curr_news_df.drop_duplicates(subset=['text'])"
   ]
  },
  {
   "cell_type": "code",
   "execution_count": 89,
   "metadata": {},
   "outputs": [],
   "source": [
    "# adding datetime cols\n",
    "curr_news_df['datetime'] = pd.to_datetime(curr_news_df['publish_date'])\n",
    "curr_news_df['year'] = curr_news_df['datetime'].dt.year\n",
    "curr_news_df['month'] = curr_news_df['datetime'].dt.month\n",
    "curr_news_df['day'] = curr_news_df['datetime'].dt.day"
   ]
  },
  {
   "cell_type": "code",
   "execution_count": 90,
   "metadata": {},
   "outputs": [],
   "source": [
    "curr_news_df.drop(columns=['Unnamed: 0'], inplace=True)"
   ]
  },
  {
   "cell_type": "code",
   "execution_count": 91,
   "metadata": {},
   "outputs": [
    {
     "data": {
      "text/html": [
       "<div>\n",
       "<style scoped>\n",
       "    .dataframe tbody tr th:only-of-type {\n",
       "        vertical-align: middle;\n",
       "    }\n",
       "\n",
       "    .dataframe tbody tr th {\n",
       "        vertical-align: top;\n",
       "    }\n",
       "\n",
       "    .dataframe thead th {\n",
       "        text-align: right;\n",
       "    }\n",
       "</style>\n",
       "<table border=\"1\" class=\"dataframe\">\n",
       "  <thead>\n",
       "    <tr style=\"text-align: right;\">\n",
       "      <th></th>\n",
       "      <th>source_name</th>\n",
       "      <th>source_id</th>\n",
       "      <th>publish_date</th>\n",
       "      <th>title</th>\n",
       "      <th>text</th>\n",
       "      <th>datetime</th>\n",
       "      <th>year</th>\n",
       "      <th>month</th>\n",
       "      <th>day</th>\n",
       "    </tr>\n",
       "  </thead>\n",
       "  <tbody>\n",
       "    <tr>\n",
       "      <th>0</th>\n",
       "      <td>CBC News</td>\n",
       "      <td>cbc-news</td>\n",
       "      <td>2024-01-25T17:08:14Z</td>\n",
       "      <td>Are heat pumps a climate solution in Canada's ...</td>\n",
       "      <td>Our planet is changing. So is our journalism. ...</td>\n",
       "      <td>2024-01-25 17:08:14+00:00</td>\n",
       "      <td>2024</td>\n",
       "      <td>1</td>\n",
       "      <td>25</td>\n",
       "    </tr>\n",
       "    <tr>\n",
       "      <th>1</th>\n",
       "      <td>CBC News</td>\n",
       "      <td>cbc-news</td>\n",
       "      <td>2024-02-02T17:13:17Z</td>\n",
       "      <td>Greta Thunberg, 4 others acquitted on London c...</td>\n",
       "      <td>A judge on Friday acquitted climate activist G...</td>\n",
       "      <td>2024-02-02 17:13:17+00:00</td>\n",
       "      <td>2024</td>\n",
       "      <td>2</td>\n",
       "      <td>2</td>\n",
       "    </tr>\n",
       "    <tr>\n",
       "      <th>2</th>\n",
       "      <td>CBC News</td>\n",
       "      <td>cbc-news</td>\n",
       "      <td>2024-02-01T18:33:06Z</td>\n",
       "      <td>How effective a climate solution is removing C...</td>\n",
       "      <td>Our planet is changing. So is our journalism. ...</td>\n",
       "      <td>2024-02-01 18:33:06+00:00</td>\n",
       "      <td>2024</td>\n",
       "      <td>2</td>\n",
       "      <td>1</td>\n",
       "    </tr>\n",
       "    <tr>\n",
       "      <th>3</th>\n",
       "      <td>CBC News</td>\n",
       "      <td>cbc-news</td>\n",
       "      <td>2024-01-16T22:39:54Z</td>\n",
       "      <td>YouTube earns millions a year channels that pr...</td>\n",
       "      <td>YouTube is making millions of dollars a year f...</td>\n",
       "      <td>2024-01-16 22:39:54+00:00</td>\n",
       "      <td>2024</td>\n",
       "      <td>1</td>\n",
       "      <td>16</td>\n",
       "    </tr>\n",
       "    <tr>\n",
       "      <th>4</th>\n",
       "      <td>CBC News</td>\n",
       "      <td>cbc-news</td>\n",
       "      <td>2024-01-17T09:00:00Z</td>\n",
       "      <td>Climate change threatens northern Ontario's wi...</td>\n",
       "      <td>Tyler Tyance is all too familiar with the long...</td>\n",
       "      <td>2024-01-17 09:00:00+00:00</td>\n",
       "      <td>2024</td>\n",
       "      <td>1</td>\n",
       "      <td>17</td>\n",
       "    </tr>\n",
       "  </tbody>\n",
       "</table>\n",
       "</div>"
      ],
      "text/plain": [
       "  source_name source_id          publish_date  \\\n",
       "0    CBC News  cbc-news  2024-01-25T17:08:14Z   \n",
       "1    CBC News  cbc-news  2024-02-02T17:13:17Z   \n",
       "2    CBC News  cbc-news  2024-02-01T18:33:06Z   \n",
       "3    CBC News  cbc-news  2024-01-16T22:39:54Z   \n",
       "4    CBC News  cbc-news  2024-01-17T09:00:00Z   \n",
       "\n",
       "                                               title  \\\n",
       "0  Are heat pumps a climate solution in Canada's ...   \n",
       "1  Greta Thunberg, 4 others acquitted on London c...   \n",
       "2  How effective a climate solution is removing C...   \n",
       "3  YouTube earns millions a year channels that pr...   \n",
       "4  Climate change threatens northern Ontario's wi...   \n",
       "\n",
       "                                                text  \\\n",
       "0  Our planet is changing. So is our journalism. ...   \n",
       "1  A judge on Friday acquitted climate activist G...   \n",
       "2  Our planet is changing. So is our journalism. ...   \n",
       "3  YouTube is making millions of dollars a year f...   \n",
       "4  Tyler Tyance is all too familiar with the long...   \n",
       "\n",
       "                   datetime  year  month  day  \n",
       "0 2024-01-25 17:08:14+00:00  2024      1   25  \n",
       "1 2024-02-02 17:13:17+00:00  2024      2    2  \n",
       "2 2024-02-01 18:33:06+00:00  2024      2    1  \n",
       "3 2024-01-16 22:39:54+00:00  2024      1   16  \n",
       "4 2024-01-17 09:00:00+00:00  2024      1   17  "
      ]
     },
     "execution_count": 91,
     "metadata": {},
     "output_type": "execute_result"
    }
   ],
   "source": [
    "curr_news_df.head()"
   ]
  },
  {
   "cell_type": "code",
   "execution_count": 92,
   "metadata": {},
   "outputs": [
    {
     "data": {
      "text/plain": [
       "127"
      ]
     },
     "execution_count": 92,
     "metadata": {},
     "output_type": "execute_result"
    }
   ],
   "source": [
    "len(curr_news_df)"
   ]
  },
  {
   "cell_type": "code",
   "execution_count": 93,
   "metadata": {},
   "outputs": [],
   "source": [
    "# will need to align this cleaning with the cleaning and vectorizing that we do\n",
    "nlp = spacy.load('en_core_web_sm') "
   ]
  },
  {
   "cell_type": "code",
   "execution_count": 94,
   "metadata": {},
   "outputs": [
    {
     "data": {
      "text/plain": [
       "'A judge on Friday acquitted climate activist Greta Thunberg of a charge that she had refused to follow a police order to leave a protest that blocked the entrance to a major oil and gas industry conf… [+3535 chars]'"
      ]
     },
     "execution_count": 94,
     "metadata": {},
     "output_type": "execute_result"
    }
   ],
   "source": [
    "curr_news_df['text'][1]"
   ]
  },
  {
   "cell_type": "code",
   "execution_count": 95,
   "metadata": {},
   "outputs": [],
   "source": [
    "# adding col with tokens\n",
    "def tokenize_text(text):\n",
    "     if text is np.NaN:\n",
    "        return []\n",
    "     else:\n",
    "        text = text.lower().strip().replace('\\n', '').replace('\\r', '')\n",
    "        text = re.sub(r'[^\\w\\s]+', '', text)\n",
    "        doc = nlp(text)\n",
    "        return [token.text for token in doc if not token.is_stop]"
   ]
  },
  {
   "cell_type": "code",
   "execution_count": 96,
   "metadata": {},
   "outputs": [],
   "source": [
    "curr_news_df['tokenized_text'] = curr_news_df['text'].apply(tokenize_text)"
   ]
  },
  {
   "cell_type": "code",
   "execution_count": 97,
   "metadata": {},
   "outputs": [],
   "source": [
    "# adding col with most common word\n",
    "\n",
    "curr_news_df['most_common_word'] = curr_news_df['tokenized_text'].apply(lambda x: Counter(x).most_common(1)[0][0])"
   ]
  },
  {
   "cell_type": "code",
   "execution_count": 98,
   "metadata": {},
   "outputs": [
    {
     "name": "stderr",
     "output_type": "stream",
     "text": [
      "[nltk_data] Downloading package vader_lexicon to\n",
      "[nltk_data]     /Users/rachelpawlik/nltk_data...\n",
      "[nltk_data]   Package vader_lexicon is already up-to-date!\n"
     ]
    }
   ],
   "source": [
    "# adding col with sentiment analysis \n",
    "\n",
    "import nltk\n",
    "nltk.download('vader_lexicon')\n",
    "from nltk.sentiment.vader import SentimentIntensityAnalyzer\n",
    "sent_analyzer = SentimentIntensityAnalyzer()\n",
    "def sentiment_scores(token_list):\n",
    "    sentiment = sent_analyzer.polarity_scores(' '.join(token_list))\n",
    "    return sentiment"
   ]
  },
  {
   "cell_type": "code",
   "execution_count": 99,
   "metadata": {},
   "outputs": [],
   "source": [
    "curr_news_df['text_sentiment'] = curr_news_df['tokenized_text'].apply(sentiment_scores)"
   ]
  },
  {
   "cell_type": "code",
   "execution_count": 100,
   "metadata": {},
   "outputs": [],
   "source": [
    "# adding col with most common pos\n",
    "\n",
    "def get_mostcommon_pos(tokenized_text):\n",
    "    if len(tokenized_text) == 0:\n",
    "        return []\n",
    "    else:\n",
    "        doc = nlp(' '.join(tokenized_text))\n",
    "        pos = [token.pos_ for token in doc]\n",
    "        return Counter(pos).most_common(1)[0][0]"
   ]
  },
  {
   "cell_type": "code",
   "execution_count": 101,
   "metadata": {},
   "outputs": [],
   "source": [
    "curr_news_df['most_common_pos'] = curr_news_df['tokenized_text'].apply(get_mostcommon_pos)"
   ]
  },
  {
   "cell_type": "code",
   "execution_count": 102,
   "metadata": {},
   "outputs": [
    {
     "data": {
      "text/html": [
       "<div>\n",
       "<style scoped>\n",
       "    .dataframe tbody tr th:only-of-type {\n",
       "        vertical-align: middle;\n",
       "    }\n",
       "\n",
       "    .dataframe tbody tr th {\n",
       "        vertical-align: top;\n",
       "    }\n",
       "\n",
       "    .dataframe thead th {\n",
       "        text-align: right;\n",
       "    }\n",
       "</style>\n",
       "<table border=\"1\" class=\"dataframe\">\n",
       "  <thead>\n",
       "    <tr style=\"text-align: right;\">\n",
       "      <th></th>\n",
       "      <th>source_name</th>\n",
       "      <th>source_id</th>\n",
       "      <th>publish_date</th>\n",
       "      <th>title</th>\n",
       "      <th>text</th>\n",
       "      <th>datetime</th>\n",
       "      <th>year</th>\n",
       "      <th>month</th>\n",
       "      <th>day</th>\n",
       "      <th>tokenized_text</th>\n",
       "      <th>most_common_word</th>\n",
       "      <th>text_sentiment</th>\n",
       "      <th>most_common_pos</th>\n",
       "    </tr>\n",
       "  </thead>\n",
       "  <tbody>\n",
       "    <tr>\n",
       "      <th>0</th>\n",
       "      <td>CBC News</td>\n",
       "      <td>cbc-news</td>\n",
       "      <td>2024-01-25T17:08:14Z</td>\n",
       "      <td>Are heat pumps a climate solution in Canada's ...</td>\n",
       "      <td>Our planet is changing. So is our journalism. ...</td>\n",
       "      <td>2024-01-25 17:08:14+00:00</td>\n",
       "      <td>2024</td>\n",
       "      <td>1</td>\n",
       "      <td>25</td>\n",
       "      <td>[planet, changing, journalism, weekly, newslet...</td>\n",
       "      <td>planet</td>\n",
       "      <td>{'neg': 0.0, 'neu': 0.89, 'pos': 0.11, 'compou...</td>\n",
       "      <td>NOUN</td>\n",
       "    </tr>\n",
       "    <tr>\n",
       "      <th>1</th>\n",
       "      <td>CBC News</td>\n",
       "      <td>cbc-news</td>\n",
       "      <td>2024-02-02T17:13:17Z</td>\n",
       "      <td>Greta Thunberg, 4 others acquitted on London c...</td>\n",
       "      <td>A judge on Friday acquitted climate activist G...</td>\n",
       "      <td>2024-02-02 17:13:17+00:00</td>\n",
       "      <td>2024</td>\n",
       "      <td>2</td>\n",
       "      <td>2</td>\n",
       "      <td>[judge, friday, acquitted, climate, activist, ...</td>\n",
       "      <td>judge</td>\n",
       "      <td>{'neg': 0.273, 'neu': 0.655, 'pos': 0.073, 'co...</td>\n",
       "      <td>NOUN</td>\n",
       "    </tr>\n",
       "    <tr>\n",
       "      <th>2</th>\n",
       "      <td>CBC News</td>\n",
       "      <td>cbc-news</td>\n",
       "      <td>2024-02-01T18:33:06Z</td>\n",
       "      <td>How effective a climate solution is removing C...</td>\n",
       "      <td>Our planet is changing. So is our journalism. ...</td>\n",
       "      <td>2024-02-01 18:33:06+00:00</td>\n",
       "      <td>2024</td>\n",
       "      <td>2</td>\n",
       "      <td>1</td>\n",
       "      <td>[planet, changing, journalism, weekly, newslet...</td>\n",
       "      <td>planet</td>\n",
       "      <td>{'neg': 0.0, 'neu': 0.89, 'pos': 0.11, 'compou...</td>\n",
       "      <td>NOUN</td>\n",
       "    </tr>\n",
       "    <tr>\n",
       "      <th>3</th>\n",
       "      <td>CBC News</td>\n",
       "      <td>cbc-news</td>\n",
       "      <td>2024-01-16T22:39:54Z</td>\n",
       "      <td>YouTube earns millions a year channels that pr...</td>\n",
       "      <td>YouTube is making millions of dollars a year f...</td>\n",
       "      <td>2024-01-16 22:39:54+00:00</td>\n",
       "      <td>2024</td>\n",
       "      <td>1</td>\n",
       "      <td>16</td>\n",
       "      <td>[youtube, making, millions, dollars, year, adv...</td>\n",
       "      <td>youtube</td>\n",
       "      <td>{'neg': 0.0, 'neu': 1.0, 'pos': 0.0, 'compound...</td>\n",
       "      <td>NOUN</td>\n",
       "    </tr>\n",
       "    <tr>\n",
       "      <th>4</th>\n",
       "      <td>CBC News</td>\n",
       "      <td>cbc-news</td>\n",
       "      <td>2024-01-17T09:00:00Z</td>\n",
       "      <td>Climate change threatens northern Ontario's wi...</td>\n",
       "      <td>Tyler Tyance is all too familiar with the long...</td>\n",
       "      <td>2024-01-17 09:00:00+00:00</td>\n",
       "      <td>2024</td>\n",
       "      <td>1</td>\n",
       "      <td>17</td>\n",
       "      <td>[tyler, tyance, familiar, long, days, cold, ni...</td>\n",
       "      <td>tyler</td>\n",
       "      <td>{'neg': 0.136, 'neu': 0.809, 'pos': 0.055, 'co...</td>\n",
       "      <td>NOUN</td>\n",
       "    </tr>\n",
       "  </tbody>\n",
       "</table>\n",
       "</div>"
      ],
      "text/plain": [
       "  source_name source_id          publish_date  \\\n",
       "0    CBC News  cbc-news  2024-01-25T17:08:14Z   \n",
       "1    CBC News  cbc-news  2024-02-02T17:13:17Z   \n",
       "2    CBC News  cbc-news  2024-02-01T18:33:06Z   \n",
       "3    CBC News  cbc-news  2024-01-16T22:39:54Z   \n",
       "4    CBC News  cbc-news  2024-01-17T09:00:00Z   \n",
       "\n",
       "                                               title  \\\n",
       "0  Are heat pumps a climate solution in Canada's ...   \n",
       "1  Greta Thunberg, 4 others acquitted on London c...   \n",
       "2  How effective a climate solution is removing C...   \n",
       "3  YouTube earns millions a year channels that pr...   \n",
       "4  Climate change threatens northern Ontario's wi...   \n",
       "\n",
       "                                                text  \\\n",
       "0  Our planet is changing. So is our journalism. ...   \n",
       "1  A judge on Friday acquitted climate activist G...   \n",
       "2  Our planet is changing. So is our journalism. ...   \n",
       "3  YouTube is making millions of dollars a year f...   \n",
       "4  Tyler Tyance is all too familiar with the long...   \n",
       "\n",
       "                   datetime  year  month  day  \\\n",
       "0 2024-01-25 17:08:14+00:00  2024      1   25   \n",
       "1 2024-02-02 17:13:17+00:00  2024      2    2   \n",
       "2 2024-02-01 18:33:06+00:00  2024      2    1   \n",
       "3 2024-01-16 22:39:54+00:00  2024      1   16   \n",
       "4 2024-01-17 09:00:00+00:00  2024      1   17   \n",
       "\n",
       "                                      tokenized_text most_common_word  \\\n",
       "0  [planet, changing, journalism, weekly, newslet...           planet   \n",
       "1  [judge, friday, acquitted, climate, activist, ...            judge   \n",
       "2  [planet, changing, journalism, weekly, newslet...           planet   \n",
       "3  [youtube, making, millions, dollars, year, adv...          youtube   \n",
       "4  [tyler, tyance, familiar, long, days, cold, ni...            tyler   \n",
       "\n",
       "                                      text_sentiment most_common_pos  \n",
       "0  {'neg': 0.0, 'neu': 0.89, 'pos': 0.11, 'compou...            NOUN  \n",
       "1  {'neg': 0.273, 'neu': 0.655, 'pos': 0.073, 'co...            NOUN  \n",
       "2  {'neg': 0.0, 'neu': 0.89, 'pos': 0.11, 'compou...            NOUN  \n",
       "3  {'neg': 0.0, 'neu': 1.0, 'pos': 0.0, 'compound...            NOUN  \n",
       "4  {'neg': 0.136, 'neu': 0.809, 'pos': 0.055, 'co...            NOUN  "
      ]
     },
     "execution_count": 102,
     "metadata": {},
     "output_type": "execute_result"
    }
   ],
   "source": [
    "curr_news_df.head()"
   ]
  },
  {
   "cell_type": "markdown",
   "metadata": {},
   "source": [
    "# Exploratory Analysis"
   ]
  },
  {
   "cell_type": "markdown",
   "metadata": {},
   "source": [
    "- Graph of Diff Features over Time"
   ]
  },
  {
   "cell_type": "code",
   "execution_count": 104,
   "metadata": {},
   "outputs": [
    {
     "data": {
      "text/plain": [
       "<AxesSubplot:xlabel='most_common_pos', ylabel='count'>"
      ]
     },
     "execution_count": 104,
     "metadata": {},
     "output_type": "execute_result"
    },
    {
     "data": {
      "image/png": "[encoded data removed]",
      "text/plain": [
       "<Figure size 432x288 with 1 Axes>"
      ]
     },
     "metadata": {
      "needs_background": "light"
     },
     "output_type": "display_data"
    }
   ],
   "source": [
    "sns.countplot(x='most_common_pos', data=curr_news_df)"
   ]
  },
  {
   "cell_type": "code",
   "execution_count": 105,
   "metadata": {},
   "outputs": [
    {
     "data": {
      "text/plain": [
       "<AxesSubplot:xlabel='most_common_word', ylabel='count'>"
      ]
     },
     "execution_count": 105,
     "metadata": {},
     "output_type": "execute_result"
    },
    {
     "data": {
      "image/png": "[encoded data removed]",
      "text/plain": [
       "<Figure size 432x288 with 1 Axes>"
      ]
     },
     "metadata": {
      "needs_background": "light"
     },
     "output_type": "display_data"
    }
   ],
   "source": [
    "sns.countplot(curr_news_df['most_common_word'])"
   ]
  },
  {
   "cell_type": "markdown",
   "metadata": {},
   "source": []
  },
  {
   "cell_type": "markdown",
   "metadata": {},
   "source": []
  }
 ],
 "metadata": {
  "kernelspec": {
   "display_name": "base",
   "language": "python",
   "name": "python3"
  },
  "language_info": {
   "codemirror_mode": {
    "name": "ipython",
    "version": 3
   },
   "file_extension": ".py",
   "mimetype": "text/x-python",
   "name": "python",
   "nbconvert_exporter": "python",
   "pygments_lexer": "ipython3",
   "version": "3.9.7"
  }
 },
 "nbformat": 4,
 "nbformat_minor": 2
}
