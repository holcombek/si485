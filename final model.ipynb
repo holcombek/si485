{
 "cells": [
  {
   "cell_type": "code",
   "execution_count": 3,
   "metadata": {},
   "outputs": [],
   "source": [
    "import pandas as pd\n",
    "import numpy as np\n",
    "import matplotlib.pyplot as plt\n",
    "import seaborn as sns\n",
    "import re\n",
    "import nltk\n",
    "\n",
    "from nltk.corpus import stopwords\n",
    "from collections import Counter\n",
    "from nltk.tokenize import word_tokenize  \n",
    "from sklearn.model_selection import train_test_split\n",
    "from sklearn.linear_model import LogisticRegression\n",
    "from sklearn.metrics import mean_squared_error\n",
    "from sklearn.metrics import accuracy_score\n",
    "from xgboost import XGBClassifier\n",
    "from catboost import CatBoostClassifier\n",
    "from sklearn.ensemble import RandomForestClassifier\n",
    "from sklearn.ensemble import VotingClassifier\n",
    "from sklearn.linear_model import LogisticRegression\n",
    "from sklearn.tree import DecisionTreeClassifier\n",
    "from sklearn.ensemble import RandomForestClassifier\n",
    "from sklearn.svm import SVC\n",
    "from sklearn.ensemble import AdaBoostClassifier\n",
    "from sklearn.ensemble import GradientBoostingClassifier\n",
    "from sklearn.feature_extraction.text import TfidfVectorizer\n",
    "from sklearn.preprocessing import OneHotEncoder\n",
    "from sklearn.model_selection import KFold\n",
    "from sklearn.model_selection import cross_val_score\n"
   ]
  },
  {
   "cell_type": "code",
   "execution_count": 18,
   "metadata": {},
   "outputs": [],
   "source": [
    "from sklearn.feature_extraction.text import TfidfVectorizer"
   ]
  },
  {
   "cell_type": "code",
   "execution_count": 5,
   "metadata": {},
   "outputs": [
    {
     "name": "stdout",
     "output_type": "stream",
     "text": [
      "Collecting en-core-web-sm==3.7.1\n",
      "  Downloading https://github.com/explosion/spacy-models/releases/download/en_core_web_sm-3.7.1/en_core_web_sm-3.7.1-py3-none-any.whl (12.8 MB)\n",
      "\u001b[K     |████████████████████████████████| 12.8 MB 8.9 MB/s eta 0:00:01\n",
      "\u001b[?25hRequirement already satisfied: spacy<3.8.0,>=3.7.2 in /Users/rachelpawlik/opt/anaconda3/lib/python3.9/site-packages (from en-core-web-sm==3.7.1) (3.7.4)\n",
      "Requirement already satisfied: wasabi<1.2.0,>=0.9.1 in /Users/rachelpawlik/opt/anaconda3/lib/python3.9/site-packages (from spacy<3.8.0,>=3.7.2->en-core-web-sm==3.7.1) (1.1.2)\n",
      "Requirement already satisfied: setuptools in /Users/rachelpawlik/opt/anaconda3/lib/python3.9/site-packages (from spacy<3.8.0,>=3.7.2->en-core-web-sm==3.7.1) (58.0.4)\n",
      "Requirement already satisfied: smart-open<7.0.0,>=5.2.1 in /Users/rachelpawlik/opt/anaconda3/lib/python3.9/site-packages (from spacy<3.8.0,>=3.7.2->en-core-web-sm==3.7.1) (6.4.0)\n",
      "Requirement already satisfied: packaging>=20.0 in /Users/rachelpawlik/opt/anaconda3/lib/python3.9/site-packages (from spacy<3.8.0,>=3.7.2->en-core-web-sm==3.7.1) (21.0)\n",
      "Requirement already satisfied: langcodes<4.0.0,>=3.2.0 in /Users/rachelpawlik/opt/anaconda3/lib/python3.9/site-packages (from spacy<3.8.0,>=3.7.2->en-core-web-sm==3.7.1) (3.3.0)\n",
      "Requirement already satisfied: tqdm<5.0.0,>=4.38.0 in /Users/rachelpawlik/opt/anaconda3/lib/python3.9/site-packages (from spacy<3.8.0,>=3.7.2->en-core-web-sm==3.7.1) (4.62.3)\n",
      "Requirement already satisfied: spacy-legacy<3.1.0,>=3.0.11 in /Users/rachelpawlik/opt/anaconda3/lib/python3.9/site-packages (from spacy<3.8.0,>=3.7.2->en-core-web-sm==3.7.1) (3.0.12)\n",
      "Requirement already satisfied: numpy>=1.19.0 in /Users/rachelpawlik/opt/anaconda3/lib/python3.9/site-packages (from spacy<3.8.0,>=3.7.2->en-core-web-sm==3.7.1) (1.20.3)\n",
      "Requirement already satisfied: srsly<3.0.0,>=2.4.3 in /Users/rachelpawlik/opt/anaconda3/lib/python3.9/site-packages (from spacy<3.8.0,>=3.7.2->en-core-web-sm==3.7.1) (2.4.8)\n",
      "Requirement already satisfied: typer<0.10.0,>=0.3.0 in /Users/rachelpawlik/opt/anaconda3/lib/python3.9/site-packages (from spacy<3.8.0,>=3.7.2->en-core-web-sm==3.7.1) (0.9.0)\n",
      "Requirement already satisfied: requests<3.0.0,>=2.13.0 in /Users/rachelpawlik/opt/anaconda3/lib/python3.9/site-packages (from spacy<3.8.0,>=3.7.2->en-core-web-sm==3.7.1) (2.27.1)\n",
      "Requirement already satisfied: thinc<8.3.0,>=8.2.2 in /Users/rachelpawlik/opt/anaconda3/lib/python3.9/site-packages (from spacy<3.8.0,>=3.7.2->en-core-web-sm==3.7.1) (8.2.3)\n",
      "Requirement already satisfied: pydantic!=1.8,!=1.8.1,<3.0.0,>=1.7.4 in /Users/rachelpawlik/opt/anaconda3/lib/python3.9/site-packages (from spacy<3.8.0,>=3.7.2->en-core-web-sm==3.7.1) (2.6.3)\n",
      "Requirement already satisfied: jinja2 in /Users/rachelpawlik/opt/anaconda3/lib/python3.9/site-packages (from spacy<3.8.0,>=3.7.2->en-core-web-sm==3.7.1) (2.11.3)\n",
      "Requirement already satisfied: preshed<3.1.0,>=3.0.2 in /Users/rachelpawlik/opt/anaconda3/lib/python3.9/site-packages (from spacy<3.8.0,>=3.7.2->en-core-web-sm==3.7.1) (3.0.9)\n",
      "Requirement already satisfied: murmurhash<1.1.0,>=0.28.0 in /Users/rachelpawlik/opt/anaconda3/lib/python3.9/site-packages (from spacy<3.8.0,>=3.7.2->en-core-web-sm==3.7.1) (1.0.10)\n",
      "Requirement already satisfied: spacy-loggers<2.0.0,>=1.0.0 in /Users/rachelpawlik/opt/anaconda3/lib/python3.9/site-packages (from spacy<3.8.0,>=3.7.2->en-core-web-sm==3.7.1) (1.0.5)\n",
      "Requirement already satisfied: cymem<2.1.0,>=2.0.2 in /Users/rachelpawlik/opt/anaconda3/lib/python3.9/site-packages (from spacy<3.8.0,>=3.7.2->en-core-web-sm==3.7.1) (2.0.8)\n",
      "Requirement already satisfied: weasel<0.4.0,>=0.1.0 in /Users/rachelpawlik/opt/anaconda3/lib/python3.9/site-packages (from spacy<3.8.0,>=3.7.2->en-core-web-sm==3.7.1) (0.3.4)\n",
      "Requirement already satisfied: catalogue<2.1.0,>=2.0.6 in /Users/rachelpawlik/opt/anaconda3/lib/python3.9/site-packages (from spacy<3.8.0,>=3.7.2->en-core-web-sm==3.7.1) (2.0.10)\n",
      "Requirement already satisfied: pyparsing>=2.0.2 in /Users/rachelpawlik/opt/anaconda3/lib/python3.9/site-packages (from packaging>=20.0->spacy<3.8.0,>=3.7.2->en-core-web-sm==3.7.1) (3.0.4)\n",
      "Requirement already satisfied: pydantic-core==2.16.3 in /Users/rachelpawlik/opt/anaconda3/lib/python3.9/site-packages (from pydantic!=1.8,!=1.8.1,<3.0.0,>=1.7.4->spacy<3.8.0,>=3.7.2->en-core-web-sm==3.7.1) (2.16.3)\n",
      "Requirement already satisfied: typing-extensions>=4.6.1 in /Users/rachelpawlik/opt/anaconda3/lib/python3.9/site-packages (from pydantic!=1.8,!=1.8.1,<3.0.0,>=1.7.4->spacy<3.8.0,>=3.7.2->en-core-web-sm==3.7.1) (4.10.0)\n",
      "Requirement already satisfied: annotated-types>=0.4.0 in /Users/rachelpawlik/opt/anaconda3/lib/python3.9/site-packages (from pydantic!=1.8,!=1.8.1,<3.0.0,>=1.7.4->spacy<3.8.0,>=3.7.2->en-core-web-sm==3.7.1) (0.6.0)\n",
      "Requirement already satisfied: idna<4,>=2.5 in /Users/rachelpawlik/opt/anaconda3/lib/python3.9/site-packages (from requests<3.0.0,>=2.13.0->spacy<3.8.0,>=3.7.2->en-core-web-sm==3.7.1) (3.2)\n",
      "Requirement already satisfied: certifi>=2017.4.17 in /Users/rachelpawlik/opt/anaconda3/lib/python3.9/site-packages (from requests<3.0.0,>=2.13.0->spacy<3.8.0,>=3.7.2->en-core-web-sm==3.7.1) (2021.10.8)\n",
      "Requirement already satisfied: charset-normalizer~=2.0.0 in /Users/rachelpawlik/opt/anaconda3/lib/python3.9/site-packages (from requests<3.0.0,>=2.13.0->spacy<3.8.0,>=3.7.2->en-core-web-sm==3.7.1) (2.0.4)\n",
      "Requirement already satisfied: urllib3<1.27,>=1.21.1 in /Users/rachelpawlik/opt/anaconda3/lib/python3.9/site-packages (from requests<3.0.0,>=2.13.0->spacy<3.8.0,>=3.7.2->en-core-web-sm==3.7.1) (1.26.7)\n",
      "Requirement already satisfied: confection<1.0.0,>=0.0.1 in /Users/rachelpawlik/opt/anaconda3/lib/python3.9/site-packages (from thinc<8.3.0,>=8.2.2->spacy<3.8.0,>=3.7.2->en-core-web-sm==3.7.1) (0.1.4)\n",
      "Requirement already satisfied: blis<0.8.0,>=0.7.8 in /Users/rachelpawlik/opt/anaconda3/lib/python3.9/site-packages (from thinc<8.3.0,>=8.2.2->spacy<3.8.0,>=3.7.2->en-core-web-sm==3.7.1) (0.7.11)\n",
      "Requirement already satisfied: click<9.0.0,>=7.1.1 in /Users/rachelpawlik/opt/anaconda3/lib/python3.9/site-packages (from typer<0.10.0,>=0.3.0->spacy<3.8.0,>=3.7.2->en-core-web-sm==3.7.1) (8.0.3)\n",
      "Requirement already satisfied: cloudpathlib<0.17.0,>=0.7.0 in /Users/rachelpawlik/opt/anaconda3/lib/python3.9/site-packages (from weasel<0.4.0,>=0.1.0->spacy<3.8.0,>=3.7.2->en-core-web-sm==3.7.1) (0.16.0)\n",
      "Requirement already satisfied: MarkupSafe>=0.23 in /Users/rachelpawlik/opt/anaconda3/lib/python3.9/site-packages (from jinja2->spacy<3.8.0,>=3.7.2->en-core-web-sm==3.7.1) (1.1.1)\n",
      "\u001b[38;5;2m✔ Download and installation successful\u001b[0m\n",
      "You can now load the package via spacy.load('en_core_web_sm')\n"
     ]
    }
   ],
   "source": [
    "!python -m spacy download en_core_web_sm"
   ]
  },
  {
   "cell_type": "code",
   "execution_count": 6,
   "metadata": {},
   "outputs": [],
   "source": [
    "import spacy"
   ]
  },
  {
   "cell_type": "markdown",
   "metadata": {},
   "source": [
    "# Data"
   ]
  },
  {
   "cell_type": "code",
   "execution_count": 220,
   "metadata": {},
   "outputs": [],
   "source": [
    "fake = pd.read_csv(\"Fake.csv\")\n",
    "true = pd.read_csv(\"True.csv\")"
   ]
  },
  {
   "cell_type": "markdown",
   "metadata": {},
   "source": [
    "# Data Cleaning"
   ]
  },
  {
   "cell_type": "markdown",
   "metadata": {},
   "source": [
    "### Removing Pattern in True"
   ]
  },
  {
   "cell_type": "code",
   "execution_count": 221,
   "metadata": {},
   "outputs": [],
   "source": [
    "true['text'] = true.text.apply(lambda x:x.split(\"-\",1)[1:])\n",
    "true['text'] = true.text.apply(lambda x:str(x)[1:-1])"
   ]
  },
  {
   "cell_type": "markdown",
   "metadata": {},
   "source": [
    "### Removing News Agency Names"
   ]
  },
  {
   "cell_type": "code",
   "execution_count": 28,
   "metadata": {},
   "outputs": [],
   "source": [
    "def remove_news_agency_name(text):\n",
    "    return re.sub(r\"Reuters|AP|New York Times|Washington Post|Business Insider|Atlantic|Fox News|National Review|Talking Points Memo|Buzzfeed News|Guardian|NPR|Vox|CNN|BBC|Bloomberg|Daily Mail|21st Century Wire|21st Century|Al Jazeera|21WIRE|ABC News\", \"\", text)"
   ]
  },
  {
   "cell_type": "code",
   "execution_count": 223,
   "metadata": {},
   "outputs": [],
   "source": [
    "true['text'] = true.text.apply(lambda x: remove_news_agency_name(x))\n",
    "fake['text'] = fake.text.apply(lambda x: remove_news_agency_name(x))"
   ]
  },
  {
   "cell_type": "markdown",
   "metadata": {},
   "source": [
    "### Combining Data"
   ]
  },
  {
   "cell_type": "code",
   "execution_count": 224,
   "metadata": {},
   "outputs": [],
   "source": [
    "true['label']=1\n",
    "fake['label']=0\n",
    "combined = pd.concat([true, fake], ignore_index=True, axis=0)"
   ]
  },
  {
   "cell_type": "markdown",
   "metadata": {},
   "source": [
    "### Normalizing Text"
   ]
  },
  {
   "cell_type": "code",
   "execution_count": 225,
   "metadata": {},
   "outputs": [],
   "source": [
    "combined['text'] = combined.text.apply(lambda x:x.lower())\n",
    "combined['text'] = combined.text.apply(lambda x:re.sub(r'[^\\w\\s]+', ' ', x))"
   ]
  },
  {
   "cell_type": "markdown",
   "metadata": {},
   "source": [
    "### Removing Stopwords"
   ]
  },
  {
   "cell_type": "code",
   "execution_count": 226,
   "metadata": {},
   "outputs": [
    {
     "name": "stderr",
     "output_type": "stream",
     "text": [
      "[nltk_data] Downloading package stopwords to /Users/megsr/nltk_data...\n",
      "[nltk_data]   Package stopwords is already up-to-date!\n"
     ]
    }
   ],
   "source": [
    "nltk.download('stopwords')\n",
    "stop_words = set(stopwords.words('english'))\n",
    "def remove_stopwords(txt):\n",
    "    no_stopwords = [word for word in txt.split() if word not in stop_words]\n",
    "    return ' '.join(no_stopwords)\n",
    "combined['text'] = combined['text'].apply(remove_stopwords)"
   ]
  },
  {
   "cell_type": "markdown",
   "metadata": {},
   "source": [
    "### Tokenizing"
   ]
  },
  {
   "cell_type": "code",
   "execution_count": 227,
   "metadata": {},
   "outputs": [
    {
     "name": "stderr",
     "output_type": "stream",
     "text": [
      "[nltk_data] Downloading package punkt to /Users/megsr/nltk_data...\n",
      "[nltk_data]   Package punkt is already up-to-date!\n"
     ]
    }
   ],
   "source": [
    "nltk.download('punkt')\n",
    "combined['text'] = combined.text.apply(lambda x:word_tokenize(x))"
   ]
  },
  {
   "cell_type": "markdown",
   "metadata": {},
   "source": [
    "## Feature Extraction"
   ]
  },
  {
   "cell_type": "markdown",
   "metadata": {},
   "source": [
    "### TfidfVectorize"
   ]
  },
  {
   "cell_type": "code",
   "execution_count": 17,
   "metadata": {},
   "outputs": [
    {
     "ename": "NameError",
     "evalue": "name 'TfidfVectorizer' is not defined",
     "output_type": "error",
     "traceback": [
      "\u001b[0;31m---------------------------------------------------------------------------\u001b[0m",
      "\u001b[0;31mNameError\u001b[0m                                 Traceback (most recent call last)",
      "\u001b[0;32m/var/folders/xz/kqr98cqj40l8xvbjfwrpj9q40000gn/T/ipykernel_13641/2195442988.py\u001b[0m in \u001b[0;36m<module>\u001b[0;34m\u001b[0m\n\u001b[0;32m----> 1\u001b[0;31m \u001b[0mtf\u001b[0m \u001b[0;34m=\u001b[0m \u001b[0mTfidfVectorizer\u001b[0m\u001b[0;34m(\u001b[0m\u001b[0msmooth_idf\u001b[0m\u001b[0;34m=\u001b[0m\u001b[0;32mFalse\u001b[0m\u001b[0;34m,\u001b[0m \u001b[0msublinear_tf\u001b[0m\u001b[0;34m=\u001b[0m\u001b[0;32mFalse\u001b[0m\u001b[0;34m,\u001b[0m \u001b[0mnorm\u001b[0m\u001b[0;34m=\u001b[0m\u001b[0;32mNone\u001b[0m\u001b[0;34m,\u001b[0m \u001b[0manalyzer\u001b[0m\u001b[0;34m=\u001b[0m\u001b[0;34m'word'\u001b[0m\u001b[0;34m,\u001b[0m\u001b[0mmax_features\u001b[0m\u001b[0;34m=\u001b[0m\u001b[0;36m200\u001b[0m\u001b[0;34m)\u001b[0m\u001b[0;34m\u001b[0m\u001b[0;34m\u001b[0m\u001b[0m\n\u001b[0m\u001b[1;32m      2\u001b[0m \u001b[0mtxt\u001b[0m \u001b[0;34m=\u001b[0m \u001b[0mcombined\u001b[0m\u001b[0;34m.\u001b[0m\u001b[0mtext\u001b[0m\u001b[0;34m.\u001b[0m\u001b[0mapply\u001b[0m\u001b[0;34m(\u001b[0m\u001b[0;32mlambda\u001b[0m \u001b[0mx\u001b[0m\u001b[0;34m:\u001b[0m \u001b[0;34m' '\u001b[0m\u001b[0;34m.\u001b[0m\u001b[0mjoin\u001b[0m\u001b[0;34m(\u001b[0m\u001b[0mx\u001b[0m\u001b[0;34m)\u001b[0m\u001b[0;34m)\u001b[0m\u001b[0;34m\u001b[0m\u001b[0;34m\u001b[0m\u001b[0m\n\u001b[1;32m      3\u001b[0m \u001b[0mtxt_fitted\u001b[0m \u001b[0;34m=\u001b[0m \u001b[0mtf\u001b[0m\u001b[0;34m.\u001b[0m\u001b[0mfit\u001b[0m\u001b[0;34m(\u001b[0m\u001b[0mtxt\u001b[0m\u001b[0;34m)\u001b[0m\u001b[0;34m\u001b[0m\u001b[0;34m\u001b[0m\u001b[0m\n\u001b[1;32m      4\u001b[0m \u001b[0mtxt_transformed\u001b[0m \u001b[0;34m=\u001b[0m \u001b[0mtxt_fitted\u001b[0m\u001b[0;34m.\u001b[0m\u001b[0mtransform\u001b[0m\u001b[0;34m(\u001b[0m\u001b[0mtxt\u001b[0m\u001b[0;34m)\u001b[0m\u001b[0;34m\u001b[0m\u001b[0;34m\u001b[0m\u001b[0m\n",
      "\u001b[0;31mNameError\u001b[0m: name 'TfidfVectorizer' is not defined"
     ]
    }
   ],
   "source": [
    "tf = TfidfVectorizer(smooth_idf=False, sublinear_tf=False, norm=None, analyzer='word',max_features=200)\n",
    "txt = combined.text.apply(lambda x: ' '.join(x))\n",
    "txt_fitted = tf.fit(txt)\n",
    "txt_transformed = txt_fitted.transform(txt)"
   ]
  },
  {
   "cell_type": "markdown",
   "metadata": {},
   "source": [
    "# Modeling"
   ]
  },
  {
   "cell_type": "markdown",
   "metadata": {},
   "source": [
    "### Random Forest w/ TfidfVectorize"
   ]
  },
  {
   "cell_type": "markdown",
   "metadata": {},
   "source": [
    "X_train, X_test, y_train, y_test = train_test_split(txt_transformed,combined['label'], test_size=0.2, random_state=42)\n",
    "ran = RandomForestClassifier()\n",
    "ran.fit(X_train, y_train)\n",
    "ran_pred = ran.predict(X_test)\n",
    "accuracy = accuracy_score(y_test, ran_pred)\n",
    "print('accuracy:', accuracy)"
   ]
  },
  {
   "cell_type": "code",
   "execution_count": 230,
   "metadata": {},
   "outputs": [
    {
     "name": "stdout",
     "output_type": "stream",
     "text": [
      "accuracy: 0.9638084632516704\n"
     ]
    }
   ],
   "source": [
    "X_train, X_test, y_train, y_test = train_test_split(txt_transformed,combined['label'], test_size=0.2, random_state=42)\n",
    "vc = VotingClassifier([('lr', LogisticRegression()), ('dt', DecisionTreeClassifier()), ('rf', RandomForestClassifier()), ('svc', SVC()), ('ada', AdaBoostClassifier()), ('gb', GradientBoostingClassifier())])\n",
    "vc.fit(X_train, y_train)\n",
    "vc_pred = vc.predict(X_test)\n",
    "accuracy = accuracy_score(y_test, vc_pred)\n",
    "print('accuracy:', accuracy)"
   ]
  },
  {
   "cell_type": "markdown",
   "metadata": {},
   "source": [
    "# Testing"
   ]
  },
  {
   "cell_type": "markdown",
   "metadata": {},
   "source": [
    "## Manually Collected Dataset"
   ]
  },
  {
   "cell_type": "code",
   "execution_count": 26,
   "metadata": {},
   "outputs": [
    {
     "data": {
      "text/html": [
       "<div>\n",
       "<style scoped>\n",
       "    .dataframe tbody tr th:only-of-type {\n",
       "        vertical-align: middle;\n",
       "    }\n",
       "\n",
       "    .dataframe tbody tr th {\n",
       "        vertical-align: top;\n",
       "    }\n",
       "\n",
       "    .dataframe thead th {\n",
       "        text-align: right;\n",
       "    }\n",
       "</style>\n",
       "<table border=\"1\" class=\"dataframe\">\n",
       "  <thead>\n",
       "    <tr style=\"text-align: right;\">\n",
       "      <th></th>\n",
       "      <th>Real/ Fake</th>\n",
       "      <th>News Source</th>\n",
       "      <th>Link</th>\n",
       "      <th>Date</th>\n",
       "      <th>Topic/ Keyword (if applicable)</th>\n",
       "      <th>Title</th>\n",
       "      <th>Text</th>\n",
       "    </tr>\n",
       "    <tr>\n",
       "      <th>#</th>\n",
       "      <th></th>\n",
       "      <th></th>\n",
       "      <th></th>\n",
       "      <th></th>\n",
       "      <th></th>\n",
       "      <th></th>\n",
       "      <th></th>\n",
       "    </tr>\n",
       "  </thead>\n",
       "  <tbody>\n",
       "    <tr>\n",
       "      <th>0</th>\n",
       "      <td>Real</td>\n",
       "      <td>The Globe and Mail</td>\n",
       "      <td>https://www.theglobeandmail.com/business/comme...</td>\n",
       "      <td>2/19/2024</td>\n",
       "      <td>Renewable energy</td>\n",
       "      <td>With Alberta renewables ban, business common s...</td>\n",
       "      <td>Investment creates jobs, expands tax revenue, ...</td>\n",
       "    </tr>\n",
       "    <tr>\n",
       "      <th>1</th>\n",
       "      <td>Real</td>\n",
       "      <td>CBC News</td>\n",
       "      <td>https://www.cbc.ca/news/canada/calgary/oil-ind...</td>\n",
       "      <td>2/22/24</td>\n",
       "      <td>Oil</td>\n",
       "      <td>Some sectors of oil industry 'dragging their h...</td>\n",
       "      <td>Prime Minister Justin Trudeau and Alberta Prem...</td>\n",
       "    </tr>\n",
       "    <tr>\n",
       "      <th>2</th>\n",
       "      <td>Real</td>\n",
       "      <td>CBC News</td>\n",
       "      <td>https://www.cbc.ca/news/canada/thunder-bay/cat...</td>\n",
       "      <td>03/04/24</td>\n",
       "      <td>Mining</td>\n",
       "      <td>Demanding a proper say, Cat Lake First Nation'...</td>\n",
       "      <td>Cat Lake First Nation has been granted an inju...</td>\n",
       "    </tr>\n",
       "    <tr>\n",
       "      <th>3</th>\n",
       "      <td>Real</td>\n",
       "      <td>CBC News</td>\n",
       "      <td>https://www.cbc.ca/news/politics/guilbeault-no...</td>\n",
       "      <td>02/14/24</td>\n",
       "      <td>Climate</td>\n",
       "      <td>Feds will stop investing in 'large' road proje...</td>\n",
       "      <td>Environment Minister Steven Guilbeault said Mo...</td>\n",
       "    </tr>\n",
       "    <tr>\n",
       "      <th>4</th>\n",
       "      <td>Real</td>\n",
       "      <td>Global News</td>\n",
       "      <td>https://globalnews.ca/news/10292216/climate-ch...</td>\n",
       "      <td>02/13/2024</td>\n",
       "      <td>Climate</td>\n",
       "      <td>Floods and fires: Climate change brings health...</td>\n",
       "      <td>Communities across British Columbia needs to p...</td>\n",
       "    </tr>\n",
       "    <tr>\n",
       "      <th>5</th>\n",
       "      <td>Real</td>\n",
       "      <td>CBC News</td>\n",
       "      <td>https://www.cbc.ca/news/canada/toronto/ontario...</td>\n",
       "      <td>02/08/24</td>\n",
       "      <td>Climate</td>\n",
       "      <td>New mineral processing plants touted as 'missi...</td>\n",
       "      <td>A Canadian mining company will announce plans ...</td>\n",
       "    </tr>\n",
       "    <tr>\n",
       "      <th>6</th>\n",
       "      <td>Real</td>\n",
       "      <td>Financial Post</td>\n",
       "      <td>https://financialpost.com/pmn/business-pmn/inf...</td>\n",
       "      <td>03/04/24</td>\n",
       "      <td>Climate</td>\n",
       "      <td>Infernos Rage From Texas to Australia as Fire ...</td>\n",
       "      <td>(Bloomberg) — After a year of deadly wildfires...</td>\n",
       "    </tr>\n",
       "    <tr>\n",
       "      <th>7</th>\n",
       "      <td>Real</td>\n",
       "      <td>CBC News</td>\n",
       "      <td>https://www.cbc.ca/news/canada/saskatchewan/sa...</td>\n",
       "      <td>03/05/24</td>\n",
       "      <td>Climate</td>\n",
       "      <td>Sask. farmer 'breathing a sigh of relief' afte...</td>\n",
       "      <td>A Saskatchewan farmer says she is thrilled wit...</td>\n",
       "    </tr>\n",
       "    <tr>\n",
       "      <th>8</th>\n",
       "      <td>Real</td>\n",
       "      <td>CBC News</td>\n",
       "      <td>https://www.cbc.ca/news/canada/british-columbi...</td>\n",
       "      <td>03/03/24</td>\n",
       "      <td>Wildfire</td>\n",
       "      <td>Inaccurate government data may be stoking wild...</td>\n",
       "      <td>Wildfire fighting and forest management decisi...</td>\n",
       "    </tr>\n",
       "    <tr>\n",
       "      <th>9</th>\n",
       "      <td>Real</td>\n",
       "      <td>Calgary Herald</td>\n",
       "      <td>https://calgaryherald.com/opinion/columnists/v...</td>\n",
       "      <td>2/14/2024</td>\n",
       "      <td>Oil</td>\n",
       "      <td>Varcoe: Smith says Alberta won't sterilize 'pr...</td>\n",
       "      <td>Alberta remained a powerful magnet for investm...</td>\n",
       "    </tr>\n",
       "    <tr>\n",
       "      <th>10</th>\n",
       "      <td>Fake</td>\n",
       "      <td>Epoch Times</td>\n",
       "      <td>https://archive.is/aluG2</td>\n",
       "      <td>02/04/2024</td>\n",
       "      <td>Climate Change</td>\n",
       "      <td>UN Says Melting Arctic Ice is a Key Indicator ...</td>\n",
       "      <td>It’s bad news for polar bears, according to th...</td>\n",
       "    </tr>\n",
       "    <tr>\n",
       "      <th>11</th>\n",
       "      <td>Fake</td>\n",
       "      <td>Daily Mail</td>\n",
       "      <td>https://archive.is/xs3ox</td>\n",
       "      <td>12/13/2023</td>\n",
       "      <td>Greenhouse Gases/Emissions</td>\n",
       "      <td>Now scientists say BREATHING is bad for the en...</td>\n",
       "      <td>Whether it's eating less meat or cycling inste...</td>\n",
       "    </tr>\n",
       "    <tr>\n",
       "      <th>12</th>\n",
       "      <td>Fake</td>\n",
       "      <td>WSJ</td>\n",
       "      <td>https://archive.is/uFBw4</td>\n",
       "      <td>11/03/2023</td>\n",
       "      <td>Global Warming</td>\n",
       "      <td>The Earth Is Warming, but Is CO2 the Cause?</td>\n",
       "      <td>If this column has ever plagiarized itself, it...</td>\n",
       "    </tr>\n",
       "    <tr>\n",
       "      <th>13</th>\n",
       "      <td>Fake</td>\n",
       "      <td>Epoch Times</td>\n",
       "      <td>https://archive.ph/mWpxh</td>\n",
       "      <td>08/29/2023</td>\n",
       "      <td>Climate Change</td>\n",
       "      <td>Over 1,600 Scientists Sign ‘No Climate Emergen...</td>\n",
       "      <td>International scientists have jointly signed a...</td>\n",
       "    </tr>\n",
       "    <tr>\n",
       "      <th>14</th>\n",
       "      <td>Fake</td>\n",
       "      <td>Epoch Times</td>\n",
       "      <td>https://archive.ph/yRzbP</td>\n",
       "      <td>09/06/2022</td>\n",
       "      <td>Climate Change</td>\n",
       "      <td>EXCLUSIVE: Former Greenpeace Founder Patrick M...</td>\n",
       "      <td>Patrick Moore, one of the founders of Greenpea...</td>\n",
       "    </tr>\n",
       "    <tr>\n",
       "      <th>15</th>\n",
       "      <td>Fake</td>\n",
       "      <td>The Guardian</td>\n",
       "      <td>https://archive.is/b2yY7</td>\n",
       "      <td>03/20/2021</td>\n",
       "      <td>Solar Radiation</td>\n",
       "      <td>‘Our biggest challenge? Lack of imagination’: ...</td>\n",
       "      <td>Flying into Egypt in early February to make th...</td>\n",
       "    </tr>\n",
       "    <tr>\n",
       "      <th>16</th>\n",
       "      <td>Fake</td>\n",
       "      <td>The Sun</td>\n",
       "      <td>https://archive.is/ArD82</td>\n",
       "      <td>05/13/2020</td>\n",
       "      <td>Solar Radiation</td>\n",
       "      <td>SUN DOWN The sun has gone into ‘lockdown’ whic...</td>\n",
       "      <td>OUR sun has gone into lockdown, which could ca...</td>\n",
       "    </tr>\n",
       "    <tr>\n",
       "      <th>17</th>\n",
       "      <td>Fake</td>\n",
       "      <td>Express</td>\n",
       "      <td>https://archive.is/MWRgn</td>\n",
       "      <td>2/18/2020</td>\n",
       "      <td>Global Warming</td>\n",
       "      <td>Global warming slowing down? 'Ironic' study fi...</td>\n",
       "      <td>GLOBAL WARMING has been \"ironically\" set back ...</td>\n",
       "    </tr>\n",
       "    <tr>\n",
       "      <th>18</th>\n",
       "      <td>Fake</td>\n",
       "      <td>The Sun</td>\n",
       "      <td>https://archive.is/uUzZO</td>\n",
       "      <td>02/02/2020</td>\n",
       "      <td>Ice Age</td>\n",
       "      <td>CHILL IN THE AIR Earth about to enter 30-YEAR ...</td>\n",
       "      <td>EARTH could face frosty weather and biting sno...</td>\n",
       "    </tr>\n",
       "    <tr>\n",
       "      <th>19</th>\n",
       "      <td>Fake</td>\n",
       "      <td>Ecology News</td>\n",
       "      <td>https://archive.is/Cb5wI</td>\n",
       "      <td>08/26/2019</td>\n",
       "      <td>Wind Turbines</td>\n",
       "      <td>Harvard study finds that wind turbines create ...</td>\n",
       "      <td>Harvard study finds that wind turbines create ...</td>\n",
       "    </tr>\n",
       "  </tbody>\n",
       "</table>\n",
       "</div>"
      ],
      "text/plain": [
       "   Real/ Fake         News Source  \\\n",
       "#                                   \n",
       "0        Real  The Globe and Mail   \n",
       "1        Real            CBC News   \n",
       "2        Real            CBC News   \n",
       "3        Real            CBC News   \n",
       "4        Real         Global News   \n",
       "5        Real            CBC News   \n",
       "6        Real      Financial Post   \n",
       "7        Real            CBC News   \n",
       "8        Real            CBC News   \n",
       "9        Real      Calgary Herald   \n",
       "10       Fake         Epoch Times   \n",
       "11       Fake          Daily Mail   \n",
       "12       Fake                 WSJ   \n",
       "13       Fake         Epoch Times   \n",
       "14       Fake         Epoch Times   \n",
       "15       Fake        The Guardian   \n",
       "16       Fake             The Sun   \n",
       "17       Fake             Express   \n",
       "18       Fake             The Sun   \n",
       "19       Fake        Ecology News   \n",
       "\n",
       "                                                 Link        Date  \\\n",
       "#                                                                   \n",
       "0   https://www.theglobeandmail.com/business/comme...   2/19/2024   \n",
       "1   https://www.cbc.ca/news/canada/calgary/oil-ind...     2/22/24   \n",
       "2   https://www.cbc.ca/news/canada/thunder-bay/cat...    03/04/24   \n",
       "3   https://www.cbc.ca/news/politics/guilbeault-no...    02/14/24   \n",
       "4   https://globalnews.ca/news/10292216/climate-ch...  02/13/2024   \n",
       "5   https://www.cbc.ca/news/canada/toronto/ontario...    02/08/24   \n",
       "6   https://financialpost.com/pmn/business-pmn/inf...    03/04/24   \n",
       "7   https://www.cbc.ca/news/canada/saskatchewan/sa...    03/05/24   \n",
       "8   https://www.cbc.ca/news/canada/british-columbi...    03/03/24   \n",
       "9   https://calgaryherald.com/opinion/columnists/v...   2/14/2024   \n",
       "10                           https://archive.is/aluG2  02/04/2024   \n",
       "11                           https://archive.is/xs3ox  12/13/2023   \n",
       "12                           https://archive.is/uFBw4  11/03/2023   \n",
       "13                           https://archive.ph/mWpxh  08/29/2023   \n",
       "14                           https://archive.ph/yRzbP  09/06/2022   \n",
       "15                           https://archive.is/b2yY7  03/20/2021   \n",
       "16                           https://archive.is/ArD82  05/13/2020   \n",
       "17                           https://archive.is/MWRgn   2/18/2020   \n",
       "18                           https://archive.is/uUzZO  02/02/2020   \n",
       "19                           https://archive.is/Cb5wI  08/26/2019   \n",
       "\n",
       "   Topic/ Keyword (if applicable)  \\\n",
       "#                                   \n",
       "0                Renewable energy   \n",
       "1                             Oil   \n",
       "2                          Mining   \n",
       "3                         Climate   \n",
       "4                         Climate   \n",
       "5                         Climate   \n",
       "6                         Climate   \n",
       "7                         Climate   \n",
       "8                        Wildfire   \n",
       "9                             Oil   \n",
       "10                 Climate Change   \n",
       "11     Greenhouse Gases/Emissions   \n",
       "12                 Global Warming   \n",
       "13                 Climate Change   \n",
       "14                 Climate Change   \n",
       "15                Solar Radiation   \n",
       "16                Solar Radiation   \n",
       "17                 Global Warming   \n",
       "18                        Ice Age   \n",
       "19                  Wind Turbines   \n",
       "\n",
       "                                                Title  \\\n",
       "#                                                       \n",
       "0   With Alberta renewables ban, business common s...   \n",
       "1   Some sectors of oil industry 'dragging their h...   \n",
       "2   Demanding a proper say, Cat Lake First Nation'...   \n",
       "3   Feds will stop investing in 'large' road proje...   \n",
       "4   Floods and fires: Climate change brings health...   \n",
       "5   New mineral processing plants touted as 'missi...   \n",
       "6   Infernos Rage From Texas to Australia as Fire ...   \n",
       "7   Sask. farmer 'breathing a sigh of relief' afte...   \n",
       "8   Inaccurate government data may be stoking wild...   \n",
       "9   Varcoe: Smith says Alberta won't sterilize 'pr...   \n",
       "10  UN Says Melting Arctic Ice is a Key Indicator ...   \n",
       "11  Now scientists say BREATHING is bad for the en...   \n",
       "12        The Earth Is Warming, but Is CO2 the Cause?   \n",
       "13  Over 1,600 Scientists Sign ‘No Climate Emergen...   \n",
       "14  EXCLUSIVE: Former Greenpeace Founder Patrick M...   \n",
       "15  ‘Our biggest challenge? Lack of imagination’: ...   \n",
       "16  SUN DOWN The sun has gone into ‘lockdown’ whic...   \n",
       "17  Global warming slowing down? 'Ironic' study fi...   \n",
       "18  CHILL IN THE AIR Earth about to enter 30-YEAR ...   \n",
       "19  Harvard study finds that wind turbines create ...   \n",
       "\n",
       "                                                 Text  \n",
       "#                                                      \n",
       "0   Investment creates jobs, expands tax revenue, ...  \n",
       "1   Prime Minister Justin Trudeau and Alberta Prem...  \n",
       "2   Cat Lake First Nation has been granted an inju...  \n",
       "3   Environment Minister Steven Guilbeault said Mo...  \n",
       "4   Communities across British Columbia needs to p...  \n",
       "5   A Canadian mining company will announce plans ...  \n",
       "6   (Bloomberg) — After a year of deadly wildfires...  \n",
       "7   A Saskatchewan farmer says she is thrilled wit...  \n",
       "8   Wildfire fighting and forest management decisi...  \n",
       "9   Alberta remained a powerful magnet for investm...  \n",
       "10  It’s bad news for polar bears, according to th...  \n",
       "11  Whether it's eating less meat or cycling inste...  \n",
       "12  If this column has ever plagiarized itself, it...  \n",
       "13  International scientists have jointly signed a...  \n",
       "14  Patrick Moore, one of the founders of Greenpea...  \n",
       "15  Flying into Egypt in early February to make th...  \n",
       "16  OUR sun has gone into lockdown, which could ca...  \n",
       "17  GLOBAL WARMING has been \"ironically\" set back ...  \n",
       "18  EARTH could face frosty weather and biting sno...  \n",
       "19  Harvard study finds that wind turbines create ...  "
      ]
     },
     "execution_count": 26,
     "metadata": {},
     "output_type": "execute_result"
    }
   ],
   "source": [
    "manual_dataset = pd.read_csv(\"manual_dataset.csv\", index_col=0)\n",
    "manual_dataset"
   ]
  },
  {
   "cell_type": "markdown",
   "metadata": {},
   "source": [
    "### Preprocessing"
   ]
  },
  {
   "cell_type": "code",
   "execution_count": 29,
   "metadata": {},
   "outputs": [],
   "source": [
    "manual_dataset['Text'] = manual_dataset.Text.apply(lambda x: remove_news_agency_name(str(x)))"
   ]
  },
  {
   "cell_type": "code",
   "execution_count": 30,
   "metadata": {},
   "outputs": [
    {
     "name": "stderr",
     "output_type": "stream",
     "text": [
      "[nltk_data] Downloading package stopwords to\n",
      "[nltk_data]     /Users/rachelpawlik/nltk_data...\n",
      "[nltk_data]   Package stopwords is already up-to-date!\n",
      "[nltk_data] Downloading package punkt to\n",
      "[nltk_data]     /Users/rachelpawlik/nltk_data...\n",
      "[nltk_data]   Package punkt is already up-to-date!\n"
     ]
    },
    {
     "data": {
      "text/plain": [
       "True"
      ]
     },
     "execution_count": 30,
     "metadata": {},
     "output_type": "execute_result"
    }
   ],
   "source": [
    "manual_dataset['Text'] = manual_dataset.Text.apply(lambda x:str(x))\n",
    "manual_dataset['Text'] = manual_dataset.Text.apply(lambda x:x.lower())\n",
    "manual_dataset['Text'] = manual_dataset.Text.apply(lambda x:re.sub(r'[^\\w\\s]+', ' ', x))\n",
    "nltk.download('stopwords')\n",
    "stop_words = set(stopwords.words('english'))\n",
    "def remove_stopwords(txt):\n",
    "    no_stopwords = [word for word in txt.split() if word not in stop_words]\n",
    "    return ' '.join(no_stopwords)\n",
    "manual_dataset['Text'] = manual_dataset['Text'].apply(remove_stopwords)\n",
    "nltk.download('punkt')"
   ]
  },
  {
   "cell_type": "markdown",
   "metadata": {},
   "source": [
    "### Vectorizing"
   ]
  },
  {
   "cell_type": "code",
   "execution_count": 16,
   "metadata": {},
   "outputs": [
    {
     "ename": "NameError",
     "evalue": "name 'tf' is not defined",
     "output_type": "error",
     "traceback": [
      "\u001b[0;31m---------------------------------------------------------------------------\u001b[0m",
      "\u001b[0;31mNameError\u001b[0m                                 Traceback (most recent call last)",
      "\u001b[0;32m/var/folders/xz/kqr98cqj40l8xvbjfwrpj9q40000gn/T/ipykernel_13641/3329533217.py\u001b[0m in \u001b[0;36m<module>\u001b[0;34m\u001b[0m\n\u001b[0;32m----> 1\u001b[0;31m \u001b[0mtxt_transformed\u001b[0m \u001b[0;34m=\u001b[0m \u001b[0mtf\u001b[0m\u001b[0;34m.\u001b[0m\u001b[0mtransform\u001b[0m\u001b[0;34m(\u001b[0m\u001b[0mmanual_dataset\u001b[0m\u001b[0;34m[\u001b[0m\u001b[0;34m\"Text\"\u001b[0m\u001b[0;34m]\u001b[0m\u001b[0;34m)\u001b[0m\u001b[0;34m\u001b[0m\u001b[0;34m\u001b[0m\u001b[0m\n\u001b[0m\u001b[1;32m      2\u001b[0m \u001b[0marr\u001b[0m \u001b[0;34m=\u001b[0m \u001b[0mvc\u001b[0m\u001b[0;34m.\u001b[0m\u001b[0mpredict\u001b[0m\u001b[0;34m(\u001b[0m\u001b[0mtxt_transformed\u001b[0m\u001b[0;34m)\u001b[0m\u001b[0;34m\u001b[0m\u001b[0;34m\u001b[0m\u001b[0m\n\u001b[1;32m      3\u001b[0m \u001b[0marr_list\u001b[0m \u001b[0;34m=\u001b[0m \u001b[0mlist\u001b[0m\u001b[0;34m(\u001b[0m\u001b[0marr\u001b[0m\u001b[0;34m)\u001b[0m\u001b[0;34m\u001b[0m\u001b[0;34m\u001b[0m\u001b[0m\n",
      "\u001b[0;31mNameError\u001b[0m: name 'tf' is not defined"
     ]
    }
   ],
   "source": [
    "txt_transformed = tf.transform(manual_dataset[\"Text\"])\n",
    "arr = vc.predict(txt_transformed)\n",
    "arr_list = list(arr)"
   ]
  },
  {
   "cell_type": "code",
   "execution_count": 235,
   "metadata": {},
   "outputs": [
    {
     "data": {
      "text/html": [
       "<div>\n",
       "<style scoped>\n",
       "    .dataframe tbody tr th:only-of-type {\n",
       "        vertical-align: middle;\n",
       "    }\n",
       "\n",
       "    .dataframe tbody tr th {\n",
       "        vertical-align: top;\n",
       "    }\n",
       "\n",
       "    .dataframe thead th {\n",
       "        text-align: right;\n",
       "    }\n",
       "</style>\n",
       "<table border=\"1\" class=\"dataframe\">\n",
       "  <thead>\n",
       "    <tr style=\"text-align: right;\">\n",
       "      <th></th>\n",
       "      <th>Real/ Fake</th>\n",
       "      <th>News Source</th>\n",
       "      <th>Link</th>\n",
       "      <th>Date</th>\n",
       "      <th>Topic/ Keyword (if applicable)</th>\n",
       "      <th>Title</th>\n",
       "      <th>Text</th>\n",
       "      <th>random_forest_results</th>\n",
       "    </tr>\n",
       "    <tr>\n",
       "      <th>#</th>\n",
       "      <th></th>\n",
       "      <th></th>\n",
       "      <th></th>\n",
       "      <th></th>\n",
       "      <th></th>\n",
       "      <th></th>\n",
       "      <th></th>\n",
       "      <th></th>\n",
       "    </tr>\n",
       "  </thead>\n",
       "  <tbody>\n",
       "    <tr>\n",
       "      <th>0</th>\n",
       "      <td>Real</td>\n",
       "      <td>The Globe and Mail</td>\n",
       "      <td>https://www.theglobeandmail.com/business/comme...</td>\n",
       "      <td>2/19/2024</td>\n",
       "      <td>Renewable energy</td>\n",
       "      <td>With Alberta renewables ban, business common s...</td>\n",
       "      <td>investment creates jobs expands tax revenue pr...</td>\n",
       "      <td>1</td>\n",
       "    </tr>\n",
       "    <tr>\n",
       "      <th>1</th>\n",
       "      <td>Real</td>\n",
       "      <td>CBC News</td>\n",
       "      <td>https://www.cbc.ca/news/canada/calgary/oil-ind...</td>\n",
       "      <td>2/22/24</td>\n",
       "      <td>Oil</td>\n",
       "      <td>Some sectors of oil industry 'dragging their h...</td>\n",
       "      <td>prime minister justin trudeau alberta premier ...</td>\n",
       "      <td>1</td>\n",
       "    </tr>\n",
       "    <tr>\n",
       "      <th>2</th>\n",
       "      <td>Real</td>\n",
       "      <td>CBC News</td>\n",
       "      <td>https://www.cbc.ca/news/canada/thunder-bay/cat...</td>\n",
       "      <td>03/04/24</td>\n",
       "      <td>Mining</td>\n",
       "      <td>Demanding a proper say, Cat Lake First Nation'...</td>\n",
       "      <td>cat lake first nation granted injunction pausi...</td>\n",
       "      <td>1</td>\n",
       "    </tr>\n",
       "    <tr>\n",
       "      <th>3</th>\n",
       "      <td>Real</td>\n",
       "      <td>CBC News</td>\n",
       "      <td>https://www.cbc.ca/news/politics/guilbeault-no...</td>\n",
       "      <td>02/14/24</td>\n",
       "      <td>Climate</td>\n",
       "      <td>Feds will stop investing in 'large' road proje...</td>\n",
       "      <td>environment minister steven guilbeault said mo...</td>\n",
       "      <td>1</td>\n",
       "    </tr>\n",
       "    <tr>\n",
       "      <th>4</th>\n",
       "      <td>Real</td>\n",
       "      <td>Global News</td>\n",
       "      <td>https://globalnews.ca/news/10292216/climate-ch...</td>\n",
       "      <td>02/13/2024</td>\n",
       "      <td>Climate</td>\n",
       "      <td>Floods and fires: Climate change brings health...</td>\n",
       "      <td>communities across british columbia needs prep...</td>\n",
       "      <td>1</td>\n",
       "    </tr>\n",
       "    <tr>\n",
       "      <th>5</th>\n",
       "      <td>Real</td>\n",
       "      <td>CBC News</td>\n",
       "      <td>https://www.cbc.ca/news/canada/toronto/ontario...</td>\n",
       "      <td>02/08/24</td>\n",
       "      <td>Climate</td>\n",
       "      <td>New mineral processing plants touted as 'missi...</td>\n",
       "      <td>canadian mining company announce plans thursda...</td>\n",
       "      <td>1</td>\n",
       "    </tr>\n",
       "    <tr>\n",
       "      <th>6</th>\n",
       "      <td>Real</td>\n",
       "      <td>Financial Post</td>\n",
       "      <td>https://financialpost.com/pmn/business-pmn/inf...</td>\n",
       "      <td>03/04/24</td>\n",
       "      <td>Climate</td>\n",
       "      <td>Infernos Rage From Texas to Australia as Fire ...</td>\n",
       "      <td>year deadly wildfires around globe world burni...</td>\n",
       "      <td>1</td>\n",
       "    </tr>\n",
       "    <tr>\n",
       "      <th>7</th>\n",
       "      <td>Real</td>\n",
       "      <td>CBC News</td>\n",
       "      <td>https://www.cbc.ca/news/canada/saskatchewan/sa...</td>\n",
       "      <td>03/05/24</td>\n",
       "      <td>Climate</td>\n",
       "      <td>Sask. farmer 'breathing a sigh of relief' afte...</td>\n",
       "      <td>saskatchewan farmer says thrilled snowfall wee...</td>\n",
       "      <td>1</td>\n",
       "    </tr>\n",
       "    <tr>\n",
       "      <th>8</th>\n",
       "      <td>Real</td>\n",
       "      <td>CBC News</td>\n",
       "      <td>https://www.cbc.ca/news/canada/british-columbi...</td>\n",
       "      <td>03/03/24</td>\n",
       "      <td>Wildfire</td>\n",
       "      <td>Inaccurate government data may be stoking wild...</td>\n",
       "      <td>wildfire fighting forest management decisions ...</td>\n",
       "      <td>0</td>\n",
       "    </tr>\n",
       "    <tr>\n",
       "      <th>9</th>\n",
       "      <td>Real</td>\n",
       "      <td>Calgary Herald</td>\n",
       "      <td>https://calgaryherald.com/opinion/columnists/v...</td>\n",
       "      <td>2/14/2024</td>\n",
       "      <td>Oil</td>\n",
       "      <td>Varcoe: Smith says Alberta won't sterilize 'pr...</td>\n",
       "      <td>alberta remained powerful magnet investment ca...</td>\n",
       "      <td>1</td>\n",
       "    </tr>\n",
       "    <tr>\n",
       "      <th>10</th>\n",
       "      <td>Fake</td>\n",
       "      <td>Epoch Times</td>\n",
       "      <td>https://archive.is/aluG2</td>\n",
       "      <td>02/04/2024</td>\n",
       "      <td>Climate Change</td>\n",
       "      <td>UN Says Melting Arctic Ice is a Key Indicator ...</td>\n",
       "      <td>bad news polar bears according recent assessme...</td>\n",
       "      <td>0</td>\n",
       "    </tr>\n",
       "    <tr>\n",
       "      <th>11</th>\n",
       "      <td>Fake</td>\n",
       "      <td>Daily Mail</td>\n",
       "      <td>https://archive.is/xs3ox</td>\n",
       "      <td>12/13/2023</td>\n",
       "      <td>Greenhouse Gases/Emissions</td>\n",
       "      <td>Now scientists say BREATHING is bad for the en...</td>\n",
       "      <td>whether eating less meat cycling instead drivi...</td>\n",
       "      <td>0</td>\n",
       "    </tr>\n",
       "    <tr>\n",
       "      <th>12</th>\n",
       "      <td>Fake</td>\n",
       "      <td>WSJ</td>\n",
       "      <td>https://archive.is/uFBw4</td>\n",
       "      <td>11/03/2023</td>\n",
       "      <td>Global Warming</td>\n",
       "      <td>The Earth Is Warming, but Is CO2 the Cause?</td>\n",
       "      <td>column ever plagiarized repeating phrase evide...</td>\n",
       "      <td>0</td>\n",
       "    </tr>\n",
       "    <tr>\n",
       "      <th>13</th>\n",
       "      <td>Fake</td>\n",
       "      <td>Epoch Times</td>\n",
       "      <td>https://archive.ph/mWpxh</td>\n",
       "      <td>08/29/2023</td>\n",
       "      <td>Climate Change</td>\n",
       "      <td>Over 1,600 Scientists Sign ‘No Climate Emergen...</td>\n",
       "      <td>international scientists jointly signed declar...</td>\n",
       "      <td>1</td>\n",
       "    </tr>\n",
       "    <tr>\n",
       "      <th>14</th>\n",
       "      <td>Fake</td>\n",
       "      <td>Epoch Times</td>\n",
       "      <td>https://archive.ph/yRzbP</td>\n",
       "      <td>09/06/2022</td>\n",
       "      <td>Climate Change</td>\n",
       "      <td>EXCLUSIVE: Former Greenpeace Founder Patrick M...</td>\n",
       "      <td>patrick moore one founders greenpeace said ema...</td>\n",
       "      <td>1</td>\n",
       "    </tr>\n",
       "    <tr>\n",
       "      <th>15</th>\n",
       "      <td>Fake</td>\n",
       "      <td>The Guardian</td>\n",
       "      <td>https://archive.is/b2yY7</td>\n",
       "      <td>03/20/2021</td>\n",
       "      <td>Solar Radiation</td>\n",
       "      <td>‘Our biggest challenge? Lack of imagination’: ...</td>\n",
       "      <td>flying egypt early february make important pre...</td>\n",
       "      <td>0</td>\n",
       "    </tr>\n",
       "    <tr>\n",
       "      <th>16</th>\n",
       "      <td>Fake</td>\n",
       "      <td>The Sun</td>\n",
       "      <td>https://archive.is/ArD82</td>\n",
       "      <td>05/13/2020</td>\n",
       "      <td>Solar Radiation</td>\n",
       "      <td>SUN DOWN The sun has gone into ‘lockdown’ whic...</td>\n",
       "      <td>sun gone lockdown could cause freezing weather...</td>\n",
       "      <td>1</td>\n",
       "    </tr>\n",
       "    <tr>\n",
       "      <th>17</th>\n",
       "      <td>Fake</td>\n",
       "      <td>Express</td>\n",
       "      <td>https://archive.is/MWRgn</td>\n",
       "      <td>2/2/2020</td>\n",
       "      <td>Global Warming</td>\n",
       "      <td>Global warming slowing down? 'Ironic' study fi...</td>\n",
       "      <td>global warming ironically set back carbon diox...</td>\n",
       "      <td>1</td>\n",
       "    </tr>\n",
       "    <tr>\n",
       "      <th>18</th>\n",
       "      <td>Fake</td>\n",
       "      <td>The Sun</td>\n",
       "      <td>https://archive.is/uUzZO</td>\n",
       "      <td>02/02/2020</td>\n",
       "      <td>Ice Age</td>\n",
       "      <td>CHILL IN THE AIR Earth about to enter 30-YEAR ...</td>\n",
       "      <td>earth could face frosty weather biting snow st...</td>\n",
       "      <td>0</td>\n",
       "    </tr>\n",
       "    <tr>\n",
       "      <th>19</th>\n",
       "      <td>Fake</td>\n",
       "      <td>Ecology News</td>\n",
       "      <td>https://archive.is/Cb5wI</td>\n",
       "      <td>08/26/2019</td>\n",
       "      <td>Wind Turbines</td>\n",
       "      <td>Harvard study finds that wind turbines create ...</td>\n",
       "      <td>harvard study finds wind turbines create globa...</td>\n",
       "      <td>0</td>\n",
       "    </tr>\n",
       "  </tbody>\n",
       "</table>\n",
       "</div>"
      ],
      "text/plain": [
       "   Real/ Fake         News Source  \\\n",
       "#                                   \n",
       "0        Real  The Globe and Mail   \n",
       "1        Real            CBC News   \n",
       "2        Real            CBC News   \n",
       "3        Real            CBC News   \n",
       "4        Real         Global News   \n",
       "5        Real            CBC News   \n",
       "6        Real      Financial Post   \n",
       "7        Real            CBC News   \n",
       "8        Real            CBC News   \n",
       "9        Real      Calgary Herald   \n",
       "10       Fake         Epoch Times   \n",
       "11       Fake          Daily Mail   \n",
       "12       Fake                 WSJ   \n",
       "13       Fake         Epoch Times   \n",
       "14       Fake         Epoch Times   \n",
       "15       Fake        The Guardian   \n",
       "16       Fake             The Sun   \n",
       "17       Fake             Express   \n",
       "18       Fake             The Sun   \n",
       "19       Fake        Ecology News   \n",
       "\n",
       "                                                 Link        Date  \\\n",
       "#                                                                   \n",
       "0   https://www.theglobeandmail.com/business/comme...   2/19/2024   \n",
       "1   https://www.cbc.ca/news/canada/calgary/oil-ind...     2/22/24   \n",
       "2   https://www.cbc.ca/news/canada/thunder-bay/cat...    03/04/24   \n",
       "3   https://www.cbc.ca/news/politics/guilbeault-no...    02/14/24   \n",
       "4   https://globalnews.ca/news/10292216/climate-ch...  02/13/2024   \n",
       "5   https://www.cbc.ca/news/canada/toronto/ontario...    02/08/24   \n",
       "6   https://financialpost.com/pmn/business-pmn/inf...    03/04/24   \n",
       "7   https://www.cbc.ca/news/canada/saskatchewan/sa...    03/05/24   \n",
       "8   https://www.cbc.ca/news/canada/british-columbi...    03/03/24   \n",
       "9   https://calgaryherald.com/opinion/columnists/v...   2/14/2024   \n",
       "10                           https://archive.is/aluG2  02/04/2024   \n",
       "11                           https://archive.is/xs3ox  12/13/2023   \n",
       "12                           https://archive.is/uFBw4  11/03/2023   \n",
       "13                           https://archive.ph/mWpxh  08/29/2023   \n",
       "14                           https://archive.ph/yRzbP  09/06/2022   \n",
       "15                           https://archive.is/b2yY7  03/20/2021   \n",
       "16                           https://archive.is/ArD82  05/13/2020   \n",
       "17                           https://archive.is/MWRgn    2/2/2020   \n",
       "18                           https://archive.is/uUzZO  02/02/2020   \n",
       "19                           https://archive.is/Cb5wI  08/26/2019   \n",
       "\n",
       "   Topic/ Keyword (if applicable)  \\\n",
       "#                                   \n",
       "0                Renewable energy   \n",
       "1                             Oil   \n",
       "2                          Mining   \n",
       "3                         Climate   \n",
       "4                         Climate   \n",
       "5                         Climate   \n",
       "6                         Climate   \n",
       "7                         Climate   \n",
       "8                        Wildfire   \n",
       "9                             Oil   \n",
       "10                 Climate Change   \n",
       "11     Greenhouse Gases/Emissions   \n",
       "12                 Global Warming   \n",
       "13                 Climate Change   \n",
       "14                 Climate Change   \n",
       "15                Solar Radiation   \n",
       "16                Solar Radiation   \n",
       "17                 Global Warming   \n",
       "18                        Ice Age   \n",
       "19                  Wind Turbines   \n",
       "\n",
       "                                                Title  \\\n",
       "#                                                       \n",
       "0   With Alberta renewables ban, business common s...   \n",
       "1   Some sectors of oil industry 'dragging their h...   \n",
       "2   Demanding a proper say, Cat Lake First Nation'...   \n",
       "3   Feds will stop investing in 'large' road proje...   \n",
       "4   Floods and fires: Climate change brings health...   \n",
       "5   New mineral processing plants touted as 'missi...   \n",
       "6   Infernos Rage From Texas to Australia as Fire ...   \n",
       "7   Sask. farmer 'breathing a sigh of relief' afte...   \n",
       "8   Inaccurate government data may be stoking wild...   \n",
       "9   Varcoe: Smith says Alberta won't sterilize 'pr...   \n",
       "10  UN Says Melting Arctic Ice is a Key Indicator ...   \n",
       "11  Now scientists say BREATHING is bad for the en...   \n",
       "12        The Earth Is Warming, but Is CO2 the Cause?   \n",
       "13  Over 1,600 Scientists Sign ‘No Climate Emergen...   \n",
       "14  EXCLUSIVE: Former Greenpeace Founder Patrick M...   \n",
       "15  ‘Our biggest challenge? Lack of imagination’: ...   \n",
       "16  SUN DOWN The sun has gone into ‘lockdown’ whic...   \n",
       "17  Global warming slowing down? 'Ironic' study fi...   \n",
       "18  CHILL IN THE AIR Earth about to enter 30-YEAR ...   \n",
       "19  Harvard study finds that wind turbines create ...   \n",
       "\n",
       "                                                 Text  random_forest_results  \n",
       "#                                                                             \n",
       "0   investment creates jobs expands tax revenue pr...                      1  \n",
       "1   prime minister justin trudeau alberta premier ...                      1  \n",
       "2   cat lake first nation granted injunction pausi...                      1  \n",
       "3   environment minister steven guilbeault said mo...                      1  \n",
       "4   communities across british columbia needs prep...                      1  \n",
       "5   canadian mining company announce plans thursda...                      1  \n",
       "6   year deadly wildfires around globe world burni...                      1  \n",
       "7   saskatchewan farmer says thrilled snowfall wee...                      1  \n",
       "8   wildfire fighting forest management decisions ...                      0  \n",
       "9   alberta remained powerful magnet investment ca...                      1  \n",
       "10  bad news polar bears according recent assessme...                      0  \n",
       "11  whether eating less meat cycling instead drivi...                      0  \n",
       "12  column ever plagiarized repeating phrase evide...                      0  \n",
       "13  international scientists jointly signed declar...                      1  \n",
       "14  patrick moore one founders greenpeace said ema...                      1  \n",
       "15  flying egypt early february make important pre...                      0  \n",
       "16  sun gone lockdown could cause freezing weather...                      1  \n",
       "17  global warming ironically set back carbon diox...                      1  \n",
       "18  earth could face frosty weather biting snow st...                      0  \n",
       "19  harvard study finds wind turbines create globa...                      0  "
      ]
     },
     "execution_count": 235,
     "metadata": {},
     "output_type": "execute_result"
    }
   ],
   "source": [
    "manual_dataset['random_forest_results']=arr_list\n",
    "manual_dataset"
   ]
  },
  {
   "cell_type": "code",
   "execution_count": 236,
   "metadata": {},
   "outputs": [],
   "source": [
    "combined_fake = combined[combined['label']==0]\n",
    "combined_true = combined[combined['label']==1]"
   ]
  },
  {
   "cell_type": "markdown",
   "metadata": {},
   "source": [
    "### Most Common Word Comparison in Training Data - Real vs Fake ** (dont use bc might get confused w topic summarization on manual dataset)"
   ]
  },
  {
   "cell_type": "code",
   "execution_count": 237,
   "metadata": {},
   "outputs": [
    {
     "data": {
      "text/plain": [
       "[('trump', 79307),\n",
       " ('said', 33763),\n",
       " ('president', 27721),\n",
       " ('people', 26570),\n",
       " ('one', 24531)]"
      ]
     },
     "execution_count": 237,
     "metadata": {},
     "output_type": "execute_result"
    }
   ],
   "source": [
    "fake_d = {}\n",
    "for line in combined_fake.text:\n",
    "    for word in line:\n",
    "        if word in fake_d:\n",
    "                fake_d[word] = fake_d[word] + 1\n",
    "        else:\n",
    "            fake_d[word] = 1\n",
    "Counter(fake_d).most_common(5)"
   ]
  },
  {
   "cell_type": "code",
   "execution_count": 238,
   "metadata": {},
   "outputs": [
    {
     "data": {
      "text/plain": [
       "[('said', 99020),\n",
       " ('trump', 54546),\n",
       " ('u', 44437),\n",
       " ('would', 31595),\n",
       " ('president', 28067)]"
      ]
     },
     "execution_count": 238,
     "metadata": {},
     "output_type": "execute_result"
    }
   ],
   "source": [
    "true_d = {}\n",
    "for line in combined_true.text:\n",
    "    for word in line:\n",
    "        if word in true_d:\n",
    "                true_d[word] = true_d[word] + 1\n",
    "        else:\n",
    "            true_d[word] = 1\n",
    "Counter(true_d).most_common(5)"
   ]
  },
  {
   "cell_type": "markdown",
   "metadata": {},
   "source": [
    "### Word Length Comparison in Training Dataset - Real vs Fake ** (dont use for same reason as above)**"
   ]
  },
  {
   "cell_type": "code",
   "execution_count": 239,
   "metadata": {},
   "outputs": [
    {
     "data": {
      "text/plain": [
       "206.0"
      ]
     },
     "execution_count": 239,
     "metadata": {},
     "output_type": "execute_result"
    }
   ],
   "source": [
    "fake_word_length = combined_fake.text.apply(lambda x:len(x))\n",
    "fake_word_length.median()"
   ]
  },
  {
   "cell_type": "code",
   "execution_count": 240,
   "metadata": {},
   "outputs": [
    {
     "data": {
      "text/plain": [
       "217.0"
      ]
     },
     "execution_count": 240,
     "metadata": {},
     "output_type": "execute_result"
    }
   ],
   "source": [
    "real_word_length = combined_true.text.apply(lambda x:len(x))\n",
    "real_word_length.median()"
   ]
  }
 ],
 "metadata": {
  "kernelspec": {
   "display_name": "base",
   "language": "python",
   "name": "python3"
  },
  "language_info": {
   "codemirror_mode": {
    "name": "ipython",
    "version": 3
   },
   "file_extension": ".py",
   "mimetype": "text/x-python",
   "name": "python",
   "nbconvert_exporter": "python",
   "pygments_lexer": "ipython3",
   "version": "3.9.7"
  }
 },
 "nbformat": 4,
 "nbformat_minor": 2
}
