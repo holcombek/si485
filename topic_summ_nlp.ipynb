{
 "cells": [
  {
   "cell_type": "code",
   "execution_count": 43,
   "metadata": {},
   "outputs": [],
   "source": [
    "import pandas as pd\n",
    "import numpy as np\n",
    "import matplotlib.pyplot as plt\n",
    "import seaborn as sns\n",
    "import re\n",
    "import nltk\n",
    "from nltk.corpus import stopwords\n",
    "from collections import Counter\n",
    "from nltk.tokenize import word_tokenize  \n",
    "import numpy as np\n",
    "import pandas as pd\n",
    "import seaborn as sns\n",
    "import matplotlib.pyplot as plt\n",
    "import statsmodels.api as sm\n",
    "from statsmodels.formula.api import ols"
   ]
  },
  {
   "cell_type": "code",
   "execution_count": 18,
   "metadata": {},
   "outputs": [
    {
     "name": "stdout",
     "output_type": "stream",
     "text": [
      "Requirement already satisfied: spacy in /Users/rachelpawlik/opt/anaconda3/lib/python3.9/site-packages (3.7.4)\n",
      "Requirement already satisfied: smart-open<7.0.0,>=5.2.1 in /Users/rachelpawlik/opt/anaconda3/lib/python3.9/site-packages (from spacy) (6.4.0)\n",
      "Requirement already satisfied: spacy-legacy<3.1.0,>=3.0.11 in /Users/rachelpawlik/opt/anaconda3/lib/python3.9/site-packages (from spacy) (3.0.12)\n",
      "Requirement already satisfied: langcodes<4.0.0,>=3.2.0 in /Users/rachelpawlik/opt/anaconda3/lib/python3.9/site-packages (from spacy) (3.3.0)\n",
      "Requirement already satisfied: cymem<2.1.0,>=2.0.2 in /Users/rachelpawlik/opt/anaconda3/lib/python3.9/site-packages (from spacy) (2.0.8)\n",
      "Requirement already satisfied: requests<3.0.0,>=2.13.0 in /Users/rachelpawlik/opt/anaconda3/lib/python3.9/site-packages (from spacy) (2.27.1)\n",
      "Requirement already satisfied: spacy-loggers<2.0.0,>=1.0.0 in /Users/rachelpawlik/opt/anaconda3/lib/python3.9/site-packages (from spacy) (1.0.5)\n",
      "Requirement already satisfied: thinc<8.3.0,>=8.2.2 in /Users/rachelpawlik/opt/anaconda3/lib/python3.9/site-packages (from spacy) (8.2.3)\n",
      "Requirement already satisfied: tqdm<5.0.0,>=4.38.0 in /Users/rachelpawlik/opt/anaconda3/lib/python3.9/site-packages (from spacy) (4.62.3)\n",
      "Requirement already satisfied: typer<0.10.0,>=0.3.0 in /Users/rachelpawlik/opt/anaconda3/lib/python3.9/site-packages (from spacy) (0.9.0)\n",
      "Requirement already satisfied: numpy>=1.19.0 in /Users/rachelpawlik/opt/anaconda3/lib/python3.9/site-packages (from spacy) (1.20.3)\n",
      "Requirement already satisfied: preshed<3.1.0,>=3.0.2 in /Users/rachelpawlik/opt/anaconda3/lib/python3.9/site-packages (from spacy) (3.0.9)\n",
      "Requirement already satisfied: srsly<3.0.0,>=2.4.3 in /Users/rachelpawlik/opt/anaconda3/lib/python3.9/site-packages (from spacy) (2.4.8)\n",
      "Requirement already satisfied: jinja2 in /Users/rachelpawlik/opt/anaconda3/lib/python3.9/site-packages (from spacy) (2.11.3)\n",
      "Requirement already satisfied: wasabi<1.2.0,>=0.9.1 in /Users/rachelpawlik/opt/anaconda3/lib/python3.9/site-packages (from spacy) (1.1.2)\n",
      "Requirement already satisfied: catalogue<2.1.0,>=2.0.6 in /Users/rachelpawlik/opt/anaconda3/lib/python3.9/site-packages (from spacy) (2.0.10)\n",
      "Requirement already satisfied: weasel<0.4.0,>=0.1.0 in /Users/rachelpawlik/opt/anaconda3/lib/python3.9/site-packages (from spacy) (0.3.4)\n",
      "Requirement already satisfied: setuptools in /Users/rachelpawlik/opt/anaconda3/lib/python3.9/site-packages (from spacy) (58.0.4)\n",
      "Requirement already satisfied: murmurhash<1.1.0,>=0.28.0 in /Users/rachelpawlik/opt/anaconda3/lib/python3.9/site-packages (from spacy) (1.0.10)\n",
      "Requirement already satisfied: packaging>=20.0 in /Users/rachelpawlik/opt/anaconda3/lib/python3.9/site-packages (from spacy) (21.0)\n",
      "Requirement already satisfied: pydantic!=1.8,!=1.8.1,<3.0.0,>=1.7.4 in /Users/rachelpawlik/opt/anaconda3/lib/python3.9/site-packages (from spacy) (2.6.3)\n",
      "Requirement already satisfied: pyparsing>=2.0.2 in /Users/rachelpawlik/opt/anaconda3/lib/python3.9/site-packages (from packaging>=20.0->spacy) (3.0.4)\n",
      "Requirement already satisfied: annotated-types>=0.4.0 in /Users/rachelpawlik/opt/anaconda3/lib/python3.9/site-packages (from pydantic!=1.8,!=1.8.1,<3.0.0,>=1.7.4->spacy) (0.6.0)\n",
      "Requirement already satisfied: typing-extensions>=4.6.1 in /Users/rachelpawlik/opt/anaconda3/lib/python3.9/site-packages (from pydantic!=1.8,!=1.8.1,<3.0.0,>=1.7.4->spacy) (4.10.0)\n",
      "Requirement already satisfied: pydantic-core==2.16.3 in /Users/rachelpawlik/opt/anaconda3/lib/python3.9/site-packages (from pydantic!=1.8,!=1.8.1,<3.0.0,>=1.7.4->spacy) (2.16.3)\n",
      "Requirement already satisfied: charset-normalizer~=2.0.0 in /Users/rachelpawlik/opt/anaconda3/lib/python3.9/site-packages (from requests<3.0.0,>=2.13.0->spacy) (2.0.4)\n",
      "Requirement already satisfied: idna<4,>=2.5 in /Users/rachelpawlik/opt/anaconda3/lib/python3.9/site-packages (from requests<3.0.0,>=2.13.0->spacy) (3.2)\n",
      "Requirement already satisfied: certifi>=2017.4.17 in /Users/rachelpawlik/opt/anaconda3/lib/python3.9/site-packages (from requests<3.0.0,>=2.13.0->spacy) (2021.10.8)\n",
      "Requirement already satisfied: urllib3<1.27,>=1.21.1 in /Users/rachelpawlik/opt/anaconda3/lib/python3.9/site-packages (from requests<3.0.0,>=2.13.0->spacy) (1.26.7)\n",
      "Requirement already satisfied: blis<0.8.0,>=0.7.8 in /Users/rachelpawlik/opt/anaconda3/lib/python3.9/site-packages (from thinc<8.3.0,>=8.2.2->spacy) (0.7.11)\n",
      "Requirement already satisfied: confection<1.0.0,>=0.0.1 in /Users/rachelpawlik/opt/anaconda3/lib/python3.9/site-packages (from thinc<8.3.0,>=8.2.2->spacy) (0.1.4)\n",
      "Requirement already satisfied: click<9.0.0,>=7.1.1 in /Users/rachelpawlik/opt/anaconda3/lib/python3.9/site-packages (from typer<0.10.0,>=0.3.0->spacy) (8.0.3)\n",
      "Requirement already satisfied: cloudpathlib<0.17.0,>=0.7.0 in /Users/rachelpawlik/opt/anaconda3/lib/python3.9/site-packages (from weasel<0.4.0,>=0.1.0->spacy) (0.16.0)\n",
      "Requirement already satisfied: MarkupSafe>=0.23 in /Users/rachelpawlik/opt/anaconda3/lib/python3.9/site-packages (from jinja2->spacy) (1.1.1)\n"
     ]
    }
   ],
   "source": [
    "!pip install -U spacy"
   ]
  },
  {
   "cell_type": "code",
   "execution_count": 4,
   "metadata": {},
   "outputs": [
    {
     "name": "stdout",
     "output_type": "stream",
     "text": [
      "Collecting en-core-web-sm==3.7.1\n",
      "  Downloading https://github.com/explosion/spacy-models/releases/download/en_core_web_sm-3.7.1/en_core_web_sm-3.7.1-py3-none-any.whl (12.8 MB)\n",
      "\u001b[K     |████████████████████████████████| 12.8 MB 1.8 MB/s eta 0:00:01\n",
      "\u001b[?25hRequirement already satisfied: spacy<3.8.0,>=3.7.2 in /Users/rachelpawlik/opt/anaconda3/lib/python3.9/site-packages (from en-core-web-sm==3.7.1) (3.7.4)\n",
      "Requirement already satisfied: srsly<3.0.0,>=2.4.3 in /Users/rachelpawlik/opt/anaconda3/lib/python3.9/site-packages (from spacy<3.8.0,>=3.7.2->en-core-web-sm==3.7.1) (2.4.8)\n",
      "Requirement already satisfied: catalogue<2.1.0,>=2.0.6 in /Users/rachelpawlik/opt/anaconda3/lib/python3.9/site-packages (from spacy<3.8.0,>=3.7.2->en-core-web-sm==3.7.1) (2.0.10)\n",
      "Requirement already satisfied: murmurhash<1.1.0,>=0.28.0 in /Users/rachelpawlik/opt/anaconda3/lib/python3.9/site-packages (from spacy<3.8.0,>=3.7.2->en-core-web-sm==3.7.1) (1.0.10)\n",
      "Requirement already satisfied: weasel<0.4.0,>=0.1.0 in /Users/rachelpawlik/opt/anaconda3/lib/python3.9/site-packages (from spacy<3.8.0,>=3.7.2->en-core-web-sm==3.7.1) (0.3.4)\n",
      "Requirement already satisfied: wasabi<1.2.0,>=0.9.1 in /Users/rachelpawlik/opt/anaconda3/lib/python3.9/site-packages (from spacy<3.8.0,>=3.7.2->en-core-web-sm==3.7.1) (1.1.2)\n",
      "Requirement already satisfied: numpy>=1.19.0 in /Users/rachelpawlik/opt/anaconda3/lib/python3.9/site-packages (from spacy<3.8.0,>=3.7.2->en-core-web-sm==3.7.1) (1.20.3)\n",
      "Requirement already satisfied: packaging>=20.0 in /Users/rachelpawlik/opt/anaconda3/lib/python3.9/site-packages (from spacy<3.8.0,>=3.7.2->en-core-web-sm==3.7.1) (21.0)\n",
      "Requirement already satisfied: setuptools in /Users/rachelpawlik/opt/anaconda3/lib/python3.9/site-packages (from spacy<3.8.0,>=3.7.2->en-core-web-sm==3.7.1) (58.0.4)\n",
      "Requirement already satisfied: preshed<3.1.0,>=3.0.2 in /Users/rachelpawlik/opt/anaconda3/lib/python3.9/site-packages (from spacy<3.8.0,>=3.7.2->en-core-web-sm==3.7.1) (3.0.9)\n",
      "Requirement already satisfied: thinc<8.3.0,>=8.2.2 in /Users/rachelpawlik/opt/anaconda3/lib/python3.9/site-packages (from spacy<3.8.0,>=3.7.2->en-core-web-sm==3.7.1) (8.2.3)\n",
      "Requirement already satisfied: pydantic!=1.8,!=1.8.1,<3.0.0,>=1.7.4 in /Users/rachelpawlik/opt/anaconda3/lib/python3.9/site-packages (from spacy<3.8.0,>=3.7.2->en-core-web-sm==3.7.1) (2.6.3)\n",
      "Requirement already satisfied: langcodes<4.0.0,>=3.2.0 in /Users/rachelpawlik/opt/anaconda3/lib/python3.9/site-packages (from spacy<3.8.0,>=3.7.2->en-core-web-sm==3.7.1) (3.3.0)\n",
      "Requirement already satisfied: spacy-loggers<2.0.0,>=1.0.0 in /Users/rachelpawlik/opt/anaconda3/lib/python3.9/site-packages (from spacy<3.8.0,>=3.7.2->en-core-web-sm==3.7.1) (1.0.5)\n",
      "Requirement already satisfied: cymem<2.1.0,>=2.0.2 in /Users/rachelpawlik/opt/anaconda3/lib/python3.9/site-packages (from spacy<3.8.0,>=3.7.2->en-core-web-sm==3.7.1) (2.0.8)\n",
      "Requirement already satisfied: typer<0.10.0,>=0.3.0 in /Users/rachelpawlik/opt/anaconda3/lib/python3.9/site-packages (from spacy<3.8.0,>=3.7.2->en-core-web-sm==3.7.1) (0.9.0)\n",
      "Requirement already satisfied: spacy-legacy<3.1.0,>=3.0.11 in /Users/rachelpawlik/opt/anaconda3/lib/python3.9/site-packages (from spacy<3.8.0,>=3.7.2->en-core-web-sm==3.7.1) (3.0.12)\n",
      "Requirement already satisfied: requests<3.0.0,>=2.13.0 in /Users/rachelpawlik/opt/anaconda3/lib/python3.9/site-packages (from spacy<3.8.0,>=3.7.2->en-core-web-sm==3.7.1) (2.27.1)\n",
      "Requirement already satisfied: jinja2 in /Users/rachelpawlik/opt/anaconda3/lib/python3.9/site-packages (from spacy<3.8.0,>=3.7.2->en-core-web-sm==3.7.1) (2.11.3)\n",
      "Requirement already satisfied: tqdm<5.0.0,>=4.38.0 in /Users/rachelpawlik/opt/anaconda3/lib/python3.9/site-packages (from spacy<3.8.0,>=3.7.2->en-core-web-sm==3.7.1) (4.62.3)\n",
      "Requirement already satisfied: smart-open<7.0.0,>=5.2.1 in /Users/rachelpawlik/opt/anaconda3/lib/python3.9/site-packages (from spacy<3.8.0,>=3.7.2->en-core-web-sm==3.7.1) (6.4.0)\n",
      "Requirement already satisfied: pyparsing>=2.0.2 in /Users/rachelpawlik/opt/anaconda3/lib/python3.9/site-packages (from packaging>=20.0->spacy<3.8.0,>=3.7.2->en-core-web-sm==3.7.1) (3.0.4)\n",
      "Requirement already satisfied: typing-extensions>=4.6.1 in /Users/rachelpawlik/opt/anaconda3/lib/python3.9/site-packages (from pydantic!=1.8,!=1.8.1,<3.0.0,>=1.7.4->spacy<3.8.0,>=3.7.2->en-core-web-sm==3.7.1) (4.10.0)\n",
      "Requirement already satisfied: pydantic-core==2.16.3 in /Users/rachelpawlik/opt/anaconda3/lib/python3.9/site-packages (from pydantic!=1.8,!=1.8.1,<3.0.0,>=1.7.4->spacy<3.8.0,>=3.7.2->en-core-web-sm==3.7.1) (2.16.3)\n",
      "Requirement already satisfied: annotated-types>=0.4.0 in /Users/rachelpawlik/opt/anaconda3/lib/python3.9/site-packages (from pydantic!=1.8,!=1.8.1,<3.0.0,>=1.7.4->spacy<3.8.0,>=3.7.2->en-core-web-sm==3.7.1) (0.6.0)\n",
      "Requirement already satisfied: idna<4,>=2.5 in /Users/rachelpawlik/opt/anaconda3/lib/python3.9/site-packages (from requests<3.0.0,>=2.13.0->spacy<3.8.0,>=3.7.2->en-core-web-sm==3.7.1) (3.2)\n",
      "Requirement already satisfied: certifi>=2017.4.17 in /Users/rachelpawlik/opt/anaconda3/lib/python3.9/site-packages (from requests<3.0.0,>=2.13.0->spacy<3.8.0,>=3.7.2->en-core-web-sm==3.7.1) (2021.10.8)\n",
      "Requirement already satisfied: charset-normalizer~=2.0.0 in /Users/rachelpawlik/opt/anaconda3/lib/python3.9/site-packages (from requests<3.0.0,>=2.13.0->spacy<3.8.0,>=3.7.2->en-core-web-sm==3.7.1) (2.0.4)\n",
      "Requirement already satisfied: urllib3<1.27,>=1.21.1 in /Users/rachelpawlik/opt/anaconda3/lib/python3.9/site-packages (from requests<3.0.0,>=2.13.0->spacy<3.8.0,>=3.7.2->en-core-web-sm==3.7.1) (1.26.7)\n",
      "Requirement already satisfied: confection<1.0.0,>=0.0.1 in /Users/rachelpawlik/opt/anaconda3/lib/python3.9/site-packages (from thinc<8.3.0,>=8.2.2->spacy<3.8.0,>=3.7.2->en-core-web-sm==3.7.1) (0.1.4)\n",
      "Requirement already satisfied: blis<0.8.0,>=0.7.8 in /Users/rachelpawlik/opt/anaconda3/lib/python3.9/site-packages (from thinc<8.3.0,>=8.2.2->spacy<3.8.0,>=3.7.2->en-core-web-sm==3.7.1) (0.7.11)\n",
      "Requirement already satisfied: click<9.0.0,>=7.1.1 in /Users/rachelpawlik/opt/anaconda3/lib/python3.9/site-packages (from typer<0.10.0,>=0.3.0->spacy<3.8.0,>=3.7.2->en-core-web-sm==3.7.1) (8.0.3)\n",
      "Requirement already satisfied: cloudpathlib<0.17.0,>=0.7.0 in /Users/rachelpawlik/opt/anaconda3/lib/python3.9/site-packages (from weasel<0.4.0,>=0.1.0->spacy<3.8.0,>=3.7.2->en-core-web-sm==3.7.1) (0.16.0)\n",
      "Requirement already satisfied: MarkupSafe>=0.23 in /Users/rachelpawlik/opt/anaconda3/lib/python3.9/site-packages (from jinja2->spacy<3.8.0,>=3.7.2->en-core-web-sm==3.7.1) (1.1.1)\n",
      "\u001b[38;5;2m✔ Download and installation successful\u001b[0m\n",
      "You can now load the package via spacy.load('en_core_web_sm')\n"
     ]
    }
   ],
   "source": [
    "!python -m spacy download en_core_web_sm"
   ]
  },
  {
   "cell_type": "code",
   "execution_count": 19,
   "metadata": {},
   "outputs": [],
   "source": [
    "import spacy\n",
    "import nltk\n",
    "nltk.download('vader_lexicon')\n",
    "from nltk.sentiment.vader import SentimentIntensityAnalyzer"
   ]
  },
  {
   "cell_type": "markdown",
   "metadata": {},
   "source": [
    "add instructions here on how to insert your dataset or make it into a function"
   ]
  },
  {
   "cell_type": "code",
   "execution_count": 47,
   "metadata": {},
   "outputs": [
    {
     "data": {
      "text/html": [
       "<div>\n",
       "<style scoped>\n",
       "    .dataframe tbody tr th:only-of-type {\n",
       "        vertical-align: middle;\n",
       "    }\n",
       "\n",
       "    .dataframe tbody tr th {\n",
       "        vertical-align: top;\n",
       "    }\n",
       "\n",
       "    .dataframe thead th {\n",
       "        text-align: right;\n",
       "    }\n",
       "</style>\n",
       "<table border=\"1\" class=\"dataframe\">\n",
       "  <thead>\n",
       "    <tr style=\"text-align: right;\">\n",
       "      <th></th>\n",
       "      <th>Real_Fake</th>\n",
       "      <th>News Source</th>\n",
       "      <th>Link</th>\n",
       "      <th>Date</th>\n",
       "      <th>Topic/ Keyword (if applicable)</th>\n",
       "      <th>Title</th>\n",
       "      <th>Text</th>\n",
       "    </tr>\n",
       "    <tr>\n",
       "      <th>#</th>\n",
       "      <th></th>\n",
       "      <th></th>\n",
       "      <th></th>\n",
       "      <th></th>\n",
       "      <th></th>\n",
       "      <th></th>\n",
       "      <th></th>\n",
       "    </tr>\n",
       "  </thead>\n",
       "  <tbody>\n",
       "    <tr>\n",
       "      <th>0</th>\n",
       "      <td>Real</td>\n",
       "      <td>The Globe and Mail</td>\n",
       "      <td>https://www.theglobeandmail.com/business/comme...</td>\n",
       "      <td>2/19/2024</td>\n",
       "      <td>Renewable energy</td>\n",
       "      <td>With Alberta renewables ban, business common s...</td>\n",
       "      <td>Investment creates jobs, expands tax revenue, ...</td>\n",
       "    </tr>\n",
       "    <tr>\n",
       "      <th>1</th>\n",
       "      <td>Real</td>\n",
       "      <td>CBC News</td>\n",
       "      <td>https://www.cbc.ca/news/canada/calgary/oil-ind...</td>\n",
       "      <td>2/22/24</td>\n",
       "      <td>Oil</td>\n",
       "      <td>Some sectors of oil industry 'dragging their h...</td>\n",
       "      <td>Prime Minister Justin Trudeau and Alberta Prem...</td>\n",
       "    </tr>\n",
       "    <tr>\n",
       "      <th>2</th>\n",
       "      <td>Real</td>\n",
       "      <td>CBC News</td>\n",
       "      <td>https://www.cbc.ca/news/canada/thunder-bay/cat...</td>\n",
       "      <td>03/04/24</td>\n",
       "      <td>Mining</td>\n",
       "      <td>Demanding a proper say, Cat Lake First Nation'...</td>\n",
       "      <td>Cat Lake First Nation has been granted an inju...</td>\n",
       "    </tr>\n",
       "    <tr>\n",
       "      <th>3</th>\n",
       "      <td>Real</td>\n",
       "      <td>CBC News</td>\n",
       "      <td>https://www.cbc.ca/news/politics/guilbeault-no...</td>\n",
       "      <td>02/14/24</td>\n",
       "      <td>Climate</td>\n",
       "      <td>Feds will stop investing in 'large' road proje...</td>\n",
       "      <td>Environment Minister Steven Guilbeault said Mo...</td>\n",
       "    </tr>\n",
       "    <tr>\n",
       "      <th>4</th>\n",
       "      <td>Real</td>\n",
       "      <td>Global News</td>\n",
       "      <td>https://globalnews.ca/news/10292216/climate-ch...</td>\n",
       "      <td>02/13/2024</td>\n",
       "      <td>Climate</td>\n",
       "      <td>Floods and fires: Climate change brings health...</td>\n",
       "      <td>Communities across British Columbia needs to p...</td>\n",
       "    </tr>\n",
       "  </tbody>\n",
       "</table>\n",
       "</div>"
      ],
      "text/plain": [
       "  Real_Fake         News Source  \\\n",
       "#                                 \n",
       "0      Real  The Globe and Mail   \n",
       "1      Real            CBC News   \n",
       "2      Real            CBC News   \n",
       "3      Real            CBC News   \n",
       "4      Real         Global News   \n",
       "\n",
       "                                                Link        Date  \\\n",
       "#                                                                  \n",
       "0  https://www.theglobeandmail.com/business/comme...   2/19/2024   \n",
       "1  https://www.cbc.ca/news/canada/calgary/oil-ind...     2/22/24   \n",
       "2  https://www.cbc.ca/news/canada/thunder-bay/cat...    03/04/24   \n",
       "3  https://www.cbc.ca/news/politics/guilbeault-no...    02/14/24   \n",
       "4  https://globalnews.ca/news/10292216/climate-ch...  02/13/2024   \n",
       "\n",
       "  Topic/ Keyword (if applicable)  \\\n",
       "#                                  \n",
       "0               Renewable energy   \n",
       "1                            Oil   \n",
       "2                         Mining   \n",
       "3                        Climate   \n",
       "4                        Climate   \n",
       "\n",
       "                                               Title  \\\n",
       "#                                                      \n",
       "0  With Alberta renewables ban, business common s...   \n",
       "1  Some sectors of oil industry 'dragging their h...   \n",
       "2  Demanding a proper say, Cat Lake First Nation'...   \n",
       "3  Feds will stop investing in 'large' road proje...   \n",
       "4  Floods and fires: Climate change brings health...   \n",
       "\n",
       "                                                Text  \n",
       "#                                                     \n",
       "0  Investment creates jobs, expands tax revenue, ...  \n",
       "1  Prime Minister Justin Trudeau and Alberta Prem...  \n",
       "2  Cat Lake First Nation has been granted an inju...  \n",
       "3  Environment Minister Steven Guilbeault said Mo...  \n",
       "4  Communities across British Columbia needs to p...  "
      ]
     },
     "execution_count": 47,
     "metadata": {},
     "output_type": "execute_result"
    }
   ],
   "source": [
    "news_dataset = pd.read_csv(\"manual_dataset.csv\", index_col=0) # your file path here with True and Fake art\n",
    "news_dataset.head()"
   ]
  },
  {
   "cell_type": "code",
   "execution_count": 48,
   "metadata": {},
   "outputs": [],
   "source": [
    "def remove_news_agency_name(text):\n",
    "    return re.sub(r\"Reuters|AP|New York Times|Washington Post|Business Insider|Atlantic|Fox News|National Review|Talking Points Memo|Buzzfeed News|Guardian|NPR|Vox|CNN|BBC|Bloomberg|Daily Mail|21st Century Wire|21st Century|Al Jazeera|21WIRE|ABC News\", \"\", text)"
   ]
  },
  {
   "cell_type": "code",
   "execution_count": 49,
   "metadata": {},
   "outputs": [],
   "source": [
    "news_dataset['Text'] = news_dataset.Text.apply(lambda x: remove_news_agency_name(str(x)))"
   ]
  },
  {
   "cell_type": "code",
   "execution_count": 50,
   "metadata": {},
   "outputs": [
    {
     "name": "stderr",
     "output_type": "stream",
     "text": [
      "[nltk_data] Downloading package stopwords to\n",
      "[nltk_data]     /Users/rachelpawlik/nltk_data...\n",
      "[nltk_data]   Package stopwords is already up-to-date!\n",
      "[nltk_data] Downloading package punkt to\n",
      "[nltk_data]     /Users/rachelpawlik/nltk_data...\n",
      "[nltk_data]   Package punkt is already up-to-date!\n"
     ]
    },
    {
     "data": {
      "text/plain": [
       "True"
      ]
     },
     "execution_count": 50,
     "metadata": {},
     "output_type": "execute_result"
    }
   ],
   "source": [
    "# cleaning text column for analysis \n",
    "\n",
    "news_dataset['Text'] = news_dataset.Text.apply(lambda x:str(x))\n",
    "news_dataset['Text'] = news_dataset.Text.apply(lambda x:x.lower())\n",
    "news_dataset['Text'] = news_dataset.Text.apply(lambda x:re.sub(r'[^\\w\\s]+', ' ', x))\n",
    "nltk.download('stopwords')\n",
    "stop_words = set(stopwords.words('english'))\n",
    "def remove_stopwords(txt):\n",
    "    no_stopwords = [word for word in txt.split() if word not in stop_words]\n",
    "    return ' '.join(no_stopwords)\n",
    "news_dataset['Text'] = news_dataset['Text'].apply(remove_stopwords)\n",
    "nltk.download('punkt')"
   ]
  },
  {
   "cell_type": "code",
   "execution_count": 51,
   "metadata": {},
   "outputs": [],
   "source": [
    "# adding token column for analysis\n",
    "news_dataset[\"Text_Tokens\"] = news_dataset[\"Text\"].apply(lambda x: x.split())"
   ]
  },
  {
   "cell_type": "code",
   "execution_count": 52,
   "metadata": {},
   "outputs": [
    {
     "data": {
      "text/html": [
       "<div>\n",
       "<style scoped>\n",
       "    .dataframe tbody tr th:only-of-type {\n",
       "        vertical-align: middle;\n",
       "    }\n",
       "\n",
       "    .dataframe tbody tr th {\n",
       "        vertical-align: top;\n",
       "    }\n",
       "\n",
       "    .dataframe thead th {\n",
       "        text-align: right;\n",
       "    }\n",
       "</style>\n",
       "<table border=\"1\" class=\"dataframe\">\n",
       "  <thead>\n",
       "    <tr style=\"text-align: right;\">\n",
       "      <th></th>\n",
       "      <th>Real_Fake</th>\n",
       "      <th>News Source</th>\n",
       "      <th>Link</th>\n",
       "      <th>Date</th>\n",
       "      <th>Topic/ Keyword (if applicable)</th>\n",
       "      <th>Title</th>\n",
       "      <th>Text</th>\n",
       "      <th>Text_Tokens</th>\n",
       "    </tr>\n",
       "    <tr>\n",
       "      <th>#</th>\n",
       "      <th></th>\n",
       "      <th></th>\n",
       "      <th></th>\n",
       "      <th></th>\n",
       "      <th></th>\n",
       "      <th></th>\n",
       "      <th></th>\n",
       "      <th></th>\n",
       "    </tr>\n",
       "  </thead>\n",
       "  <tbody>\n",
       "    <tr>\n",
       "      <th>0</th>\n",
       "      <td>Real</td>\n",
       "      <td>The Globe and Mail</td>\n",
       "      <td>https://www.theglobeandmail.com/business/comme...</td>\n",
       "      <td>2/19/2024</td>\n",
       "      <td>Renewable energy</td>\n",
       "      <td>With Alberta renewables ban, business common s...</td>\n",
       "      <td>investment creates jobs expands tax revenue pr...</td>\n",
       "      <td>[investment, creates, jobs, expands, tax, reve...</td>\n",
       "    </tr>\n",
       "    <tr>\n",
       "      <th>1</th>\n",
       "      <td>Real</td>\n",
       "      <td>CBC News</td>\n",
       "      <td>https://www.cbc.ca/news/canada/calgary/oil-ind...</td>\n",
       "      <td>2/22/24</td>\n",
       "      <td>Oil</td>\n",
       "      <td>Some sectors of oil industry 'dragging their h...</td>\n",
       "      <td>prime minister justin trudeau alberta premier ...</td>\n",
       "      <td>[prime, minister, justin, trudeau, alberta, pr...</td>\n",
       "    </tr>\n",
       "    <tr>\n",
       "      <th>2</th>\n",
       "      <td>Real</td>\n",
       "      <td>CBC News</td>\n",
       "      <td>https://www.cbc.ca/news/canada/thunder-bay/cat...</td>\n",
       "      <td>03/04/24</td>\n",
       "      <td>Mining</td>\n",
       "      <td>Demanding a proper say, Cat Lake First Nation'...</td>\n",
       "      <td>cat lake first nation granted injunction pausi...</td>\n",
       "      <td>[cat, lake, first, nation, granted, injunction...</td>\n",
       "    </tr>\n",
       "    <tr>\n",
       "      <th>3</th>\n",
       "      <td>Real</td>\n",
       "      <td>CBC News</td>\n",
       "      <td>https://www.cbc.ca/news/politics/guilbeault-no...</td>\n",
       "      <td>02/14/24</td>\n",
       "      <td>Climate</td>\n",
       "      <td>Feds will stop investing in 'large' road proje...</td>\n",
       "      <td>environment minister steven guilbeault said mo...</td>\n",
       "      <td>[environment, minister, steven, guilbeault, sa...</td>\n",
       "    </tr>\n",
       "    <tr>\n",
       "      <th>4</th>\n",
       "      <td>Real</td>\n",
       "      <td>Global News</td>\n",
       "      <td>https://globalnews.ca/news/10292216/climate-ch...</td>\n",
       "      <td>02/13/2024</td>\n",
       "      <td>Climate</td>\n",
       "      <td>Floods and fires: Climate change brings health...</td>\n",
       "      <td>communities across british columbia needs prep...</td>\n",
       "      <td>[communities, across, british, columbia, needs...</td>\n",
       "    </tr>\n",
       "  </tbody>\n",
       "</table>\n",
       "</div>"
      ],
      "text/plain": [
       "  Real_Fake         News Source  \\\n",
       "#                                 \n",
       "0      Real  The Globe and Mail   \n",
       "1      Real            CBC News   \n",
       "2      Real            CBC News   \n",
       "3      Real            CBC News   \n",
       "4      Real         Global News   \n",
       "\n",
       "                                                Link        Date  \\\n",
       "#                                                                  \n",
       "0  https://www.theglobeandmail.com/business/comme...   2/19/2024   \n",
       "1  https://www.cbc.ca/news/canada/calgary/oil-ind...     2/22/24   \n",
       "2  https://www.cbc.ca/news/canada/thunder-bay/cat...    03/04/24   \n",
       "3  https://www.cbc.ca/news/politics/guilbeault-no...    02/14/24   \n",
       "4  https://globalnews.ca/news/10292216/climate-ch...  02/13/2024   \n",
       "\n",
       "  Topic/ Keyword (if applicable)  \\\n",
       "#                                  \n",
       "0               Renewable energy   \n",
       "1                            Oil   \n",
       "2                         Mining   \n",
       "3                        Climate   \n",
       "4                        Climate   \n",
       "\n",
       "                                               Title  \\\n",
       "#                                                      \n",
       "0  With Alberta renewables ban, business common s...   \n",
       "1  Some sectors of oil industry 'dragging their h...   \n",
       "2  Demanding a proper say, Cat Lake First Nation'...   \n",
       "3  Feds will stop investing in 'large' road proje...   \n",
       "4  Floods and fires: Climate change brings health...   \n",
       "\n",
       "                                                Text  \\\n",
       "#                                                      \n",
       "0  investment creates jobs expands tax revenue pr...   \n",
       "1  prime minister justin trudeau alberta premier ...   \n",
       "2  cat lake first nation granted injunction pausi...   \n",
       "3  environment minister steven guilbeault said mo...   \n",
       "4  communities across british columbia needs prep...   \n",
       "\n",
       "                                         Text_Tokens  \n",
       "#                                                     \n",
       "0  [investment, creates, jobs, expands, tax, reve...  \n",
       "1  [prime, minister, justin, trudeau, alberta, pr...  \n",
       "2  [cat, lake, first, nation, granted, injunction...  \n",
       "3  [environment, minister, steven, guilbeault, sa...  \n",
       "4  [communities, across, british, columbia, needs...  "
      ]
     },
     "execution_count": 52,
     "metadata": {},
     "output_type": "execute_result"
    }
   ],
   "source": [
    "news_dataset.head()"
   ]
  },
  {
   "cell_type": "markdown",
   "metadata": {},
   "source": [
    "# Topic Summarization of Manual Dataset"
   ]
  },
  {
   "cell_type": "markdown",
   "metadata": {},
   "source": [
    "### Length Comparison - Real vs Fake"
   ]
  },
  {
   "cell_type": "code",
   "execution_count": 53,
   "metadata": {},
   "outputs": [],
   "source": [
    "news_dataset['text_len'] = news_dataset['Text'].apply(lambda x: len(x.split()))"
   ]
  },
  {
   "cell_type": "code",
   "execution_count": 54,
   "metadata": {},
   "outputs": [
    {
     "data": {
      "text/plain": [
       "Real_Fake\n",
       "Fake    704.933333\n",
       "Real    523.533333\n",
       "Name: text_len, dtype: float64"
      ]
     },
     "execution_count": 54,
     "metadata": {},
     "output_type": "execute_result"
    }
   ],
   "source": [
    "news_dataset.groupby('Real_Fake')['text_len'].mean()"
   ]
  },
  {
   "cell_type": "code",
   "execution_count": 55,
   "metadata": {},
   "outputs": [
    {
     "name": "stdout",
     "output_type": "stream",
     "text": [
      "                 sum_sq    df         F    PR(>F)\n",
      "Real_Fake  2.467947e+05   1.0  1.045397  0.315323\n",
      "Residual   6.610173e+06  28.0       NaN       NaN\n"
     ]
    }
   ],
   "source": [
    "# ANOVA test comparing means text length of real and fake news\n",
    "text_len_ols = ols('text_len ~ Real_Fake', data=news_dataset).fit()\n",
    "table = sm.stats.anova_lm(text_len_ols, typ=2) # type 2 ANOVA DataFrame\n",
    "print(table)"
   ]
  },
  {
   "cell_type": "code",
   "execution_count": 69,
   "metadata": {},
   "outputs": [
    {
     "data": {
      "text/plain": [
       "Text(0.5, 1.0, 'Text Length by Real and Fake News')"
      ]
     },
     "execution_count": 69,
     "metadata": {},
     "output_type": "execute_result"
    },
    {
     "data": {
      "image/png": "[encoded data removed]",
      "text/plain": [
       "<Figure size 432x288 with 1 Axes>"
      ]
     },
     "metadata": {
      "needs_background": "light"
     },
     "output_type": "display_data"
    }
   ],
   "source": [
    "sns.boxplot(x='Real_Fake', y='text_len', data=news_dataset)\n",
    "plt.title('Text Length by Real and Fake News')"
   ]
  },
  {
   "cell_type": "code",
   "execution_count": 72,
   "metadata": {},
   "outputs": [
    {
     "data": {
      "text/plain": [
       "Text(0.5, 1.0, 'Text Length by Real and Fake News')"
      ]
     },
     "execution_count": 72,
     "metadata": {},
     "output_type": "execute_result"
    },
    {
     "data": {
      "image/png": "[encoded data removed]",
      "text/plain": [
       "<Figure size 432x288 with 1 Axes>"
      ]
     },
     "metadata": {
      "needs_background": "light"
     },
     "output_type": "display_data"
    }
   ],
   "source": [
    "sns.histplot(news_dataset, x='text_len', hue='Real_Fake', kde=True)\n",
    "plt.title('Text Length by Real and Fake News')"
   ]
  },
  {
   "cell_type": "markdown",
   "metadata": {},
   "source": [
    "### Polarity Comparison - Real vs Fake"
   ]
  },
  {
   "cell_type": "code",
   "execution_count": 56,
   "metadata": {},
   "outputs": [],
   "source": [
    "# creating a function to calculate the polarity of the text\n",
    "\n",
    "sent_analyzer = SentimentIntensityAnalyzer()\n",
    "def polarity(token_list, pol_type):\n",
    "    sentiment = sent_analyzer.polarity_scores(' '.join(token_list))\n",
    "    return sentiment[pol_type]"
   ]
  },
  {
   "cell_type": "code",
   "execution_count": 57,
   "metadata": {},
   "outputs": [
    {
     "data": {
      "text/plain": [
       "Real_Fake\n",
       "Fake    0.230327\n",
       "Real    0.410160\n",
       "Name: comp_sentiment, dtype: float64"
      ]
     },
     "execution_count": 57,
     "metadata": {},
     "output_type": "execute_result"
    }
   ],
   "source": [
    "news_dataset['comp_sentiment'] = news_dataset[\"Text_Tokens\"].apply(lambda x: polarity(x, 'compound'))\n",
    "news_dataset.groupby('Real_Fake')['comp_sentiment'].mean()"
   ]
  },
  {
   "cell_type": "code",
   "execution_count": 61,
   "metadata": {},
   "outputs": [],
   "source": [
    "# real news has a higher compound sentiment score than fake news --> this means that it is more positive!"
   ]
  },
  {
   "cell_type": "code",
   "execution_count": 62,
   "metadata": {},
   "outputs": [
    {
     "name": "stdout",
     "output_type": "stream",
     "text": [
      "              sum_sq    df         F    PR(>F)\n",
      "Real_Fake   0.242550   1.0  0.350612  0.558518\n",
      "Residual   19.370124  28.0       NaN       NaN\n"
     ]
    }
   ],
   "source": [
    "# ANOVA test comparing compound sentiment of real and fake news\n",
    "text_len_ols = ols('comp_sentiment ~ Real_Fake', data=news_dataset).fit()\n",
    "table = sm.stats.anova_lm(text_len_ols, typ=2) # type 2 ANOVA DataFrame\n",
    "print(table)"
   ]
  },
  {
   "cell_type": "code",
   "execution_count": 58,
   "metadata": {},
   "outputs": [
    {
     "data": {
      "text/plain": [
       "Real_Fake\n",
       "Fake    0.100467\n",
       "Real    0.085133\n",
       "Name: neg_sentiment, dtype: float64"
      ]
     },
     "execution_count": 58,
     "metadata": {},
     "output_type": "execute_result"
    }
   ],
   "source": [
    "news_dataset['neg_sentiment'] = news_dataset[\"Text_Tokens\"].apply(lambda x: polarity(x, 'neg'))\n",
    "news_dataset.groupby('Real_Fake')['neg_sentiment'].mean()"
   ]
  },
  {
   "cell_type": "code",
   "execution_count": 67,
   "metadata": {},
   "outputs": [
    {
     "name": "stdout",
     "output_type": "stream",
     "text": [
      "             sum_sq    df         F    PR(>F)\n",
      "Real_Fake  0.001763   1.0  0.600258  0.444973\n",
      "Residual   0.082253  28.0       NaN       NaN\n"
     ]
    }
   ],
   "source": [
    "# ANOVA test comparing negative sentiment of real and fake news\n",
    "text_len_ols = ols('neg_sentiment ~ Real_Fake', data=news_dataset).fit()\n",
    "table = sm.stats.anova_lm(text_len_ols, typ=2) # type 2 ANOVA DataFrame\n",
    "print(table)"
   ]
  },
  {
   "cell_type": "code",
   "execution_count": null,
   "metadata": {},
   "outputs": [],
   "source": [
    "## higher values here mean more negative content, so this shows that the fake articles are slightly more negative"
   ]
  },
  {
   "cell_type": "code",
   "execution_count": 73,
   "metadata": {},
   "outputs": [
    {
     "data": {
      "text/plain": [
       "Text(0.5, 1.0, 'Negative Sentiment by Real and Fake News')"
      ]
     },
     "execution_count": 73,
     "metadata": {},
     "output_type": "execute_result"
    },
    {
     "data": {
      "image/png": "[encoded data removed]",
      "text/plain": [
       "<Figure size 432x288 with 1 Axes>"
      ]
     },
     "metadata": {
      "needs_background": "light"
     },
     "output_type": "display_data"
    }
   ],
   "source": [
    "sns.boxplot(x='Real_Fake', y='neg_sentiment', data=news_dataset)\n",
    "plt.title('Negative Sentiment by Real and Fake News')"
   ]
  },
  {
   "cell_type": "code",
   "execution_count": 74,
   "metadata": {},
   "outputs": [
    {
     "data": {
      "text/plain": [
       "Text(0.5, 1.0, 'Compound Sentiment by Real and Fake News')"
      ]
     },
     "execution_count": 74,
     "metadata": {},
     "output_type": "execute_result"
    },
    {
     "data": {
      "image/png": "[encoded data removed]",
      "text/plain": [
       "<Figure size 432x288 with 1 Axes>"
      ]
     },
     "metadata": {
      "needs_background": "light"
     },
     "output_type": "display_data"
    }
   ],
   "source": [
    "sns.boxplot(x='Real_Fake', y='comp_sentiment', data=news_dataset)\n",
    "plt.title('Compound Sentiment by Real and Fake News')"
   ]
  },
  {
   "cell_type": "code",
   "execution_count": 65,
   "metadata": {},
   "outputs": [
    {
     "data": {
      "text/plain": [
       "Text(0.5, 1.0, 'Real News Sentiment')"
      ]
     },
     "execution_count": 65,
     "metadata": {},
     "output_type": "execute_result"
    },
    {
     "data": {
      "image/png": "[encoded data removed]",
      "text/plain": [
       "<Figure size 432x288 with 1 Axes>"
      ]
     },
     "metadata": {
      "needs_background": "light"
     },
     "output_type": "display_data"
    }
   ],
   "source": [
    "sns.histplot(news_dataset[news_dataset['Real_Fake'] == 'Real']['comp_sentiment'], kde=True)\n",
    "plt.title('Real News Sentiment') "
   ]
  },
  {
   "cell_type": "code",
   "execution_count": 66,
   "metadata": {},
   "outputs": [
    {
     "data": {
      "text/plain": [
       "Text(0.5, 1.0, 'Fake News Sentiment')"
      ]
     },
     "execution_count": 66,
     "metadata": {},
     "output_type": "execute_result"
    },
    {
     "data": {
      "image/png": "[encoded data removed]",
      "text/plain": [
       "<Figure size 432x288 with 1 Axes>"
      ]
     },
     "metadata": {
      "needs_background": "light"
     },
     "output_type": "display_data"
    }
   ],
   "source": [
    "sns.histplot(news_dataset[news_dataset['Real_Fake'] == 'Fake']['comp_sentiment'], kde=True)\n",
    "plt.title('Fake News Sentiment')"
   ]
  },
  {
   "cell_type": "markdown",
   "metadata": {},
   "source": [
    "### Most Common Word Comparison - Real vs Fake"
   ]
  },
  {
   "cell_type": "code",
   "execution_count": 78,
   "metadata": {},
   "outputs": [],
   "source": [
    "news_dataset['most_common_word'] = news_dataset['Text_Tokens'].apply(lambda x: Counter(x).most_common(3))"
   ]
  },
  {
   "cell_type": "code",
   "execution_count": 80,
   "metadata": {},
   "outputs": [],
   "source": [
    "def make_most_common_word_list(row):\n",
    "    return [word[0] for word in row]"
   ]
  },
  {
   "cell_type": "code",
   "execution_count": 81,
   "metadata": {},
   "outputs": [],
   "source": [
    "# making column that has just the words in a list and not the frequency of each word in a tuple\n",
    "news_dataset['most_common_word_l'] = news_dataset['most_common_word'].apply(make_most_common_word_list)"
   ]
  },
  {
   "cell_type": "code",
   "execution_count": 86,
   "metadata": {},
   "outputs": [
    {
     "data": {
      "text/plain": [
       "said        7\n",
       "alberta     3\n",
       "health      3\n",
       "fire        2\n",
       "thunberg    1\n",
       "Name: most_common_word_l, dtype: int64"
      ]
     },
     "execution_count": 86,
     "metadata": {},
     "output_type": "execute_result"
    }
   ],
   "source": [
    "news_dataset[news_dataset['Real_Fake'] == 'Real']['most_common_word_l'].explode().value_counts().head(5)"
   ]
  },
  {
   "cell_type": "code",
   "execution_count": 85,
   "metadata": {},
   "outputs": [
    {
     "data": {
      "text/plain": [
       "climate    5\n",
       "warming    4\n",
       "ice        2\n",
       "minimum    2\n",
       "solar      2\n",
       "Name: most_common_word_l, dtype: int64"
      ]
     },
     "execution_count": 85,
     "metadata": {},
     "output_type": "execute_result"
    }
   ],
   "source": [
    "news_dataset[news_dataset['Real_Fake'] == 'Fake']['most_common_word_l'].explode().value_counts().head(5)"
   ]
  },
  {
   "cell_type": "code",
   "execution_count": null,
   "metadata": {},
   "outputs": [],
   "source": [
    "# this makes sense, becuase \"said\" typically appears in real news articles and \"climate\" typically appears in fake news articles\n",
    "# the true words are generally more mundane, where as the fake words are more attention-grabbing"
   ]
  },
  {
   "cell_type": "markdown",
   "metadata": {},
   "source": [
    "### Most Common Part of Speech Comparison - Real vs Fake"
   ]
  },
  {
   "cell_type": "code",
   "execution_count": 87,
   "metadata": {},
   "outputs": [],
   "source": [
    "nlp = spacy.load('en_core_web_sm') "
   ]
  },
  {
   "cell_type": "code",
   "execution_count": 88,
   "metadata": {},
   "outputs": [],
   "source": [
    "def get_pos_count(tokenized_text, pos):\n",
    "    if len(tokenized_text) == 0:\n",
    "        return []\n",
    "    else:\n",
    "        doc = nlp(' '.join(tokenized_text))\n",
    "        pos_l = [token.pos_ for token in doc]\n",
    "        return Counter(pos_l)[pos]/ len(tokenized_text)"
   ]
  },
  {
   "cell_type": "code",
   "execution_count": 89,
   "metadata": {},
   "outputs": [],
   "source": [
    "# adding columns for the percentage of each part of speech in the text\n",
    "\n",
    "news_dataset['noun_count'] = news_dataset['Text_Tokens'].apply(lambda x: get_pos_count(x, 'NOUN'))\n",
    "news_dataset['verb_count'] = news_dataset['Text_Tokens'].apply(lambda x: get_pos_count(x, 'VERB'))\n",
    "news_dataset['adj_count'] = news_dataset['Text_Tokens'].apply(lambda x: get_pos_count(x, 'ADJ'))\n",
    "news_dataset['adv_count'] = news_dataset['Text_Tokens'].apply(lambda x: get_pos_count(x, 'ADV'))\n",
    "news_dataset['pron_count'] = news_dataset['Text_Tokens'].apply(lambda x: get_pos_count(x, 'PRON'))"
   ]
  },
  {
   "cell_type": "code",
   "execution_count": 91,
   "metadata": {},
   "outputs": [
    {
     "data": {
      "text/plain": [
       "Real_Fake\n",
       "Fake    0.055583\n",
       "Real    0.039470\n",
       "Name: adv_count, dtype: float64"
      ]
     },
     "execution_count": 91,
     "metadata": {},
     "output_type": "execute_result"
    }
   ],
   "source": [
    "news_dataset.groupby('Real_Fake')['adv_count'].mean()"
   ]
  },
  {
   "cell_type": "code",
   "execution_count": 92,
   "metadata": {},
   "outputs": [
    {
     "data": {
      "text/plain": [
       "Real_Fake\n",
       "Fake    0.423543\n",
       "Real    0.444601\n",
       "Name: noun_count, dtype: float64"
      ]
     },
     "execution_count": 92,
     "metadata": {},
     "output_type": "execute_result"
    }
   ],
   "source": [
    "news_dataset.groupby('Real_Fake')['noun_count'].mean()"
   ]
  },
  {
   "cell_type": "code",
   "execution_count": null,
   "metadata": {},
   "outputs": [
    {
     "data": {
      "text/plain": [
       "Real/ Fake\n",
       "Fake    0.148000\n",
       "Real    0.120882\n",
       "Name: adj_count, dtype: float64"
      ]
     },
     "metadata": {},
     "output_type": "display_data"
    }
   ],
   "source": [
    "news_dataset.groupby('Real_Fake')['adj_count'].mean()"
   ]
  },
  {
   "cell_type": "code",
   "execution_count": 94,
   "metadata": {},
   "outputs": [
    {
     "name": "stdout",
     "output_type": "stream",
     "text": [
      "             sum_sq    df         F    PR(>F)\n",
      "Real_Fake  0.003326   1.0  2.794095  0.105753\n",
      "Residual   0.033328  28.0       NaN       NaN\n"
     ]
    }
   ],
   "source": [
    "# ANOVA test comparing noun count of real and fake news\n",
    "text_len_ols = ols('noun_count ~ Real_Fake', data=news_dataset).fit()\n",
    "table = sm.stats.anova_lm(text_len_ols, typ=2) # type 2 ANOVA DataFrame\n",
    "print(table)"
   ]
  },
  {
   "cell_type": "code",
   "execution_count": 95,
   "metadata": {},
   "outputs": [
    {
     "name": "stdout",
     "output_type": "stream",
     "text": [
      "             sum_sq    df          F    PR(>F)\n",
      "Real_Fake  0.001947   1.0  11.786726  0.001875\n",
      "Residual   0.004626  28.0        NaN       NaN\n"
     ]
    }
   ],
   "source": [
    "# ANOVA test comparing adverb count of real and fake news\n",
    "text_len_ols = ols('adv_count ~ Real_Fake', data=news_dataset).fit()\n",
    "table = sm.stats.anova_lm(text_len_ols, typ=2) # type 2 ANOVA DataFrame\n",
    "print(table)"
   ]
  },
  {
   "cell_type": "code",
   "execution_count": 96,
   "metadata": {},
   "outputs": [
    {
     "name": "stdout",
     "output_type": "stream",
     "text": [
      "             sum_sq    df         F    PR(>F)\n",
      "Real_Fake  0.002938   1.0  3.322544  0.079032\n",
      "Residual   0.024757  28.0       NaN       NaN\n"
     ]
    }
   ],
   "source": [
    "# ANOVA test comparing adjective count of real and fake news\n",
    "text_len_ols = ols('adj_count ~ Real_Fake', data=news_dataset).fit()\n",
    "table = sm.stats.anova_lm(text_len_ols, typ=2) # type 2 ANOVA DataFrame\n",
    "print(table)"
   ]
  },
  {
   "cell_type": "code",
   "execution_count": null,
   "metadata": {},
   "outputs": [],
   "source": [
    "# statistical evidence that there are more adverbs and adjectives in fake news articles\n",
    "# statistical evidence that there are more nounds in real news articles"
   ]
  },
  {
   "cell_type": "code",
   "execution_count": 103,
   "metadata": {},
   "outputs": [
    {
     "data": {
      "text/plain": [
       "Text(0.5, 1.0, 'Noun Count by Real and Fake News')"
      ]
     },
     "execution_count": 103,
     "metadata": {},
     "output_type": "execute_result"
    },
    {
     "data": {
      "image/png": "[encoded data removed]",
      "text/plain": [
       "<Figure size 432x288 with 1 Axes>"
      ]
     },
     "metadata": {
      "needs_background": "light"
     },
     "output_type": "display_data"
    }
   ],
   "source": [
    "sns.boxplot(x='Real_Fake', y='noun_count', data=news_dataset)\n",
    "plt.title('Noun Count by Real and Fake News')"
   ]
  },
  {
   "cell_type": "code",
   "execution_count": 102,
   "metadata": {},
   "outputs": [
    {
     "data": {
      "text/plain": [
       "Text(0.5, 1.0, 'Adverb Count by Real and Fake News')"
      ]
     },
     "execution_count": 102,
     "metadata": {},
     "output_type": "execute_result"
    },
    {
     "data": {
      "image/png": "[encoded data removed]",
      "text/plain": [
       "<Figure size 432x288 with 1 Axes>"
      ]
     },
     "metadata": {
      "needs_background": "light"
     },
     "output_type": "display_data"
    }
   ],
   "source": [
    "sns.boxplot(x='Real_Fake', y='adv_count', data=news_dataset)\n",
    "plt.title('Adverb Count by Real and Fake News')"
   ]
  },
  {
   "cell_type": "code",
   "execution_count": 101,
   "metadata": {},
   "outputs": [
    {
     "data": {
      "text/plain": [
       "Text(0.5, 1.0, 'Adjective Count by Real and Fake News')"
      ]
     },
     "execution_count": 101,
     "metadata": {},
     "output_type": "execute_result"
    },
    {
     "data": {
      "image/png": "[encoded data removed]",
      "text/plain": [
       "<Figure size 432x288 with 1 Axes>"
      ]
     },
     "metadata": {
      "needs_background": "light"
     },
     "output_type": "display_data"
    }
   ],
   "source": [
    "sns.boxplot(x='Real_Fake', y='adj_count', data=news_dataset)\n",
    "plt.title('Adjective Count by Real and Fake News')"
   ]
  },
  {
   "cell_type": "code",
   "execution_count": null,
   "metadata": {},
   "outputs": [],
   "source": []
  }
 ],
 "metadata": {
  "kernelspec": {
   "display_name": "base",
   "language": "python",
   "name": "python3"
  },
  "language_info": {
   "codemirror_mode": {
    "name": "ipython",
    "version": 3
   },
   "file_extension": ".py",
   "mimetype": "text/x-python",
   "name": "python",
   "nbconvert_exporter": "python",
   "pygments_lexer": "ipython3",
   "version": "3.9.7"
  }
 },
 "nbformat": 4,
 "nbformat_minor": 2
}
