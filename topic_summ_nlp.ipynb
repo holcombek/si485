{
 "cells": [
  {
   "cell_type": "code",
   "execution_count": 2,
   "metadata": {},
   "outputs": [],
   "source": [
    "import pandas as pd\n",
    "import numpy as np\n",
    "import matplotlib.pyplot as plt\n",
    "import seaborn as sns\n",
    "import re\n",
    "import nltk\n",
    "from nltk.corpus import stopwords\n",
    "from collections import Counter\n",
    "from nltk.tokenize import word_tokenize  "
   ]
  },
  {
   "cell_type": "code",
   "execution_count": 3,
   "metadata": {},
   "outputs": [
    {
     "name": "stdout",
     "output_type": "stream",
     "text": [
      "Requirement already satisfied: spacy in /Users/rachelpawlik/opt/anaconda3/lib/python3.9/site-packages (3.7.4)\n",
      "Requirement already satisfied: spacy-loggers<2.0.0,>=1.0.0 in /Users/rachelpawlik/opt/anaconda3/lib/python3.9/site-packages (from spacy) (1.0.5)\n",
      "Requirement already satisfied: packaging>=20.0 in /Users/rachelpawlik/opt/anaconda3/lib/python3.9/site-packages (from spacy) (21.0)\n",
      "Requirement already satisfied: murmurhash<1.1.0,>=0.28.0 in /Users/rachelpawlik/opt/anaconda3/lib/python3.9/site-packages (from spacy) (1.0.10)\n",
      "Requirement already satisfied: numpy>=1.19.0 in /Users/rachelpawlik/opt/anaconda3/lib/python3.9/site-packages (from spacy) (1.20.3)\n",
      "Requirement already satisfied: catalogue<2.1.0,>=2.0.6 in /Users/rachelpawlik/opt/anaconda3/lib/python3.9/site-packages (from spacy) (2.0.10)\n",
      "Requirement already satisfied: tqdm<5.0.0,>=4.38.0 in /Users/rachelpawlik/opt/anaconda3/lib/python3.9/site-packages (from spacy) (4.62.3)\n",
      "Requirement already satisfied: spacy-legacy<3.1.0,>=3.0.11 in /Users/rachelpawlik/opt/anaconda3/lib/python3.9/site-packages (from spacy) (3.0.12)\n",
      "Requirement already satisfied: smart-open<7.0.0,>=5.2.1 in /Users/rachelpawlik/opt/anaconda3/lib/python3.9/site-packages (from spacy) (6.4.0)\n",
      "Requirement already satisfied: cymem<2.1.0,>=2.0.2 in /Users/rachelpawlik/opt/anaconda3/lib/python3.9/site-packages (from spacy) (2.0.8)\n",
      "Requirement already satisfied: langcodes<4.0.0,>=3.2.0 in /Users/rachelpawlik/opt/anaconda3/lib/python3.9/site-packages (from spacy) (3.3.0)\n",
      "Requirement already satisfied: jinja2 in /Users/rachelpawlik/opt/anaconda3/lib/python3.9/site-packages (from spacy) (2.11.3)\n",
      "Requirement already satisfied: wasabi<1.2.0,>=0.9.1 in /Users/rachelpawlik/opt/anaconda3/lib/python3.9/site-packages (from spacy) (1.1.2)\n",
      "Requirement already satisfied: srsly<3.0.0,>=2.4.3 in /Users/rachelpawlik/opt/anaconda3/lib/python3.9/site-packages (from spacy) (2.4.8)\n",
      "Requirement already satisfied: weasel<0.4.0,>=0.1.0 in /Users/rachelpawlik/opt/anaconda3/lib/python3.9/site-packages (from spacy) (0.3.4)\n",
      "Requirement already satisfied: thinc<8.3.0,>=8.2.2 in /Users/rachelpawlik/opt/anaconda3/lib/python3.9/site-packages (from spacy) (8.2.3)\n",
      "Requirement already satisfied: typer<0.10.0,>=0.3.0 in /Users/rachelpawlik/opt/anaconda3/lib/python3.9/site-packages (from spacy) (0.9.0)\n",
      "Requirement already satisfied: requests<3.0.0,>=2.13.0 in /Users/rachelpawlik/opt/anaconda3/lib/python3.9/site-packages (from spacy) (2.27.1)\n",
      "Requirement already satisfied: pydantic!=1.8,!=1.8.1,<3.0.0,>=1.7.4 in /Users/rachelpawlik/opt/anaconda3/lib/python3.9/site-packages (from spacy) (2.6.3)\n",
      "Requirement already satisfied: setuptools in /Users/rachelpawlik/opt/anaconda3/lib/python3.9/site-packages (from spacy) (58.0.4)\n",
      "Requirement already satisfied: preshed<3.1.0,>=3.0.2 in /Users/rachelpawlik/opt/anaconda3/lib/python3.9/site-packages (from spacy) (3.0.9)\n",
      "Requirement already satisfied: pyparsing>=2.0.2 in /Users/rachelpawlik/opt/anaconda3/lib/python3.9/site-packages (from packaging>=20.0->spacy) (3.0.4)\n",
      "Requirement already satisfied: typing-extensions>=4.6.1 in /Users/rachelpawlik/opt/anaconda3/lib/python3.9/site-packages (from pydantic!=1.8,!=1.8.1,<3.0.0,>=1.7.4->spacy) (4.10.0)\n",
      "Requirement already satisfied: pydantic-core==2.16.3 in /Users/rachelpawlik/opt/anaconda3/lib/python3.9/site-packages (from pydantic!=1.8,!=1.8.1,<3.0.0,>=1.7.4->spacy) (2.16.3)\n",
      "Requirement already satisfied: annotated-types>=0.4.0 in /Users/rachelpawlik/opt/anaconda3/lib/python3.9/site-packages (from pydantic!=1.8,!=1.8.1,<3.0.0,>=1.7.4->spacy) (0.6.0)\n",
      "Requirement already satisfied: idna<4,>=2.5 in /Users/rachelpawlik/opt/anaconda3/lib/python3.9/site-packages (from requests<3.0.0,>=2.13.0->spacy) (3.2)\n",
      "Requirement already satisfied: certifi>=2017.4.17 in /Users/rachelpawlik/opt/anaconda3/lib/python3.9/site-packages (from requests<3.0.0,>=2.13.0->spacy) (2021.10.8)\n",
      "Requirement already satisfied: charset-normalizer~=2.0.0 in /Users/rachelpawlik/opt/anaconda3/lib/python3.9/site-packages (from requests<3.0.0,>=2.13.0->spacy) (2.0.4)\n",
      "Requirement already satisfied: urllib3<1.27,>=1.21.1 in /Users/rachelpawlik/opt/anaconda3/lib/python3.9/site-packages (from requests<3.0.0,>=2.13.0->spacy) (1.26.7)\n",
      "Requirement already satisfied: confection<1.0.0,>=0.0.1 in /Users/rachelpawlik/opt/anaconda3/lib/python3.9/site-packages (from thinc<8.3.0,>=8.2.2->spacy) (0.1.4)\n",
      "Requirement already satisfied: blis<0.8.0,>=0.7.8 in /Users/rachelpawlik/opt/anaconda3/lib/python3.9/site-packages (from thinc<8.3.0,>=8.2.2->spacy) (0.7.11)\n",
      "Requirement already satisfied: click<9.0.0,>=7.1.1 in /Users/rachelpawlik/opt/anaconda3/lib/python3.9/site-packages (from typer<0.10.0,>=0.3.0->spacy) (8.0.3)\n",
      "Requirement already satisfied: cloudpathlib<0.17.0,>=0.7.0 in /Users/rachelpawlik/opt/anaconda3/lib/python3.9/site-packages (from weasel<0.4.0,>=0.1.0->spacy) (0.16.0)\n",
      "Requirement already satisfied: MarkupSafe>=0.23 in /Users/rachelpawlik/opt/anaconda3/lib/python3.9/site-packages (from jinja2->spacy) (1.1.1)\n"
     ]
    }
   ],
   "source": [
    "!pip install -U spacy"
   ]
  },
  {
   "cell_type": "code",
   "execution_count": 4,
   "metadata": {},
   "outputs": [
    {
     "name": "stdout",
     "output_type": "stream",
     "text": [
      "Collecting en-core-web-sm==3.7.1\n",
      "  Downloading https://github.com/explosion/spacy-models/releases/download/en_core_web_sm-3.7.1/en_core_web_sm-3.7.1-py3-none-any.whl (12.8 MB)\n",
      "\u001b[K     |████████████████████████████████| 12.8 MB 1.8 MB/s eta 0:00:01\n",
      "\u001b[?25hRequirement already satisfied: spacy<3.8.0,>=3.7.2 in /Users/rachelpawlik/opt/anaconda3/lib/python3.9/site-packages (from en-core-web-sm==3.7.1) (3.7.4)\n",
      "Requirement already satisfied: srsly<3.0.0,>=2.4.3 in /Users/rachelpawlik/opt/anaconda3/lib/python3.9/site-packages (from spacy<3.8.0,>=3.7.2->en-core-web-sm==3.7.1) (2.4.8)\n",
      "Requirement already satisfied: catalogue<2.1.0,>=2.0.6 in /Users/rachelpawlik/opt/anaconda3/lib/python3.9/site-packages (from spacy<3.8.0,>=3.7.2->en-core-web-sm==3.7.1) (2.0.10)\n",
      "Requirement already satisfied: murmurhash<1.1.0,>=0.28.0 in /Users/rachelpawlik/opt/anaconda3/lib/python3.9/site-packages (from spacy<3.8.0,>=3.7.2->en-core-web-sm==3.7.1) (1.0.10)\n",
      "Requirement already satisfied: weasel<0.4.0,>=0.1.0 in /Users/rachelpawlik/opt/anaconda3/lib/python3.9/site-packages (from spacy<3.8.0,>=3.7.2->en-core-web-sm==3.7.1) (0.3.4)\n",
      "Requirement already satisfied: wasabi<1.2.0,>=0.9.1 in /Users/rachelpawlik/opt/anaconda3/lib/python3.9/site-packages (from spacy<3.8.0,>=3.7.2->en-core-web-sm==3.7.1) (1.1.2)\n",
      "Requirement already satisfied: numpy>=1.19.0 in /Users/rachelpawlik/opt/anaconda3/lib/python3.9/site-packages (from spacy<3.8.0,>=3.7.2->en-core-web-sm==3.7.1) (1.20.3)\n",
      "Requirement already satisfied: packaging>=20.0 in /Users/rachelpawlik/opt/anaconda3/lib/python3.9/site-packages (from spacy<3.8.0,>=3.7.2->en-core-web-sm==3.7.1) (21.0)\n",
      "Requirement already satisfied: setuptools in /Users/rachelpawlik/opt/anaconda3/lib/python3.9/site-packages (from spacy<3.8.0,>=3.7.2->en-core-web-sm==3.7.1) (58.0.4)\n",
      "Requirement already satisfied: preshed<3.1.0,>=3.0.2 in /Users/rachelpawlik/opt/anaconda3/lib/python3.9/site-packages (from spacy<3.8.0,>=3.7.2->en-core-web-sm==3.7.1) (3.0.9)\n",
      "Requirement already satisfied: thinc<8.3.0,>=8.2.2 in /Users/rachelpawlik/opt/anaconda3/lib/python3.9/site-packages (from spacy<3.8.0,>=3.7.2->en-core-web-sm==3.7.1) (8.2.3)\n",
      "Requirement already satisfied: pydantic!=1.8,!=1.8.1,<3.0.0,>=1.7.4 in /Users/rachelpawlik/opt/anaconda3/lib/python3.9/site-packages (from spacy<3.8.0,>=3.7.2->en-core-web-sm==3.7.1) (2.6.3)\n",
      "Requirement already satisfied: langcodes<4.0.0,>=3.2.0 in /Users/rachelpawlik/opt/anaconda3/lib/python3.9/site-packages (from spacy<3.8.0,>=3.7.2->en-core-web-sm==3.7.1) (3.3.0)\n",
      "Requirement already satisfied: spacy-loggers<2.0.0,>=1.0.0 in /Users/rachelpawlik/opt/anaconda3/lib/python3.9/site-packages (from spacy<3.8.0,>=3.7.2->en-core-web-sm==3.7.1) (1.0.5)\n",
      "Requirement already satisfied: cymem<2.1.0,>=2.0.2 in /Users/rachelpawlik/opt/anaconda3/lib/python3.9/site-packages (from spacy<3.8.0,>=3.7.2->en-core-web-sm==3.7.1) (2.0.8)\n",
      "Requirement already satisfied: typer<0.10.0,>=0.3.0 in /Users/rachelpawlik/opt/anaconda3/lib/python3.9/site-packages (from spacy<3.8.0,>=3.7.2->en-core-web-sm==3.7.1) (0.9.0)\n",
      "Requirement already satisfied: spacy-legacy<3.1.0,>=3.0.11 in /Users/rachelpawlik/opt/anaconda3/lib/python3.9/site-packages (from spacy<3.8.0,>=3.7.2->en-core-web-sm==3.7.1) (3.0.12)\n",
      "Requirement already satisfied: requests<3.0.0,>=2.13.0 in /Users/rachelpawlik/opt/anaconda3/lib/python3.9/site-packages (from spacy<3.8.0,>=3.7.2->en-core-web-sm==3.7.1) (2.27.1)\n",
      "Requirement already satisfied: jinja2 in /Users/rachelpawlik/opt/anaconda3/lib/python3.9/site-packages (from spacy<3.8.0,>=3.7.2->en-core-web-sm==3.7.1) (2.11.3)\n",
      "Requirement already satisfied: tqdm<5.0.0,>=4.38.0 in /Users/rachelpawlik/opt/anaconda3/lib/python3.9/site-packages (from spacy<3.8.0,>=3.7.2->en-core-web-sm==3.7.1) (4.62.3)\n",
      "Requirement already satisfied: smart-open<7.0.0,>=5.2.1 in /Users/rachelpawlik/opt/anaconda3/lib/python3.9/site-packages (from spacy<3.8.0,>=3.7.2->en-core-web-sm==3.7.1) (6.4.0)\n",
      "Requirement already satisfied: pyparsing>=2.0.2 in /Users/rachelpawlik/opt/anaconda3/lib/python3.9/site-packages (from packaging>=20.0->spacy<3.8.0,>=3.7.2->en-core-web-sm==3.7.1) (3.0.4)\n",
      "Requirement already satisfied: typing-extensions>=4.6.1 in /Users/rachelpawlik/opt/anaconda3/lib/python3.9/site-packages (from pydantic!=1.8,!=1.8.1,<3.0.0,>=1.7.4->spacy<3.8.0,>=3.7.2->en-core-web-sm==3.7.1) (4.10.0)\n",
      "Requirement already satisfied: pydantic-core==2.16.3 in /Users/rachelpawlik/opt/anaconda3/lib/python3.9/site-packages (from pydantic!=1.8,!=1.8.1,<3.0.0,>=1.7.4->spacy<3.8.0,>=3.7.2->en-core-web-sm==3.7.1) (2.16.3)\n",
      "Requirement already satisfied: annotated-types>=0.4.0 in /Users/rachelpawlik/opt/anaconda3/lib/python3.9/site-packages (from pydantic!=1.8,!=1.8.1,<3.0.0,>=1.7.4->spacy<3.8.0,>=3.7.2->en-core-web-sm==3.7.1) (0.6.0)\n",
      "Requirement already satisfied: idna<4,>=2.5 in /Users/rachelpawlik/opt/anaconda3/lib/python3.9/site-packages (from requests<3.0.0,>=2.13.0->spacy<3.8.0,>=3.7.2->en-core-web-sm==3.7.1) (3.2)\n",
      "Requirement already satisfied: certifi>=2017.4.17 in /Users/rachelpawlik/opt/anaconda3/lib/python3.9/site-packages (from requests<3.0.0,>=2.13.0->spacy<3.8.0,>=3.7.2->en-core-web-sm==3.7.1) (2021.10.8)\n",
      "Requirement already satisfied: charset-normalizer~=2.0.0 in /Users/rachelpawlik/opt/anaconda3/lib/python3.9/site-packages (from requests<3.0.0,>=2.13.0->spacy<3.8.0,>=3.7.2->en-core-web-sm==3.7.1) (2.0.4)\n",
      "Requirement already satisfied: urllib3<1.27,>=1.21.1 in /Users/rachelpawlik/opt/anaconda3/lib/python3.9/site-packages (from requests<3.0.0,>=2.13.0->spacy<3.8.0,>=3.7.2->en-core-web-sm==3.7.1) (1.26.7)\n",
      "Requirement already satisfied: confection<1.0.0,>=0.0.1 in /Users/rachelpawlik/opt/anaconda3/lib/python3.9/site-packages (from thinc<8.3.0,>=8.2.2->spacy<3.8.0,>=3.7.2->en-core-web-sm==3.7.1) (0.1.4)\n",
      "Requirement already satisfied: blis<0.8.0,>=0.7.8 in /Users/rachelpawlik/opt/anaconda3/lib/python3.9/site-packages (from thinc<8.3.0,>=8.2.2->spacy<3.8.0,>=3.7.2->en-core-web-sm==3.7.1) (0.7.11)\n",
      "Requirement already satisfied: click<9.0.0,>=7.1.1 in /Users/rachelpawlik/opt/anaconda3/lib/python3.9/site-packages (from typer<0.10.0,>=0.3.0->spacy<3.8.0,>=3.7.2->en-core-web-sm==3.7.1) (8.0.3)\n",
      "Requirement already satisfied: cloudpathlib<0.17.0,>=0.7.0 in /Users/rachelpawlik/opt/anaconda3/lib/python3.9/site-packages (from weasel<0.4.0,>=0.1.0->spacy<3.8.0,>=3.7.2->en-core-web-sm==3.7.1) (0.16.0)\n",
      "Requirement already satisfied: MarkupSafe>=0.23 in /Users/rachelpawlik/opt/anaconda3/lib/python3.9/site-packages (from jinja2->spacy<3.8.0,>=3.7.2->en-core-web-sm==3.7.1) (1.1.1)\n",
      "\u001b[38;5;2m✔ Download and installation successful\u001b[0m\n",
      "You can now load the package via spacy.load('en_core_web_sm')\n"
     ]
    }
   ],
   "source": [
    "!python -m spacy download en_core_web_sm"
   ]
  },
  {
   "cell_type": "code",
   "execution_count": 5,
   "metadata": {},
   "outputs": [],
   "source": [
    "import spacy"
   ]
  },
  {
   "cell_type": "code",
   "execution_count": 6,
   "metadata": {},
   "outputs": [
    {
     "data": {
      "text/html": [
       "<div>\n",
       "<style scoped>\n",
       "    .dataframe tbody tr th:only-of-type {\n",
       "        vertical-align: middle;\n",
       "    }\n",
       "\n",
       "    .dataframe tbody tr th {\n",
       "        vertical-align: top;\n",
       "    }\n",
       "\n",
       "    .dataframe thead th {\n",
       "        text-align: right;\n",
       "    }\n",
       "</style>\n",
       "<table border=\"1\" class=\"dataframe\">\n",
       "  <thead>\n",
       "    <tr style=\"text-align: right;\">\n",
       "      <th></th>\n",
       "      <th>Real/ Fake</th>\n",
       "      <th>News Source</th>\n",
       "      <th>Link</th>\n",
       "      <th>Date</th>\n",
       "      <th>Topic/ Keyword (if applicable)</th>\n",
       "      <th>Title</th>\n",
       "      <th>Text</th>\n",
       "    </tr>\n",
       "    <tr>\n",
       "      <th>#</th>\n",
       "      <th></th>\n",
       "      <th></th>\n",
       "      <th></th>\n",
       "      <th></th>\n",
       "      <th></th>\n",
       "      <th></th>\n",
       "      <th></th>\n",
       "    </tr>\n",
       "  </thead>\n",
       "  <tbody>\n",
       "    <tr>\n",
       "      <th>0</th>\n",
       "      <td>Real</td>\n",
       "      <td>The Globe and Mail</td>\n",
       "      <td>https://www.theglobeandmail.com/business/comme...</td>\n",
       "      <td>2/19/2024</td>\n",
       "      <td>Renewable energy</td>\n",
       "      <td>With Alberta renewables ban, business common s...</td>\n",
       "      <td>Investment creates jobs, expands tax revenue, ...</td>\n",
       "    </tr>\n",
       "    <tr>\n",
       "      <th>1</th>\n",
       "      <td>Real</td>\n",
       "      <td>CBC News</td>\n",
       "      <td>https://www.cbc.ca/news/canada/calgary/oil-ind...</td>\n",
       "      <td>2/22/24</td>\n",
       "      <td>Oil</td>\n",
       "      <td>Some sectors of oil industry 'dragging their h...</td>\n",
       "      <td>Prime Minister Justin Trudeau and Alberta Prem...</td>\n",
       "    </tr>\n",
       "    <tr>\n",
       "      <th>2</th>\n",
       "      <td>Real</td>\n",
       "      <td>CBC News</td>\n",
       "      <td>https://www.cbc.ca/news/canada/thunder-bay/cat...</td>\n",
       "      <td>03/04/24</td>\n",
       "      <td>Mining</td>\n",
       "      <td>Demanding a proper say, Cat Lake First Nation'...</td>\n",
       "      <td>Cat Lake First Nation has been granted an inju...</td>\n",
       "    </tr>\n",
       "    <tr>\n",
       "      <th>3</th>\n",
       "      <td>Real</td>\n",
       "      <td>CBC News</td>\n",
       "      <td>https://www.cbc.ca/news/politics/guilbeault-no...</td>\n",
       "      <td>02/14/24</td>\n",
       "      <td>Climate</td>\n",
       "      <td>Feds will stop investing in 'large' road proje...</td>\n",
       "      <td>Environment Minister Steven Guilbeault said Mo...</td>\n",
       "    </tr>\n",
       "    <tr>\n",
       "      <th>4</th>\n",
       "      <td>Real</td>\n",
       "      <td>Global News</td>\n",
       "      <td>https://globalnews.ca/news/10292216/climate-ch...</td>\n",
       "      <td>02/13/2024</td>\n",
       "      <td>Climate</td>\n",
       "      <td>Floods and fires: Climate change brings health...</td>\n",
       "      <td>Communities across British Columbia needs to p...</td>\n",
       "    </tr>\n",
       "    <tr>\n",
       "      <th>5</th>\n",
       "      <td>Real</td>\n",
       "      <td>CBC News</td>\n",
       "      <td>https://www.cbc.ca/news/canada/toronto/ontario...</td>\n",
       "      <td>02/08/24</td>\n",
       "      <td>Climate</td>\n",
       "      <td>New mineral processing plants touted as 'missi...</td>\n",
       "      <td>A Canadian mining company will announce plans ...</td>\n",
       "    </tr>\n",
       "    <tr>\n",
       "      <th>6</th>\n",
       "      <td>Real</td>\n",
       "      <td>Financial Post</td>\n",
       "      <td>https://financialpost.com/pmn/business-pmn/inf...</td>\n",
       "      <td>03/04/24</td>\n",
       "      <td>Climate</td>\n",
       "      <td>Infernos Rage From Texas to Australia as Fire ...</td>\n",
       "      <td>(Bloomberg) — After a year of deadly wildfires...</td>\n",
       "    </tr>\n",
       "    <tr>\n",
       "      <th>7</th>\n",
       "      <td>Real</td>\n",
       "      <td>CBC News</td>\n",
       "      <td>https://www.cbc.ca/news/canada/saskatchewan/sa...</td>\n",
       "      <td>03/05/24</td>\n",
       "      <td>Climate</td>\n",
       "      <td>Sask. farmer 'breathing a sigh of relief' afte...</td>\n",
       "      <td>A Saskatchewan farmer says she is thrilled wit...</td>\n",
       "    </tr>\n",
       "    <tr>\n",
       "      <th>8</th>\n",
       "      <td>Real</td>\n",
       "      <td>CBC News</td>\n",
       "      <td>https://www.cbc.ca/news/canada/british-columbi...</td>\n",
       "      <td>03/03/24</td>\n",
       "      <td>Wildfire</td>\n",
       "      <td>Inaccurate government data may be stoking wild...</td>\n",
       "      <td>Wildfire fighting and forest management decisi...</td>\n",
       "    </tr>\n",
       "    <tr>\n",
       "      <th>9</th>\n",
       "      <td>Real</td>\n",
       "      <td>Calgary Herald</td>\n",
       "      <td>https://calgaryherald.com/opinion/columnists/v...</td>\n",
       "      <td>2/14/2024</td>\n",
       "      <td>Oil</td>\n",
       "      <td>Varcoe: Smith says Alberta won't sterilize 'pr...</td>\n",
       "      <td>Alberta remained a powerful magnet for investm...</td>\n",
       "    </tr>\n",
       "    <tr>\n",
       "      <th>10</th>\n",
       "      <td>Fake</td>\n",
       "      <td>Epoch Times</td>\n",
       "      <td>https://archive.is/aluG2</td>\n",
       "      <td>02/04/2024</td>\n",
       "      <td>Climate Change</td>\n",
       "      <td>UN Says Melting Arctic Ice is a Key Indicator ...</td>\n",
       "      <td>It’s bad news for polar bears, according to th...</td>\n",
       "    </tr>\n",
       "    <tr>\n",
       "      <th>11</th>\n",
       "      <td>Fake</td>\n",
       "      <td>Daily Mail</td>\n",
       "      <td>https://archive.is/xs3ox</td>\n",
       "      <td>12/13/2023</td>\n",
       "      <td>Greenhouse Gases/Emissions</td>\n",
       "      <td>Now scientists say BREATHING is bad for the en...</td>\n",
       "      <td>Whether it's eating less meat or cycling inste...</td>\n",
       "    </tr>\n",
       "    <tr>\n",
       "      <th>12</th>\n",
       "      <td>Fake</td>\n",
       "      <td>WSJ</td>\n",
       "      <td>https://archive.is/uFBw4</td>\n",
       "      <td>11/03/2023</td>\n",
       "      <td>Global Warming</td>\n",
       "      <td>The Earth Is Warming, but Is CO2 the Cause?</td>\n",
       "      <td>If this column has ever plagiarized itself, it...</td>\n",
       "    </tr>\n",
       "    <tr>\n",
       "      <th>13</th>\n",
       "      <td>Fake</td>\n",
       "      <td>Epoch Times</td>\n",
       "      <td>https://archive.ph/mWpxh</td>\n",
       "      <td>08/29/2023</td>\n",
       "      <td>Climate Change</td>\n",
       "      <td>Over 1,600 Scientists Sign ‘No Climate Emergen...</td>\n",
       "      <td>International scientists have jointly signed a...</td>\n",
       "    </tr>\n",
       "    <tr>\n",
       "      <th>14</th>\n",
       "      <td>Fake</td>\n",
       "      <td>Epoch Times</td>\n",
       "      <td>https://archive.ph/yRzbP</td>\n",
       "      <td>09/06/2022</td>\n",
       "      <td>Climate Change</td>\n",
       "      <td>EXCLUSIVE: Former Greenpeace Founder Patrick M...</td>\n",
       "      <td>Patrick Moore, one of the founders of Greenpea...</td>\n",
       "    </tr>\n",
       "    <tr>\n",
       "      <th>15</th>\n",
       "      <td>Fake</td>\n",
       "      <td>The Guardian</td>\n",
       "      <td>https://archive.is/b2yY7</td>\n",
       "      <td>03/20/2021</td>\n",
       "      <td>Solar Radiation</td>\n",
       "      <td>‘Our biggest challenge? Lack of imagination’: ...</td>\n",
       "      <td>Flying into Egypt in early February to make th...</td>\n",
       "    </tr>\n",
       "    <tr>\n",
       "      <th>16</th>\n",
       "      <td>Fake</td>\n",
       "      <td>The Sun</td>\n",
       "      <td>https://archive.is/ArD82</td>\n",
       "      <td>05/13/2020</td>\n",
       "      <td>Solar Radiation</td>\n",
       "      <td>SUN DOWN The sun has gone into ‘lockdown’ whic...</td>\n",
       "      <td>OUR sun has gone into lockdown, which could ca...</td>\n",
       "    </tr>\n",
       "    <tr>\n",
       "      <th>17</th>\n",
       "      <td>Fake</td>\n",
       "      <td>Express</td>\n",
       "      <td>https://archive.is/MWRgn</td>\n",
       "      <td>2/18/2020</td>\n",
       "      <td>Global Warming</td>\n",
       "      <td>Global warming slowing down? 'Ironic' study fi...</td>\n",
       "      <td>GLOBAL WARMING has been \"ironically\" set back ...</td>\n",
       "    </tr>\n",
       "    <tr>\n",
       "      <th>18</th>\n",
       "      <td>Fake</td>\n",
       "      <td>The Sun</td>\n",
       "      <td>https://archive.is/uUzZO</td>\n",
       "      <td>02/02/2020</td>\n",
       "      <td>Ice Age</td>\n",
       "      <td>CHILL IN THE AIR Earth about to enter 30-YEAR ...</td>\n",
       "      <td>EARTH could face frosty weather and biting sno...</td>\n",
       "    </tr>\n",
       "    <tr>\n",
       "      <th>19</th>\n",
       "      <td>Fake</td>\n",
       "      <td>Ecology News</td>\n",
       "      <td>https://archive.is/Cb5wI</td>\n",
       "      <td>08/26/2019</td>\n",
       "      <td>Wind Turbines</td>\n",
       "      <td>Harvard study finds that wind turbines create ...</td>\n",
       "      <td>Harvard study finds that wind turbines create ...</td>\n",
       "    </tr>\n",
       "  </tbody>\n",
       "</table>\n",
       "</div>"
      ],
      "text/plain": [
       "   Real/ Fake         News Source  \\\n",
       "#                                   \n",
       "0        Real  The Globe and Mail   \n",
       "1        Real            CBC News   \n",
       "2        Real            CBC News   \n",
       "3        Real            CBC News   \n",
       "4        Real         Global News   \n",
       "5        Real            CBC News   \n",
       "6        Real      Financial Post   \n",
       "7        Real            CBC News   \n",
       "8        Real            CBC News   \n",
       "9        Real      Calgary Herald   \n",
       "10       Fake         Epoch Times   \n",
       "11       Fake          Daily Mail   \n",
       "12       Fake                 WSJ   \n",
       "13       Fake         Epoch Times   \n",
       "14       Fake         Epoch Times   \n",
       "15       Fake        The Guardian   \n",
       "16       Fake             The Sun   \n",
       "17       Fake             Express   \n",
       "18       Fake             The Sun   \n",
       "19       Fake        Ecology News   \n",
       "\n",
       "                                                 Link        Date  \\\n",
       "#                                                                   \n",
       "0   https://www.theglobeandmail.com/business/comme...   2/19/2024   \n",
       "1   https://www.cbc.ca/news/canada/calgary/oil-ind...     2/22/24   \n",
       "2   https://www.cbc.ca/news/canada/thunder-bay/cat...    03/04/24   \n",
       "3   https://www.cbc.ca/news/politics/guilbeault-no...    02/14/24   \n",
       "4   https://globalnews.ca/news/10292216/climate-ch...  02/13/2024   \n",
       "5   https://www.cbc.ca/news/canada/toronto/ontario...    02/08/24   \n",
       "6   https://financialpost.com/pmn/business-pmn/inf...    03/04/24   \n",
       "7   https://www.cbc.ca/news/canada/saskatchewan/sa...    03/05/24   \n",
       "8   https://www.cbc.ca/news/canada/british-columbi...    03/03/24   \n",
       "9   https://calgaryherald.com/opinion/columnists/v...   2/14/2024   \n",
       "10                           https://archive.is/aluG2  02/04/2024   \n",
       "11                           https://archive.is/xs3ox  12/13/2023   \n",
       "12                           https://archive.is/uFBw4  11/03/2023   \n",
       "13                           https://archive.ph/mWpxh  08/29/2023   \n",
       "14                           https://archive.ph/yRzbP  09/06/2022   \n",
       "15                           https://archive.is/b2yY7  03/20/2021   \n",
       "16                           https://archive.is/ArD82  05/13/2020   \n",
       "17                           https://archive.is/MWRgn   2/18/2020   \n",
       "18                           https://archive.is/uUzZO  02/02/2020   \n",
       "19                           https://archive.is/Cb5wI  08/26/2019   \n",
       "\n",
       "   Topic/ Keyword (if applicable)  \\\n",
       "#                                   \n",
       "0                Renewable energy   \n",
       "1                             Oil   \n",
       "2                          Mining   \n",
       "3                         Climate   \n",
       "4                         Climate   \n",
       "5                         Climate   \n",
       "6                         Climate   \n",
       "7                         Climate   \n",
       "8                        Wildfire   \n",
       "9                             Oil   \n",
       "10                 Climate Change   \n",
       "11     Greenhouse Gases/Emissions   \n",
       "12                 Global Warming   \n",
       "13                 Climate Change   \n",
       "14                 Climate Change   \n",
       "15                Solar Radiation   \n",
       "16                Solar Radiation   \n",
       "17                 Global Warming   \n",
       "18                        Ice Age   \n",
       "19                  Wind Turbines   \n",
       "\n",
       "                                                Title  \\\n",
       "#                                                       \n",
       "0   With Alberta renewables ban, business common s...   \n",
       "1   Some sectors of oil industry 'dragging their h...   \n",
       "2   Demanding a proper say, Cat Lake First Nation'...   \n",
       "3   Feds will stop investing in 'large' road proje...   \n",
       "4   Floods and fires: Climate change brings health...   \n",
       "5   New mineral processing plants touted as 'missi...   \n",
       "6   Infernos Rage From Texas to Australia as Fire ...   \n",
       "7   Sask. farmer 'breathing a sigh of relief' afte...   \n",
       "8   Inaccurate government data may be stoking wild...   \n",
       "9   Varcoe: Smith says Alberta won't sterilize 'pr...   \n",
       "10  UN Says Melting Arctic Ice is a Key Indicator ...   \n",
       "11  Now scientists say BREATHING is bad for the en...   \n",
       "12        The Earth Is Warming, but Is CO2 the Cause?   \n",
       "13  Over 1,600 Scientists Sign ‘No Climate Emergen...   \n",
       "14  EXCLUSIVE: Former Greenpeace Founder Patrick M...   \n",
       "15  ‘Our biggest challenge? Lack of imagination’: ...   \n",
       "16  SUN DOWN The sun has gone into ‘lockdown’ whic...   \n",
       "17  Global warming slowing down? 'Ironic' study fi...   \n",
       "18  CHILL IN THE AIR Earth about to enter 30-YEAR ...   \n",
       "19  Harvard study finds that wind turbines create ...   \n",
       "\n",
       "                                                 Text  \n",
       "#                                                      \n",
       "0   Investment creates jobs, expands tax revenue, ...  \n",
       "1   Prime Minister Justin Trudeau and Alberta Prem...  \n",
       "2   Cat Lake First Nation has been granted an inju...  \n",
       "3   Environment Minister Steven Guilbeault said Mo...  \n",
       "4   Communities across British Columbia needs to p...  \n",
       "5   A Canadian mining company will announce plans ...  \n",
       "6   (Bloomberg) — After a year of deadly wildfires...  \n",
       "7   A Saskatchewan farmer says she is thrilled wit...  \n",
       "8   Wildfire fighting and forest management decisi...  \n",
       "9   Alberta remained a powerful magnet for investm...  \n",
       "10  It’s bad news for polar bears, according to th...  \n",
       "11  Whether it's eating less meat or cycling inste...  \n",
       "12  If this column has ever plagiarized itself, it...  \n",
       "13  International scientists have jointly signed a...  \n",
       "14  Patrick Moore, one of the founders of Greenpea...  \n",
       "15  Flying into Egypt in early February to make th...  \n",
       "16  OUR sun has gone into lockdown, which could ca...  \n",
       "17  GLOBAL WARMING has been \"ironically\" set back ...  \n",
       "18  EARTH could face frosty weather and biting sno...  \n",
       "19  Harvard study finds that wind turbines create ...  "
      ]
     },
     "execution_count": 6,
     "metadata": {},
     "output_type": "execute_result"
    }
   ],
   "source": [
    "manual_dataset = pd.read_csv(\"manual_dataset.csv\", index_col=0)\n",
    "manual_dataset"
   ]
  },
  {
   "cell_type": "code",
   "execution_count": 8,
   "metadata": {},
   "outputs": [],
   "source": [
    "def remove_news_agency_name(text):\n",
    "    return re.sub(r\"Reuters|AP|New York Times|Washington Post|Business Insider|Atlantic|Fox News|National Review|Talking Points Memo|Buzzfeed News|Guardian|NPR|Vox|CNN|BBC|Bloomberg|Daily Mail|21st Century Wire|21st Century|Al Jazeera|21WIRE|ABC News\", \"\", text)"
   ]
  },
  {
   "cell_type": "code",
   "execution_count": 9,
   "metadata": {},
   "outputs": [],
   "source": [
    "manual_dataset['Text'] = manual_dataset.Text.apply(lambda x: remove_news_agency_name(str(x)))"
   ]
  },
  {
   "cell_type": "code",
   "execution_count": 10,
   "metadata": {},
   "outputs": [
    {
     "name": "stderr",
     "output_type": "stream",
     "text": [
      "[nltk_data] Downloading package stopwords to\n",
      "[nltk_data]     /Users/rachelpawlik/nltk_data...\n",
      "[nltk_data]   Package stopwords is already up-to-date!\n",
      "[nltk_data] Downloading package punkt to\n",
      "[nltk_data]     /Users/rachelpawlik/nltk_data...\n",
      "[nltk_data]   Package punkt is already up-to-date!\n"
     ]
    },
    {
     "data": {
      "text/plain": [
       "True"
      ]
     },
     "execution_count": 10,
     "metadata": {},
     "output_type": "execute_result"
    }
   ],
   "source": [
    "manual_dataset['Text'] = manual_dataset.Text.apply(lambda x:str(x))\n",
    "manual_dataset['Text'] = manual_dataset.Text.apply(lambda x:x.lower())\n",
    "manual_dataset['Text'] = manual_dataset.Text.apply(lambda x:re.sub(r'[^\\w\\s]+', ' ', x))\n",
    "nltk.download('stopwords')\n",
    "stop_words = set(stopwords.words('english'))\n",
    "def remove_stopwords(txt):\n",
    "    no_stopwords = [word for word in txt.split() if word not in stop_words]\n",
    "    return ' '.join(no_stopwords)\n",
    "manual_dataset['Text'] = manual_dataset['Text'].apply(remove_stopwords)\n",
    "nltk.download('punkt')"
   ]
  },
  {
   "cell_type": "code",
   "execution_count": 13,
   "metadata": {},
   "outputs": [],
   "source": [
    "manual_dataset[\"Text_Tokens\"] = manual_dataset[\"Text\"].apply(lambda x: x.split())"
   ]
  },
  {
   "cell_type": "markdown",
   "metadata": {},
   "source": [
    "# Topic Summarization of Manual Dataset"
   ]
  },
  {
   "cell_type": "markdown",
   "metadata": {},
   "source": [
    "### Length Comparison - Real vs Fake"
   ]
  },
  {
   "cell_type": "code",
   "execution_count": 14,
   "metadata": {},
   "outputs": [],
   "source": [
    "manual_dataset['text_len'] = manual_dataset['Text'].apply(lambda x: len(x.split()))"
   ]
  },
  {
   "cell_type": "code",
   "execution_count": 15,
   "metadata": {},
   "outputs": [
    {
     "data": {
      "text/plain": [
       "Real/ Fake\n",
       "Fake    838.1\n",
       "Real    554.5\n",
       "Name: text_len, dtype: float64"
      ]
     },
     "execution_count": 15,
     "metadata": {},
     "output_type": "execute_result"
    }
   ],
   "source": [
    "manual_dataset.groupby('Real/ Fake')['text_len'].mean()"
   ]
  },
  {
   "cell_type": "markdown",
   "metadata": {},
   "source": [
    "### Polarity Comparison - Real vs Fake"
   ]
  },
  {
   "cell_type": "code",
   "execution_count": null,
   "metadata": {},
   "outputs": [
    {
     "name": "stderr",
     "output_type": "stream",
     "text": [
      "[nltk_data] Downloading package vader_lexicon to\n",
      "[nltk_data]     /Users/rachelpawlik/nltk_data...\n",
      "[nltk_data]   Package vader_lexicon is already up-to-date!\n"
     ]
    }
   ],
   "source": [
    "import nltk\n",
    "nltk.download('vader_lexicon')\n",
    "from nltk.sentiment.vader import SentimentIntensityAnalyzer\n",
    "sent_analyzer = SentimentIntensityAnalyzer()\n",
    "def polarity(token_list, pol_type):\n",
    "    sentiment = sent_analyzer.polarity_scores(' '.join(token_list))\n",
    "    return sentiment[pol_type]"
   ]
  },
  {
   "cell_type": "code",
   "execution_count": null,
   "metadata": {},
   "outputs": [
    {
     "data": {
      "text/plain": [
       "Real/ Fake\n",
       "Fake    0.32330\n",
       "Real    0.40524\n",
       "Name: comp_sentiment, dtype: float64"
      ]
     },
     "metadata": {},
     "output_type": "display_data"
    }
   ],
   "source": [
    "manual_dataset['comp_sentiment'] = manual_dataset[\"Text_Tokens\"].apply(lambda x: polarity(x, 'compound'))\n",
    "manual_dataset.groupby('Real/ Fake')['comp_sentiment'].mean()"
   ]
  },
  {
   "cell_type": "code",
   "execution_count": null,
   "metadata": {},
   "outputs": [
    {
     "data": {
      "text/plain": [
       "Real/ Fake\n",
       "Fake    0.0913\n",
       "Real    0.0745\n",
       "Name: neg_sentiment, dtype: float64"
      ]
     },
     "metadata": {},
     "output_type": "display_data"
    }
   ],
   "source": [
    "manual_dataset['neg_sentiment'] = manual_dataset[\"Text_Tokens\"].apply(lambda x: polarity(x, 'neg'))\n",
    "manual_dataset.groupby('Real/ Fake')['neg_sentiment'].mean()"
   ]
  },
  {
   "cell_type": "code",
   "execution_count": null,
   "metadata": {},
   "outputs": [
    {
     "data": {
      "text/plain": [
       "Real/ Fake\n",
       "Fake    0.7873\n",
       "Real    0.8037\n",
       "Name: neu_sentiment, dtype: float64"
      ]
     },
     "metadata": {},
     "output_type": "display_data"
    }
   ],
   "source": [
    "manual_dataset['neu_sentiment'] = manual_dataset[\"Text_Tokens\"].apply(lambda x: polarity(x, 'neu'))\n",
    "manual_dataset.groupby('Real/ Fake')['neu_sentiment'].mean()"
   ]
  },
  {
   "cell_type": "code",
   "execution_count": null,
   "metadata": {},
   "outputs": [
    {
     "data": {
      "text/plain": [
       "Real/ Fake\n",
       "Fake    0.1211\n",
       "Real    0.1219\n",
       "Name: pos_sentiment, dtype: float64"
      ]
     },
     "metadata": {},
     "output_type": "display_data"
    }
   ],
   "source": [
    "manual_dataset['pos_sentiment'] = manual_dataset[\"Text_Tokens\"].apply(lambda x: polarity(x, 'pos'))\n",
    "manual_dataset.groupby('Real/ Fake')['pos_sentiment'].mean()"
   ]
  },
  {
   "cell_type": "code",
   "execution_count": null,
   "metadata": {},
   "outputs": [
    {
     "data": {
      "text/plain": [
       "Text(0.5, 1.0, 'Real News Sentiment')"
      ]
     },
     "metadata": {},
     "output_type": "display_data"
    },
    {
     "data": {
      "image/png": "[encoded data removed]",
      "text/plain": [
       "<Figure size 432x288 with 1 Axes>"
      ]
     },
     "metadata": {},
     "output_type": "display_data"
    }
   ],
   "source": [
    "sns.histplot(manual_dataset[manual_dataset['Real/ Fake'] == 'Real']['comp_sentiment'], kde=True)\n",
    "plt.title('Real News Sentiment')"
   ]
  },
  {
   "cell_type": "code",
   "execution_count": null,
   "metadata": {},
   "outputs": [
    {
     "data": {
      "text/plain": [
       "Text(0.5, 1.0, 'Fake News Sentiment')"
      ]
     },
     "metadata": {},
     "output_type": "display_data"
    },
    {
     "data": {
      "image/png": "[encoded data removed]",
      "text/plain": [
       "<Figure size 432x288 with 1 Axes>"
      ]
     },
     "metadata": {},
     "output_type": "display_data"
    }
   ],
   "source": [
    "sns.histplot(manual_dataset[manual_dataset['Real/ Fake'] == 'Fake']['comp_sentiment'], kde=True)\n",
    "plt.title('Fake News Sentiment')"
   ]
  },
  {
   "cell_type": "markdown",
   "metadata": {},
   "source": [
    "### Most Common Word Comparison - Real vs Fake"
   ]
  },
  {
   "cell_type": "code",
   "execution_count": null,
   "metadata": {},
   "outputs": [],
   "source": [
    "manual_dataset['most_common_word'] = manual_dataset['Text_Tokens'].apply(lambda x: Counter(x).most_common(1)[0][0])"
   ]
  },
  {
   "cell_type": "code",
   "execution_count": null,
   "metadata": {},
   "outputs": [
    {
     "data": {
      "text/plain": [
       "said       3\n",
       "alberta    2\n",
       "first      1\n",
       "health     1\n",
       "nickel     1\n",
       "fire       1\n",
       "fuel       1\n",
       "Name: most_common_word, dtype: int64"
      ]
     },
     "metadata": {},
     "output_type": "display_data"
    }
   ],
   "source": [
    "manual_dataset[manual_dataset['Real/ Fake'] == 'Real']['most_common_word'].value_counts().head(10)"
   ]
  },
  {
   "cell_type": "code",
   "execution_count": null,
   "metadata": {},
   "outputs": [
    {
     "data": {
      "text/plain": [
       "climate     2\n",
       "ice         1\n",
       "breath      1\n",
       "moore       1\n",
       "sinai       1\n",
       "sun         1\n",
       "greening    1\n",
       "solar       1\n",
       "wind        1\n",
       "Name: most_common_word, dtype: int64"
      ]
     },
     "metadata": {},
     "output_type": "display_data"
    }
   ],
   "source": [
    "manual_dataset[manual_dataset['Real/ Fake'] == 'Fake']['most_common_word'].value_counts().head(10)"
   ]
  },
  {
   "cell_type": "markdown",
   "metadata": {},
   "source": [
    "### Most Common Part of Speech Comparison - Real vs Fake"
   ]
  },
  {
   "cell_type": "code",
   "execution_count": null,
   "metadata": {},
   "outputs": [],
   "source": [
    "nlp = spacy.load('en_core_web_sm') "
   ]
  },
  {
   "cell_type": "code",
   "execution_count": null,
   "metadata": {},
   "outputs": [],
   "source": [
    "def get_pos_count(tokenized_text, pos):\n",
    "    if len(tokenized_text) == 0:\n",
    "        return []\n",
    "    else:\n",
    "        doc = nlp(' '.join(tokenized_text))\n",
    "        pos_l = [token.pos_ for token in doc]\n",
    "        return Counter(pos_l)[pos]/ len(tokenized_text)"
   ]
  },
  {
   "cell_type": "code",
   "execution_count": null,
   "metadata": {},
   "outputs": [],
   "source": [
    "manual_dataset['noun_count'] = manual_dataset['Text_Tokens'].apply(lambda x: get_pos_count(x, 'NOUN'))\n",
    "manual_dataset['verb_count'] = manual_dataset['Text_Tokens'].apply(lambda x: get_pos_count(x, 'VERB'))\n",
    "manual_dataset['adj_count'] = manual_dataset['Text_Tokens'].apply(lambda x: get_pos_count(x, 'ADJ'))\n"
   ]
  },
  {
   "cell_type": "code",
   "execution_count": null,
   "metadata": {},
   "outputs": [
    {
     "data": {
      "text/plain": [
       "Real/ Fake\n",
       "Fake    0.419973\n",
       "Real    0.438899\n",
       "Name: noun_count, dtype: float64"
      ]
     },
     "metadata": {},
     "output_type": "display_data"
    }
   ],
   "source": [
    "manual_dataset.groupby('Real/ Fake')['noun_count'].mean()"
   ]
  },
  {
   "cell_type": "code",
   "execution_count": null,
   "metadata": {},
   "outputs": [
    {
     "data": {
      "text/plain": [
       "Real/ Fake\n",
       "Fake    0.192932\n",
       "Real    0.209309\n",
       "Name: verb_count, dtype: float64"
      ]
     },
     "metadata": {},
     "output_type": "display_data"
    }
   ],
   "source": [
    "manual_dataset.groupby('Real/ Fake')['verb_count'].mean()"
   ]
  },
  {
   "cell_type": "code",
   "execution_count": null,
   "metadata": {},
   "outputs": [
    {
     "data": {
      "text/plain": [
       "Real/ Fake\n",
       "Fake    0.148000\n",
       "Real    0.120882\n",
       "Name: adj_count, dtype: float64"
      ]
     },
     "metadata": {},
     "output_type": "display_data"
    }
   ],
   "source": [
    "manual_dataset.groupby('Real/ Fake')['adj_count'].mean()"
   ]
  },
  {
   "cell_type": "code",
   "execution_count": null,
   "metadata": {},
   "outputs": [],
   "source": []
  }
 ],
 "metadata": {
  "kernelspec": {
   "display_name": "base",
   "language": "python",
   "name": "python3"
  },
  "language_info": {
   "codemirror_mode": {
    "name": "ipython",
    "version": 3
   },
   "file_extension": ".py",
   "mimetype": "text/x-python",
   "name": "python",
   "nbconvert_exporter": "python",
   "pygments_lexer": "ipython3",
   "version": "3.9.7"
  }
 },
 "nbformat": 4,
 "nbformat_minor": 2
}
